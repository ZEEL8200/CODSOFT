{
 "cells": [
  {
   "cell_type": "code",
   "execution_count": null,
   "id": "64f0f8a3",
   "metadata": {
    "execution": {
     "iopub.execute_input": "2025-01-29T09:08:25.529350Z",
     "iopub.status.busy": "2025-01-29T09:08:25.528908Z",
     "iopub.status.idle": "2025-01-29T09:08:26.599986Z",
     "shell.execute_reply": "2025-01-29T09:08:26.598785Z"
    },
    "papermill": {
     "duration": 1.080509,
     "end_time": "2025-01-29T09:08:26.601867",
     "exception": false,
     "start_time": "2025-01-29T09:08:25.521358",
     "status": "completed"
    },
    "tags": []
   },
   "outputs": [
    {
     "name": "stdout",
     "output_type": "stream",
     "text": [
      "/kaggle/input/sms-spam-collection-dataset/spam.csv\n"
     ]
    }
   ],
   "source": [
    "import numpy as np \n",
    "import pandas as pd \n",
    "\n",
    "import os\n",
    "for dirname, _, filenames in os.walk('/kaggle/input'):\n",
    "    for filename in filenames:\n",
    "        print(os.path.join(dirname, filename))\n"
   ]
  },
  {
   "cell_type": "code",
   "execution_count": 2,
   "id": "33e2f296",
   "metadata": {
    "execution": {
     "iopub.execute_input": "2025-01-29T09:08:26.614979Z",
     "iopub.status.busy": "2025-01-29T09:08:26.614415Z",
     "iopub.status.idle": "2025-01-29T09:08:26.618953Z",
     "shell.execute_reply": "2025-01-29T09:08:26.617868Z"
    },
    "papermill": {
     "duration": 0.012949,
     "end_time": "2025-01-29T09:08:26.620851",
     "exception": false,
     "start_time": "2025-01-29T09:08:26.607902",
     "status": "completed"
    },
    "tags": []
   },
   "outputs": [],
   "source": [
    "import warnings\n",
    "warnings.filterwarnings(\"ignore\")"
   ]
  },
  {
   "cell_type": "code",
   "execution_count": 3,
   "id": "20cbc95a",
   "metadata": {
    "execution": {
     "iopub.execute_input": "2025-01-29T09:08:26.633599Z",
     "iopub.status.busy": "2025-01-29T09:08:26.633237Z",
     "iopub.status.idle": "2025-01-29T09:08:34.970492Z",
     "shell.execute_reply": "2025-01-29T09:08:34.969258Z"
    },
    "papermill": {
     "duration": 8.34579,
     "end_time": "2025-01-29T09:08:34.972394",
     "exception": false,
     "start_time": "2025-01-29T09:08:26.626604",
     "status": "completed"
    },
    "tags": []
   },
   "outputs": [],
   "source": [
    "import numpy as np\n",
    "import pandas as pd\n",
    "import matplotlib.pyplot as plt\n",
    "import seaborn as sns\n",
    "import spacy\n",
    "from sklearn.model_selection import train_test_split\n",
    "from sklearn.feature_extraction.text import TfidfVectorizer\n",
    "from sklearn.linear_model import LogisticRegression\n",
    "from sklearn.neighbors import KNeighborsClassifier\n",
    "from sklearn.naive_bayes import MultinomialNB"
   ]
  },
  {
   "cell_type": "code",
   "execution_count": 4,
   "id": "bfc9d4c5",
   "metadata": {
    "execution": {
     "iopub.execute_input": "2025-01-29T09:08:34.985959Z",
     "iopub.status.busy": "2025-01-29T09:08:34.985247Z",
     "iopub.status.idle": "2025-01-29T09:08:35.029388Z",
     "shell.execute_reply": "2025-01-29T09:08:35.027857Z"
    },
    "papermill": {
     "duration": 0.052999,
     "end_time": "2025-01-29T09:08:35.031432",
     "exception": false,
     "start_time": "2025-01-29T09:08:34.978433",
     "status": "completed"
    },
    "tags": []
   },
   "outputs": [],
   "source": [
    "df=pd.read_csv(\"/kaggle/input/sms-spam-collection-dataset/spam.csv\",encoding='latin')"
   ]
  },
  {
   "cell_type": "code",
   "execution_count": 5,
   "id": "c00396a5",
   "metadata": {
    "execution": {
     "iopub.execute_input": "2025-01-29T09:08:35.044269Z",
     "iopub.status.busy": "2025-01-29T09:08:35.043916Z",
     "iopub.status.idle": "2025-01-29T09:08:35.064413Z",
     "shell.execute_reply": "2025-01-29T09:08:35.063255Z"
    },
    "papermill": {
     "duration": 0.028799,
     "end_time": "2025-01-29T09:08:35.066091",
     "exception": false,
     "start_time": "2025-01-29T09:08:35.037292",
     "status": "completed"
    },
    "tags": []
   },
   "outputs": [],
   "source": [
    "df=df.drop(['Unnamed: 2','Unnamed: 3','Unnamed: 4'],axis=1)"
   ]
  },
  {
   "cell_type": "code",
   "execution_count": 6,
   "id": "c1ca13f6",
   "metadata": {
    "execution": {
     "iopub.execute_input": "2025-01-29T09:08:35.078972Z",
     "iopub.status.busy": "2025-01-29T09:08:35.078578Z",
     "iopub.status.idle": "2025-01-29T09:08:35.096874Z",
     "shell.execute_reply": "2025-01-29T09:08:35.095815Z"
    },
    "papermill": {
     "duration": 0.026563,
     "end_time": "2025-01-29T09:08:35.098493",
     "exception": false,
     "start_time": "2025-01-29T09:08:35.071930",
     "status": "completed"
    },
    "tags": []
   },
   "outputs": [
    {
     "data": {
      "text/html": [
       "<div>\n",
       "<style scoped>\n",
       "    .dataframe tbody tr th:only-of-type {\n",
       "        vertical-align: middle;\n",
       "    }\n",
       "\n",
       "    .dataframe tbody tr th {\n",
       "        vertical-align: top;\n",
       "    }\n",
       "\n",
       "    .dataframe thead th {\n",
       "        text-align: right;\n",
       "    }\n",
       "</style>\n",
       "<table border=\"1\" class=\"dataframe\">\n",
       "  <thead>\n",
       "    <tr style=\"text-align: right;\">\n",
       "      <th></th>\n",
       "      <th>v1</th>\n",
       "      <th>v2</th>\n",
       "    </tr>\n",
       "  </thead>\n",
       "  <tbody>\n",
       "    <tr>\n",
       "      <th>0</th>\n",
       "      <td>ham</td>\n",
       "      <td>Go until jurong point, crazy.. Available only ...</td>\n",
       "    </tr>\n",
       "    <tr>\n",
       "      <th>1</th>\n",
       "      <td>ham</td>\n",
       "      <td>Ok lar... Joking wif u oni...</td>\n",
       "    </tr>\n",
       "    <tr>\n",
       "      <th>2</th>\n",
       "      <td>spam</td>\n",
       "      <td>Free entry in 2 a wkly comp to win FA Cup fina...</td>\n",
       "    </tr>\n",
       "    <tr>\n",
       "      <th>3</th>\n",
       "      <td>ham</td>\n",
       "      <td>U dun say so early hor... U c already then say...</td>\n",
       "    </tr>\n",
       "    <tr>\n",
       "      <th>4</th>\n",
       "      <td>ham</td>\n",
       "      <td>Nah I don't think he goes to usf, he lives aro...</td>\n",
       "    </tr>\n",
       "    <tr>\n",
       "      <th>...</th>\n",
       "      <td>...</td>\n",
       "      <td>...</td>\n",
       "    </tr>\n",
       "    <tr>\n",
       "      <th>5567</th>\n",
       "      <td>spam</td>\n",
       "      <td>This is the 2nd time we have tried 2 contact u...</td>\n",
       "    </tr>\n",
       "    <tr>\n",
       "      <th>5568</th>\n",
       "      <td>ham</td>\n",
       "      <td>Will Ì_ b going to esplanade fr home?</td>\n",
       "    </tr>\n",
       "    <tr>\n",
       "      <th>5569</th>\n",
       "      <td>ham</td>\n",
       "      <td>Pity, * was in mood for that. So...any other s...</td>\n",
       "    </tr>\n",
       "    <tr>\n",
       "      <th>5570</th>\n",
       "      <td>ham</td>\n",
       "      <td>The guy did some bitching but I acted like i'd...</td>\n",
       "    </tr>\n",
       "    <tr>\n",
       "      <th>5571</th>\n",
       "      <td>ham</td>\n",
       "      <td>Rofl. Its true to its name</td>\n",
       "    </tr>\n",
       "  </tbody>\n",
       "</table>\n",
       "<p>5572 rows × 2 columns</p>\n",
       "</div>"
      ],
      "text/plain": [
       "        v1                                                 v2\n",
       "0      ham  Go until jurong point, crazy.. Available only ...\n",
       "1      ham                      Ok lar... Joking wif u oni...\n",
       "2     spam  Free entry in 2 a wkly comp to win FA Cup fina...\n",
       "3      ham  U dun say so early hor... U c already then say...\n",
       "4      ham  Nah I don't think he goes to usf, he lives aro...\n",
       "...    ...                                                ...\n",
       "5567  spam  This is the 2nd time we have tried 2 contact u...\n",
       "5568   ham              Will Ì_ b going to esplanade fr home?\n",
       "5569   ham  Pity, * was in mood for that. So...any other s...\n",
       "5570   ham  The guy did some bitching but I acted like i'd...\n",
       "5571   ham                         Rofl. Its true to its name\n",
       "\n",
       "[5572 rows x 2 columns]"
      ]
     },
     "execution_count": 6,
     "metadata": {},
     "output_type": "execute_result"
    }
   ],
   "source": [
    "df"
   ]
  },
  {
   "cell_type": "code",
   "execution_count": 7,
   "id": "6b58f116",
   "metadata": {
    "execution": {
     "iopub.execute_input": "2025-01-29T09:08:35.111517Z",
     "iopub.status.busy": "2025-01-29T09:08:35.111183Z",
     "iopub.status.idle": "2025-01-29T09:08:35.116077Z",
     "shell.execute_reply": "2025-01-29T09:08:35.115022Z"
    },
    "papermill": {
     "duration": 0.013517,
     "end_time": "2025-01-29T09:08:35.117931",
     "exception": false,
     "start_time": "2025-01-29T09:08:35.104414",
     "status": "completed"
    },
    "tags": []
   },
   "outputs": [],
   "source": [
    "df.rename({'v1':'label','v2':'message'},axis=1,inplace=True)"
   ]
  },
  {
   "cell_type": "code",
   "execution_count": 8,
   "id": "0edf80e5",
   "metadata": {
    "execution": {
     "iopub.execute_input": "2025-01-29T09:08:35.131227Z",
     "iopub.status.busy": "2025-01-29T09:08:35.130863Z",
     "iopub.status.idle": "2025-01-29T09:08:35.140560Z",
     "shell.execute_reply": "2025-01-29T09:08:35.139537Z"
    },
    "papermill": {
     "duration": 0.018461,
     "end_time": "2025-01-29T09:08:35.142404",
     "exception": false,
     "start_time": "2025-01-29T09:08:35.123943",
     "status": "completed"
    },
    "tags": []
   },
   "outputs": [
    {
     "data": {
      "text/html": [
       "<div>\n",
       "<style scoped>\n",
       "    .dataframe tbody tr th:only-of-type {\n",
       "        vertical-align: middle;\n",
       "    }\n",
       "\n",
       "    .dataframe tbody tr th {\n",
       "        vertical-align: top;\n",
       "    }\n",
       "\n",
       "    .dataframe thead th {\n",
       "        text-align: right;\n",
       "    }\n",
       "</style>\n",
       "<table border=\"1\" class=\"dataframe\">\n",
       "  <thead>\n",
       "    <tr style=\"text-align: right;\">\n",
       "      <th></th>\n",
       "      <th>label</th>\n",
       "      <th>message</th>\n",
       "    </tr>\n",
       "  </thead>\n",
       "  <tbody>\n",
       "    <tr>\n",
       "      <th>0</th>\n",
       "      <td>ham</td>\n",
       "      <td>Go until jurong point, crazy.. Available only ...</td>\n",
       "    </tr>\n",
       "    <tr>\n",
       "      <th>1</th>\n",
       "      <td>ham</td>\n",
       "      <td>Ok lar... Joking wif u oni...</td>\n",
       "    </tr>\n",
       "    <tr>\n",
       "      <th>2</th>\n",
       "      <td>spam</td>\n",
       "      <td>Free entry in 2 a wkly comp to win FA Cup fina...</td>\n",
       "    </tr>\n",
       "    <tr>\n",
       "      <th>3</th>\n",
       "      <td>ham</td>\n",
       "      <td>U dun say so early hor... U c already then say...</td>\n",
       "    </tr>\n",
       "    <tr>\n",
       "      <th>4</th>\n",
       "      <td>ham</td>\n",
       "      <td>Nah I don't think he goes to usf, he lives aro...</td>\n",
       "    </tr>\n",
       "    <tr>\n",
       "      <th>...</th>\n",
       "      <td>...</td>\n",
       "      <td>...</td>\n",
       "    </tr>\n",
       "    <tr>\n",
       "      <th>5567</th>\n",
       "      <td>spam</td>\n",
       "      <td>This is the 2nd time we have tried 2 contact u...</td>\n",
       "    </tr>\n",
       "    <tr>\n",
       "      <th>5568</th>\n",
       "      <td>ham</td>\n",
       "      <td>Will Ì_ b going to esplanade fr home?</td>\n",
       "    </tr>\n",
       "    <tr>\n",
       "      <th>5569</th>\n",
       "      <td>ham</td>\n",
       "      <td>Pity, * was in mood for that. So...any other s...</td>\n",
       "    </tr>\n",
       "    <tr>\n",
       "      <th>5570</th>\n",
       "      <td>ham</td>\n",
       "      <td>The guy did some bitching but I acted like i'd...</td>\n",
       "    </tr>\n",
       "    <tr>\n",
       "      <th>5571</th>\n",
       "      <td>ham</td>\n",
       "      <td>Rofl. Its true to its name</td>\n",
       "    </tr>\n",
       "  </tbody>\n",
       "</table>\n",
       "<p>5572 rows × 2 columns</p>\n",
       "</div>"
      ],
      "text/plain": [
       "     label                                            message\n",
       "0      ham  Go until jurong point, crazy.. Available only ...\n",
       "1      ham                      Ok lar... Joking wif u oni...\n",
       "2     spam  Free entry in 2 a wkly comp to win FA Cup fina...\n",
       "3      ham  U dun say so early hor... U c already then say...\n",
       "4      ham  Nah I don't think he goes to usf, he lives aro...\n",
       "...    ...                                                ...\n",
       "5567  spam  This is the 2nd time we have tried 2 contact u...\n",
       "5568   ham              Will Ì_ b going to esplanade fr home?\n",
       "5569   ham  Pity, * was in mood for that. So...any other s...\n",
       "5570   ham  The guy did some bitching but I acted like i'd...\n",
       "5571   ham                         Rofl. Its true to its name\n",
       "\n",
       "[5572 rows x 2 columns]"
      ]
     },
     "execution_count": 8,
     "metadata": {},
     "output_type": "execute_result"
    }
   ],
   "source": [
    "df"
   ]
  },
  {
   "cell_type": "markdown",
   "id": "d036e871",
   "metadata": {
    "papermill": {
     "duration": 0.00587,
     "end_time": "2025-01-29T09:08:35.154516",
     "exception": false,
     "start_time": "2025-01-29T09:08:35.148646",
     "status": "completed"
    },
    "tags": []
   },
   "source": [
    "## Exploratery data analysis"
   ]
  },
  {
   "cell_type": "code",
   "execution_count": 9,
   "id": "ce7f9bb3",
   "metadata": {
    "execution": {
     "iopub.execute_input": "2025-01-29T09:08:35.167803Z",
     "iopub.status.busy": "2025-01-29T09:08:35.167411Z",
     "iopub.status.idle": "2025-01-29T09:08:35.420959Z",
     "shell.execute_reply": "2025-01-29T09:08:35.419398Z"
    },
    "papermill": {
     "duration": 0.262385,
     "end_time": "2025-01-29T09:08:35.422961",
     "exception": false,
     "start_time": "2025-01-29T09:08:35.160576",
     "status": "completed"
    },
    "tags": []
   },
   "outputs": [
    {
     "data": {
      "image/png": "[encoded data removed]",
      "text/plain": [
       "<Figure size 640x480 with 1 Axes>"
      ]
     },
     "metadata": {},
     "output_type": "display_data"
    }
   ],
   "source": [
    "df['label'].value_counts().plot(kind='pie')\n",
    "plt.show()"
   ]
  },
  {
   "cell_type": "code",
   "execution_count": 10,
   "id": "6e9e5f10",
   "metadata": {
    "execution": {
     "iopub.execute_input": "2025-01-29T09:08:35.437856Z",
     "iopub.status.busy": "2025-01-29T09:08:35.437437Z",
     "iopub.status.idle": "2025-01-29T09:08:35.446012Z",
     "shell.execute_reply": "2025-01-29T09:08:35.444841Z"
    },
    "papermill": {
     "duration": 0.017995,
     "end_time": "2025-01-29T09:08:35.447840",
     "exception": false,
     "start_time": "2025-01-29T09:08:35.429845",
     "status": "completed"
    },
    "tags": []
   },
   "outputs": [],
   "source": [
    "def get_length(data):\n",
    "    return len(data)\n",
    "df['message_len']=df['message'].apply(get_length)"
   ]
  },
  {
   "cell_type": "code",
   "execution_count": 11,
   "id": "206d4995",
   "metadata": {
    "execution": {
     "iopub.execute_input": "2025-01-29T09:08:35.462659Z",
     "iopub.status.busy": "2025-01-29T09:08:35.462328Z",
     "iopub.status.idle": "2025-01-29T09:08:35.472904Z",
     "shell.execute_reply": "2025-01-29T09:08:35.471824Z"
    },
    "papermill": {
     "duration": 0.020101,
     "end_time": "2025-01-29T09:08:35.474662",
     "exception": false,
     "start_time": "2025-01-29T09:08:35.454561",
     "status": "completed"
    },
    "tags": []
   },
   "outputs": [
    {
     "data": {
      "text/html": [
       "<div>\n",
       "<style scoped>\n",
       "    .dataframe tbody tr th:only-of-type {\n",
       "        vertical-align: middle;\n",
       "    }\n",
       "\n",
       "    .dataframe tbody tr th {\n",
       "        vertical-align: top;\n",
       "    }\n",
       "\n",
       "    .dataframe thead th {\n",
       "        text-align: right;\n",
       "    }\n",
       "</style>\n",
       "<table border=\"1\" class=\"dataframe\">\n",
       "  <thead>\n",
       "    <tr style=\"text-align: right;\">\n",
       "      <th></th>\n",
       "      <th>label</th>\n",
       "      <th>message</th>\n",
       "      <th>message_len</th>\n",
       "    </tr>\n",
       "  </thead>\n",
       "  <tbody>\n",
       "    <tr>\n",
       "      <th>0</th>\n",
       "      <td>ham</td>\n",
       "      <td>Go until jurong point, crazy.. Available only ...</td>\n",
       "      <td>111</td>\n",
       "    </tr>\n",
       "    <tr>\n",
       "      <th>1</th>\n",
       "      <td>ham</td>\n",
       "      <td>Ok lar... Joking wif u oni...</td>\n",
       "      <td>29</td>\n",
       "    </tr>\n",
       "    <tr>\n",
       "      <th>2</th>\n",
       "      <td>spam</td>\n",
       "      <td>Free entry in 2 a wkly comp to win FA Cup fina...</td>\n",
       "      <td>155</td>\n",
       "    </tr>\n",
       "    <tr>\n",
       "      <th>3</th>\n",
       "      <td>ham</td>\n",
       "      <td>U dun say so early hor... U c already then say...</td>\n",
       "      <td>49</td>\n",
       "    </tr>\n",
       "    <tr>\n",
       "      <th>4</th>\n",
       "      <td>ham</td>\n",
       "      <td>Nah I don't think he goes to usf, he lives aro...</td>\n",
       "      <td>61</td>\n",
       "    </tr>\n",
       "    <tr>\n",
       "      <th>...</th>\n",
       "      <td>...</td>\n",
       "      <td>...</td>\n",
       "      <td>...</td>\n",
       "    </tr>\n",
       "    <tr>\n",
       "      <th>5567</th>\n",
       "      <td>spam</td>\n",
       "      <td>This is the 2nd time we have tried 2 contact u...</td>\n",
       "      <td>161</td>\n",
       "    </tr>\n",
       "    <tr>\n",
       "      <th>5568</th>\n",
       "      <td>ham</td>\n",
       "      <td>Will Ì_ b going to esplanade fr home?</td>\n",
       "      <td>37</td>\n",
       "    </tr>\n",
       "    <tr>\n",
       "      <th>5569</th>\n",
       "      <td>ham</td>\n",
       "      <td>Pity, * was in mood for that. So...any other s...</td>\n",
       "      <td>57</td>\n",
       "    </tr>\n",
       "    <tr>\n",
       "      <th>5570</th>\n",
       "      <td>ham</td>\n",
       "      <td>The guy did some bitching but I acted like i'd...</td>\n",
       "      <td>125</td>\n",
       "    </tr>\n",
       "    <tr>\n",
       "      <th>5571</th>\n",
       "      <td>ham</td>\n",
       "      <td>Rofl. Its true to its name</td>\n",
       "      <td>26</td>\n",
       "    </tr>\n",
       "  </tbody>\n",
       "</table>\n",
       "<p>5572 rows × 3 columns</p>\n",
       "</div>"
      ],
      "text/plain": [
       "     label                                            message  message_len\n",
       "0      ham  Go until jurong point, crazy.. Available only ...          111\n",
       "1      ham                      Ok lar... Joking wif u oni...           29\n",
       "2     spam  Free entry in 2 a wkly comp to win FA Cup fina...          155\n",
       "3      ham  U dun say so early hor... U c already then say...           49\n",
       "4      ham  Nah I don't think he goes to usf, he lives aro...           61\n",
       "...    ...                                                ...          ...\n",
       "5567  spam  This is the 2nd time we have tried 2 contact u...          161\n",
       "5568   ham              Will Ì_ b going to esplanade fr home?           37\n",
       "5569   ham  Pity, * was in mood for that. So...any other s...           57\n",
       "5570   ham  The guy did some bitching but I acted like i'd...          125\n",
       "5571   ham                         Rofl. Its true to its name           26\n",
       "\n",
       "[5572 rows x 3 columns]"
      ]
     },
     "execution_count": 11,
     "metadata": {},
     "output_type": "execute_result"
    }
   ],
   "source": [
    "df"
   ]
  },
  {
   "cell_type": "code",
   "execution_count": null,
   "id": "3dd2b707",
   "metadata": {
    "execution": {
     "iopub.execute_input": "2025-01-29T09:08:35.739388Z",
     "iopub.status.busy": "2025-01-29T09:08:35.739058Z",
     "iopub.status.idle": "2025-01-29T09:08:35.749107Z",
     "shell.execute_reply": "2025-01-29T09:08:35.747969Z"
    },
    "papermill": {
     "duration": 0.019842,
     "end_time": "2025-01-29T09:08:35.750961",
     "exception": false,
     "start_time": "2025-01-29T09:08:35.731119",
     "status": "completed"
    },
    "tags": []
   },
   "outputs": [
    {
     "name": "stdout",
     "output_type": "stream",
     "text": [
      "Maximum Spam message length is 224 \n",
      "\n",
      "Minimum Spam message length is 13\n"
     ]
    }
   ],
   "source": [
    "print('Maximum Spam message length is',df[df['label']=='spam']['message_len'].max(),'\\n')\n",
    "print('Minimum Spam message length is',df[df['label']=='spam']['message_len'].min())"
   ]
  },
  {
   "cell_type": "markdown",
   "id": "5a419748",
   "metadata": {
    "papermill": {
     "duration": 0.007618,
     "end_time": "2025-01-29T09:08:35.766013",
     "exception": false,
     "start_time": "2025-01-29T09:08:35.758395",
     "status": "completed"
    },
    "tags": []
   },
   "source": [
    "## Text Pre-processing"
   ]
  },
  {
   "cell_type": "code",
   "execution_count": 14,
   "id": "b2cd2e2d",
   "metadata": {
    "execution": {
     "iopub.execute_input": "2025-01-29T09:08:35.783233Z",
     "iopub.status.busy": "2025-01-29T09:08:35.782844Z",
     "iopub.status.idle": "2025-01-29T09:09:27.103905Z",
     "shell.execute_reply": "2025-01-29T09:09:27.102889Z"
    },
    "papermill": {
     "duration": 51.33305,
     "end_time": "2025-01-29T09:09:27.106205",
     "exception": false,
     "start_time": "2025-01-29T09:08:35.773155",
     "status": "completed"
    },
    "tags": []
   },
   "outputs": [],
   "source": [
    "nlp=spacy.load('en_core_web_sm') # make a spacy object\n",
    "def text_preprocessing(data):\n",
    "    filter_token=''\n",
    "    for token in nlp(data):\n",
    "        if not token.is_punct and not token.is_stop:\n",
    "            filter_token+=(token.lower_+' ')\n",
    "    return filter_token\n",
    "\n",
    "df['message']=df['message'].apply(text_preprocessing)"
   ]
  },
  {
   "cell_type": "code",
   "execution_count": 15,
   "id": "1de73b71",
   "metadata": {
    "execution": {
     "iopub.execute_input": "2025-01-29T09:09:27.122150Z",
     "iopub.status.busy": "2025-01-29T09:09:27.121805Z",
     "iopub.status.idle": "2025-01-29T09:09:27.132404Z",
     "shell.execute_reply": "2025-01-29T09:09:27.131316Z"
    },
    "papermill": {
     "duration": 0.020459,
     "end_time": "2025-01-29T09:09:27.134204",
     "exception": false,
     "start_time": "2025-01-29T09:09:27.113745",
     "status": "completed"
    },
    "tags": []
   },
   "outputs": [
    {
     "data": {
      "text/html": [
       "<div>\n",
       "<style scoped>\n",
       "    .dataframe tbody tr th:only-of-type {\n",
       "        vertical-align: middle;\n",
       "    }\n",
       "\n",
       "    .dataframe tbody tr th {\n",
       "        vertical-align: top;\n",
       "    }\n",
       "\n",
       "    .dataframe thead th {\n",
       "        text-align: right;\n",
       "    }\n",
       "</style>\n",
       "<table border=\"1\" class=\"dataframe\">\n",
       "  <thead>\n",
       "    <tr style=\"text-align: right;\">\n",
       "      <th></th>\n",
       "      <th>label</th>\n",
       "      <th>message</th>\n",
       "      <th>message_len</th>\n",
       "    </tr>\n",
       "  </thead>\n",
       "  <tbody>\n",
       "    <tr>\n",
       "      <th>0</th>\n",
       "      <td>ham</td>\n",
       "      <td>jurong point crazy available bugis n great wor...</td>\n",
       "      <td>111</td>\n",
       "    </tr>\n",
       "    <tr>\n",
       "      <th>1</th>\n",
       "      <td>ham</td>\n",
       "      <td>ok lar joking wif u oni</td>\n",
       "      <td>29</td>\n",
       "    </tr>\n",
       "    <tr>\n",
       "      <th>2</th>\n",
       "      <td>spam</td>\n",
       "      <td>free entry 2 wkly comp win fa cup final tkts 2...</td>\n",
       "      <td>155</td>\n",
       "    </tr>\n",
       "    <tr>\n",
       "      <th>3</th>\n",
       "      <td>ham</td>\n",
       "      <td>u dun early hor u c</td>\n",
       "      <td>49</td>\n",
       "    </tr>\n",
       "    <tr>\n",
       "      <th>4</th>\n",
       "      <td>ham</td>\n",
       "      <td>nah think goes usf lives</td>\n",
       "      <td>61</td>\n",
       "    </tr>\n",
       "    <tr>\n",
       "      <th>...</th>\n",
       "      <td>...</td>\n",
       "      <td>...</td>\n",
       "      <td>...</td>\n",
       "    </tr>\n",
       "    <tr>\n",
       "      <th>5567</th>\n",
       "      <td>spam</td>\n",
       "      <td>2nd time tried 2 contact u. u won å£750 pound ...</td>\n",
       "      <td>161</td>\n",
       "    </tr>\n",
       "    <tr>\n",
       "      <th>5568</th>\n",
       "      <td>ham</td>\n",
       "      <td>ì b going esplanade fr home</td>\n",
       "      <td>37</td>\n",
       "    </tr>\n",
       "    <tr>\n",
       "      <th>5569</th>\n",
       "      <td>ham</td>\n",
       "      <td>pity mood suggestions</td>\n",
       "      <td>57</td>\n",
       "    </tr>\n",
       "    <tr>\n",
       "      <th>5570</th>\n",
       "      <td>ham</td>\n",
       "      <td>guy bitching acted like interested buying week...</td>\n",
       "      <td>125</td>\n",
       "    </tr>\n",
       "    <tr>\n",
       "      <th>5571</th>\n",
       "      <td>ham</td>\n",
       "      <td>rofl true</td>\n",
       "      <td>26</td>\n",
       "    </tr>\n",
       "  </tbody>\n",
       "</table>\n",
       "<p>5572 rows × 3 columns</p>\n",
       "</div>"
      ],
      "text/plain": [
       "     label                                            message  message_len\n",
       "0      ham  jurong point crazy available bugis n great wor...          111\n",
       "1      ham                           ok lar joking wif u oni            29\n",
       "2     spam  free entry 2 wkly comp win fa cup final tkts 2...          155\n",
       "3      ham                               u dun early hor u c            49\n",
       "4      ham                          nah think goes usf lives            61\n",
       "...    ...                                                ...          ...\n",
       "5567  spam  2nd time tried 2 contact u. u won å£750 pound ...          161\n",
       "5568   ham                       ì b going esplanade fr home            37\n",
       "5569   ham                             pity mood suggestions            57\n",
       "5570   ham  guy bitching acted like interested buying week...          125\n",
       "5571   ham                                         rofl true            26\n",
       "\n",
       "[5572 rows x 3 columns]"
      ]
     },
     "execution_count": 15,
     "metadata": {},
     "output_type": "execute_result"
    }
   ],
   "source": [
    "df"
   ]
  },
  {
   "cell_type": "code",
   "execution_count": 16,
   "id": "5074a6c7",
   "metadata": {
    "execution": {
     "iopub.execute_input": "2025-01-29T09:09:27.164863Z",
     "iopub.status.busy": "2025-01-29T09:09:27.164445Z",
     "iopub.status.idle": "2025-01-29T09:09:27.496794Z",
     "shell.execute_reply": "2025-01-29T09:09:27.495827Z"
    },
    "papermill": {
     "duration": 0.342379,
     "end_time": "2025-01-29T09:09:27.498689",
     "exception": false,
     "start_time": "2025-01-29T09:09:27.156310",
     "status": "completed"
    },
    "tags": []
   },
   "outputs": [],
   "source": [
    "vectorizer = TfidfVectorizer()\n",
    "x = vectorizer.fit_transform(df['message']).toarray()\n",
    "y = df['label']"
   ]
  },
  {
   "cell_type": "code",
   "execution_count": 17,
   "id": "a31017eb",
   "metadata": {
    "execution": {
     "iopub.execute_input": "2025-01-29T09:09:27.514909Z",
     "iopub.status.busy": "2025-01-29T09:09:27.514501Z",
     "iopub.status.idle": "2025-01-29T09:09:27.521916Z",
     "shell.execute_reply": "2025-01-29T09:09:27.520823Z"
    },
    "papermill": {
     "duration": 0.017314,
     "end_time": "2025-01-29T09:09:27.523568",
     "exception": false,
     "start_time": "2025-01-29T09:09:27.506254",
     "status": "completed"
    },
    "tags": []
   },
   "outputs": [],
   "source": [
    "def hamorspam(data):\n",
    "    if data=='ham':\n",
    "        return 0\n",
    "    return 1\n",
    "y=y.apply(hamorspam)"
   ]
  },
  {
   "cell_type": "code",
   "execution_count": 18,
   "id": "93bc0282",
   "metadata": {
    "execution": {
     "iopub.execute_input": "2025-01-29T09:09:27.539864Z",
     "iopub.status.busy": "2025-01-29T09:09:27.539463Z",
     "iopub.status.idle": "2025-01-29T09:09:27.803279Z",
     "shell.execute_reply": "2025-01-29T09:09:27.802227Z"
    },
    "papermill": {
     "duration": 0.274166,
     "end_time": "2025-01-29T09:09:27.805248",
     "exception": false,
     "start_time": "2025-01-29T09:09:27.531082",
     "status": "completed"
    },
    "tags": []
   },
   "outputs": [],
   "source": [
    "# applying train test split\n",
    "\n",
    "x_train, x_test, y_train, y_test=train_test_split(x,y,test_size=0.33,random_state=42,stratify=df['label'])"
   ]
  },
  {
   "cell_type": "markdown",
   "id": "db2b5f70",
   "metadata": {
    "papermill": {
     "duration": 0.006991,
     "end_time": "2025-01-29T09:09:27.819858",
     "exception": false,
     "start_time": "2025-01-29T09:09:27.812867",
     "status": "completed"
    },
    "tags": []
   },
   "source": [
    "## Model development using different algorithm"
   ]
  },
  {
   "cell_type": "code",
   "execution_count": 19,
   "id": "0e5515d2",
   "metadata": {
    "execution": {
     "iopub.execute_input": "2025-01-29T09:09:27.835469Z",
     "iopub.status.busy": "2025-01-29T09:09:27.835142Z",
     "iopub.status.idle": "2025-01-29T09:09:28.608388Z",
     "shell.execute_reply": "2025-01-29T09:09:28.607427Z"
    },
    "papermill": {
     "duration": 0.783271,
     "end_time": "2025-01-29T09:09:28.610288",
     "exception": false,
     "start_time": "2025-01-29T09:09:27.827017",
     "status": "completed"
    },
    "tags": []
   },
   "outputs": [],
   "source": [
    "# using Logistic Regression\n",
    "\n",
    "reg= LogisticRegression().fit(x_train, y_train)\n",
    "y_pred_lr=reg.predict(x_test)"
   ]
  },
  {
   "cell_type": "code",
   "execution_count": 20,
   "id": "1c385283",
   "metadata": {
    "execution": {
     "iopub.execute_input": "2025-01-29T09:09:28.629229Z",
     "iopub.status.busy": "2025-01-29T09:09:28.628867Z",
     "iopub.status.idle": "2025-01-29T09:09:28.636872Z",
     "shell.execute_reply": "2025-01-29T09:09:28.635652Z"
    },
    "papermill": {
     "duration": 0.018897,
     "end_time": "2025-01-29T09:09:28.638586",
     "exception": false,
     "start_time": "2025-01-29T09:09:28.619689",
     "status": "completed"
    },
    "tags": []
   },
   "outputs": [
    {
     "data": {
      "text/plain": [
       "0.9505165851005981"
      ]
     },
     "execution_count": 20,
     "metadata": {},
     "output_type": "execute_result"
    }
   ],
   "source": [
    "from sklearn.metrics import accuracy_score\n",
    "accuracy_score(y_test, y_pred_lr)"
   ]
  },
  {
   "cell_type": "code",
   "execution_count": 21,
   "id": "b338563d",
   "metadata": {
    "execution": {
     "iopub.execute_input": "2025-01-29T09:09:28.655083Z",
     "iopub.status.busy": "2025-01-29T09:09:28.654651Z",
     "iopub.status.idle": "2025-01-29T09:09:30.999553Z",
     "shell.execute_reply": "2025-01-29T09:09:30.998584Z"
    },
    "papermill": {
     "duration": 2.355214,
     "end_time": "2025-01-29T09:09:31.001391",
     "exception": false,
     "start_time": "2025-01-29T09:09:28.646177",
     "status": "completed"
    },
    "tags": []
   },
   "outputs": [],
   "source": [
    "# using KNN-classifier\n",
    "\n",
    "neigh = KNeighborsClassifier(n_neighbors=3).fit(x_train,y_train)\n",
    "y_pred_knn=neigh.predict(x_test)"
   ]
  },
  {
   "cell_type": "code",
   "execution_count": 22,
   "id": "0cab6d68",
   "metadata": {
    "execution": {
     "iopub.execute_input": "2025-01-29T09:09:31.017926Z",
     "iopub.status.busy": "2025-01-29T09:09:31.017498Z",
     "iopub.status.idle": "2025-01-29T09:09:31.025368Z",
     "shell.execute_reply": "2025-01-29T09:09:31.024254Z"
    },
    "papermill": {
     "duration": 0.017609,
     "end_time": "2025-01-29T09:09:31.026870",
     "exception": false,
     "start_time": "2025-01-29T09:09:31.009261",
     "status": "completed"
    },
    "tags": []
   },
   "outputs": [
    {
     "data": {
      "text/plain": [
       "0.912452419793366"
      ]
     },
     "execution_count": 22,
     "metadata": {},
     "output_type": "execute_result"
    }
   ],
   "source": [
    "from sklearn.metrics import accuracy_score\n",
    "accuracy_score(y_test, y_pred_knn)"
   ]
  },
  {
   "cell_type": "code",
   "execution_count": 23,
   "id": "9281f1fa",
   "metadata": {
    "execution": {
     "iopub.execute_input": "2025-01-29T09:09:31.043192Z",
     "iopub.status.busy": "2025-01-29T09:09:31.042783Z",
     "iopub.status.idle": "2025-01-29T09:09:31.169104Z",
     "shell.execute_reply": "2025-01-29T09:09:31.167888Z"
    },
    "papermill": {
     "duration": 0.136759,
     "end_time": "2025-01-29T09:09:31.171150",
     "exception": false,
     "start_time": "2025-01-29T09:09:31.034391",
     "status": "completed"
    },
    "tags": []
   },
   "outputs": [],
   "source": [
    "# using naive_bayes\n",
    "\n",
    "clf = MultinomialNB().fit(x_train,y_train)\n",
    "y_pred_naive=clf.predict(x_test)"
   ]
  },
  {
   "cell_type": "code",
   "execution_count": 24,
   "id": "0685e96f",
   "metadata": {
    "execution": {
     "iopub.execute_input": "2025-01-29T09:09:31.188419Z",
     "iopub.status.busy": "2025-01-29T09:09:31.188055Z",
     "iopub.status.idle": "2025-01-29T09:09:31.195828Z",
     "shell.execute_reply": "2025-01-29T09:09:31.194848Z"
    },
    "papermill": {
     "duration": 0.01797,
     "end_time": "2025-01-29T09:09:31.197461",
     "exception": false,
     "start_time": "2025-01-29T09:09:31.179491",
     "status": "completed"
    },
    "tags": []
   },
   "outputs": [
    {
     "data": {
      "text/plain": [
       "0.9679173463839043"
      ]
     },
     "execution_count": 24,
     "metadata": {},
     "output_type": "execute_result"
    }
   ],
   "source": [
    "from sklearn.metrics import accuracy_score\n",
    "accuracy_score(y_test, y_pred_naive)"
   ]
  },
  {
   "cell_type": "code",
   "execution_count": null,
   "id": "45728b69",
   "metadata": {
    "papermill": {
     "duration": 0.007401,
     "end_time": "2025-01-29T09:09:31.212808",
     "exception": false,
     "start_time": "2025-01-29T09:09:31.205407",
     "status": "completed"
    },
    "tags": []
   },
   "outputs": [],
   "source": []
  }
 ],
 "metadata": {
  "kaggle": {
   "accelerator": "none",
   "dataSources": [
    {
     "datasetId": 483,
     "sourceId": 982,
     "sourceType": "datasetVersion"
    }
   ],
   "dockerImageVersionId": 30839,
   "isGpuEnabled": false,
   "isInternetEnabled": true,
   "language": "python",
   "sourceType": "notebook"
  },
  "kernelspec": {
   "display_name": "Python 3",
   "language": "python",
   "name": "python3"
  },
  "language_info": {
   "codemirror_mode": {
    "name": "ipython",
    "version": 3
   },
   "file_extension": ".py",
   "mimetype": "text/x-python",
   "name": "python",
   "nbconvert_exporter": "python",
   "pygments_lexer": "ipython3",
   "version": "3.10.12"
  },
  "papermill": {
   "default_parameters": {},
   "duration": 70.433493,
   "end_time": "2025-01-29T09:09:33.144657",
   "environment_variables": {},
   "exception": null,
   "input_path": "__notebook__.ipynb",
   "output_path": "__notebook__.ipynb",
   "parameters": {},
   "start_time": "2025-01-29T09:08:22.711164",
   "version": "2.6.0"
  }
 },
 "nbformat": 4,
 "nbformat_minor": 5
}
