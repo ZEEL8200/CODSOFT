{
 "cells": [
  {
   "cell_type": "code",
   "execution_count": 1,
   "id": "54a67b0c",
   "metadata": {
    "execution": {
     "iopub.execute_input": "2025-01-13T17:52:06.648635Z",
     "iopub.status.busy": "2025-01-13T17:52:06.648186Z",
     "iopub.status.idle": "2025-01-13T17:52:15.883256Z",
     "shell.execute_reply": "2025-01-13T17:52:15.882054Z"
    },
    "papermill": {
     "duration": 9.262335,
     "end_time": "2025-01-13T17:52:15.885208",
     "exception": false,
     "start_time": "2025-01-13T17:52:06.622873",
     "status": "completed"
    },
    "tags": []
   },
   "outputs": [],
   "source": [
    "import numpy as np\n",
    "import pandas as pd\n",
    "import matplotlib.pyplot as plt\n",
    "%matplotlib inline\n",
    "import seaborn as sns\n",
    "import os\n",
    "import joblib\n",
    "\n",
    "import math\n",
    "import json\n",
    "from pathlib import Path\n",
    "import kagglehub\n",
    "import os\n",
    "import shutil\n",
    "from datetime import datetime\n",
    "\n",
    "from scipy.stats import zscore\n",
    "from statsmodels.stats.outliers_influence import variance_inflation_factor\n",
    "from statsmodels.tools.tools import add_constant\n",
    "\n",
    "from sklearn.base import BaseEstimator, TransformerMixin\n",
    "from sklearn.preprocessing import MinMaxScaler\n",
    "from sklearn.pipeline import Pipeline\n",
    "\n",
    "\n",
    "from sklearn.preprocessing import PowerTransformer, LabelEncoder\n",
    "\n",
    "from imblearn.over_sampling import SMOTE, ADASYN\n",
    "from imblearn.under_sampling import TomekLinks\n",
    "from imblearn.combine import SMOTETomek\n",
    "\n",
    "from sklearn.model_selection import cross_val_score, StratifiedKFold, GridSearchCV\n",
    "\n",
    "from sklearn.linear_model import LogisticRegression\n",
    "from sklearn.tree import DecisionTreeClassifier\n",
    "from sklearn.ensemble import (\n",
    "    RandomForestClassifier,\n",
    "    GradientBoostingClassifier,\n",
    "    AdaBoostClassifier,\n",
    ")\n",
    "from sklearn.svm import SVC\n",
    "from xgboost import XGBClassifier\n",
    "from catboost import CatBoostClassifier\n",
    "\n",
    "from sklearn.metrics import (\n",
    "    accuracy_score,\n",
    "    precision_score,\n",
    "    recall_score,\n",
    "    f1_score,\n",
    "    classification_report,\n",
    "    confusion_matrix,\n",
    "    roc_auc_score,\n",
    "    make_scorer\n",
    ")\n",
    "\n",
    "import shap\n",
    "\n",
    "\n",
    "\n",
    "import warnings\n",
    "warnings.filterwarnings('ignore')"
   ]
  },
  {
   "cell_type": "code",
   "execution_count": 2,
   "id": "7772cd18",
   "metadata": {
    "execution": {
     "iopub.execute_input": "2025-01-13T17:52:15.930019Z",
     "iopub.status.busy": "2025-01-13T17:52:15.929471Z",
     "iopub.status.idle": "2025-01-13T17:52:15.933990Z",
     "shell.execute_reply": "2025-01-13T17:52:15.932807Z"
    },
    "papermill": {
     "duration": 0.0288,
     "end_time": "2025-01-13T17:52:15.935871",
     "exception": false,
     "start_time": "2025-01-13T17:52:15.907071",
     "status": "completed"
    },
    "tags": []
   },
   "outputs": [],
   "source": [
    "random_state = 42"
   ]
  },
  {
   "cell_type": "code",
   "execution_count": 3,
   "id": "4b5ed6c2",
   "metadata": {
    "execution": {
     "iopub.execute_input": "2025-01-13T17:52:15.980441Z",
     "iopub.status.busy": "2025-01-13T17:52:15.980011Z",
     "iopub.status.idle": "2025-01-13T17:52:15.984359Z",
     "shell.execute_reply": "2025-01-13T17:52:15.983331Z"
    },
    "papermill": {
     "duration": 0.028794,
     "end_time": "2025-01-13T17:52:15.986251",
     "exception": false,
     "start_time": "2025-01-13T17:52:15.957457",
     "status": "completed"
    },
    "tags": []
   },
   "outputs": [],
   "source": [
    "pd.set_option('display.max_rows', 30)\n",
    "pd.set_option('display.max_columns', 25)"
   ]
  },
  {
   "cell_type": "code",
   "execution_count": null,
   "id": "24f70171",
   "metadata": {
    "execution": {
     "iopub.execute_input": "2025-01-13T17:52:16.074902Z",
     "iopub.status.busy": "2025-01-13T17:52:16.074532Z",
     "iopub.status.idle": "2025-01-13T17:52:24.817703Z",
     "shell.execute_reply": "2025-01-13T17:52:24.816333Z"
    },
    "papermill": {
     "duration": 8.767277,
     "end_time": "2025-01-13T17:52:24.819424",
     "exception": false,
     "start_time": "2025-01-13T17:52:16.052147",
     "status": "completed"
    },
    "tags": []
   },
   "outputs": [
    {
     "name": "stdout",
     "output_type": "stream",
     "text": [
      "The extracted files are:\n",
      "- fraudTrain.csv\n",
      "- fraudTest.csv\n"
     ]
    }
   ],
   "source": [
    "dataset_identifier = \"zeel8200/fraud-detection\"  \n",
    "input_data_folder = \"input_data\"  \n",
    "extract_dir = os.path.join(os.getcwd(), input_data_folder) \n",
    "\n",
    "path = kagglehub.dataset_download(dataset_identifier)\n",
    "\n",
    "if not os.path.exists(extract_dir):\n",
    "    os.makedirs(extract_dir)\n",
    "\n",
    "\n",
    "for file_name in os.listdir(path):\n",
    "    full_file_name = os.path.join(path, file_name)\n",
    "    if os.path.isfile(full_file_name):  # Ensure it's a file\n",
    "        shutil.copy(full_file_name, extract_dir)\n",
    "\n",
    "print(f\"The extracted files are:\")\n",
    "for file_name in os.listdir(extract_dir):\n",
    "    print(f\"- {file_name}\")"
   ]
  },
  {
   "cell_type": "code",
   "execution_count": 5,
   "id": "c891bfef",
   "metadata": {
    "execution": {
     "iopub.execute_input": "2025-01-13T17:52:24.863868Z",
     "iopub.status.busy": "2025-01-13T17:52:24.863471Z",
     "iopub.status.idle": "2025-01-13T17:52:24.867924Z",
     "shell.execute_reply": "2025-01-13T17:52:24.866656Z"
    },
    "papermill": {
     "duration": 0.028294,
     "end_time": "2025-01-13T17:52:24.869555",
     "exception": false,
     "start_time": "2025-01-13T17:52:24.841261",
     "status": "completed"
    },
    "tags": []
   },
   "outputs": [],
   "source": [
    "csv_files = ['fraudTrain.csv','fraudTest.csv']\n",
    "train_files = ['fraudTrain.csv']\n",
    "test_files = ['fraudTest.csv']"
   ]
  },
  {
   "cell_type": "code",
   "execution_count": null,
   "id": "e890bb84",
   "metadata": {
    "execution": {
     "iopub.execute_input": "2025-01-13T17:52:24.955801Z",
     "iopub.status.busy": "2025-01-13T17:52:24.955427Z",
     "iopub.status.idle": "2025-01-13T17:52:37.251866Z",
     "shell.execute_reply": "2025-01-13T17:52:37.250905Z"
    },
    "papermill": {
     "duration": 12.320405,
     "end_time": "2025-01-13T17:52:37.253570",
     "exception": false,
     "start_time": "2025-01-13T17:52:24.933165",
     "status": "completed"
    },
    "tags": []
   },
   "outputs": [
    {
     "name": "stdout",
     "output_type": "stream",
     "text": [
      "Shape of fraudTrain.csv: (1296675, 23)\n",
      "Shape of fraudTest.csv: (555719, 23)\n",
      "----------------------------------------\n",
      "Shape of combined dataframe df: (1852394, 24)\n",
      "----------------------------------------\n"
     ]
    }
   ],
   "source": [
    "dataframes = []\n",
    "\n",
    "for file in csv_files:\n",
    "    df = pd.read_csv(Path(extract_dir) / file)\n",
    "    print(f\"Shape of {file}: {df.shape}\")\n",
    "    df['source_file'] = file  \n",
    "    dataframes.append(df)\n",
    "\n",
    "df = pd.concat(dataframes, ignore_index=True)\n",
    "\n",
    "print(\"-\" * 40)\n",
    "print(f\"Shape of combined dataframe df: {df.shape}\")\n",
    "print(\"-\" * 40)"
   ]
  },
  {
   "cell_type": "code",
   "execution_count": 7,
   "id": "38e3c267",
   "metadata": {
    "execution": {
     "iopub.execute_input": "2025-01-13T17:52:37.341630Z",
     "iopub.status.busy": "2025-01-13T17:52:37.341221Z",
     "iopub.status.idle": "2025-01-13T17:52:37.364041Z",
     "shell.execute_reply": "2025-01-13T17:52:37.363026Z"
    },
    "papermill": {
     "duration": 0.047234,
     "end_time": "2025-01-13T17:52:37.365768",
     "exception": false,
     "start_time": "2025-01-13T17:52:37.318534",
     "status": "completed"
    },
    "tags": []
   },
   "outputs": [
    {
     "data": {
      "text/html": [
       "<div>\n",
       "<style scoped>\n",
       "    .dataframe tbody tr th:only-of-type {\n",
       "        vertical-align: middle;\n",
       "    }\n",
       "\n",
       "    .dataframe tbody tr th {\n",
       "        vertical-align: top;\n",
       "    }\n",
       "\n",
       "    .dataframe thead th {\n",
       "        text-align: right;\n",
       "    }\n",
       "</style>\n",
       "<table border=\"1\" class=\"dataframe\">\n",
       "  <thead>\n",
       "    <tr style=\"text-align: right;\">\n",
       "      <th></th>\n",
       "      <th>Unnamed: 0</th>\n",
       "      <th>trans_date_trans_time</th>\n",
       "      <th>cc_num</th>\n",
       "      <th>merchant</th>\n",
       "      <th>category</th>\n",
       "      <th>amt</th>\n",
       "      <th>first</th>\n",
       "      <th>last</th>\n",
       "      <th>gender</th>\n",
       "      <th>street</th>\n",
       "      <th>city</th>\n",
       "      <th>state</th>\n",
       "      <th>zip</th>\n",
       "      <th>lat</th>\n",
       "      <th>long</th>\n",
       "      <th>city_pop</th>\n",
       "      <th>job</th>\n",
       "      <th>dob</th>\n",
       "      <th>trans_num</th>\n",
       "      <th>unix_time</th>\n",
       "      <th>merch_lat</th>\n",
       "      <th>merch_long</th>\n",
       "      <th>is_fraud</th>\n",
       "      <th>source_file</th>\n",
       "    </tr>\n",
       "  </thead>\n",
       "  <tbody>\n",
       "    <tr>\n",
       "      <th>0</th>\n",
       "      <td>0</td>\n",
       "      <td>2019-01-01 00:00:18</td>\n",
       "      <td>2703186189652095</td>\n",
       "      <td>fraud_Rippin, Kub and Mann</td>\n",
       "      <td>misc_net</td>\n",
       "      <td>4.97</td>\n",
       "      <td>Jennifer</td>\n",
       "      <td>Banks</td>\n",
       "      <td>F</td>\n",
       "      <td>561 Perry Cove</td>\n",
       "      <td>Moravian Falls</td>\n",
       "      <td>NC</td>\n",
       "      <td>28654</td>\n",
       "      <td>36.0788</td>\n",
       "      <td>-81.1781</td>\n",
       "      <td>3495</td>\n",
       "      <td>Psychologist, counselling</td>\n",
       "      <td>1988-03-09</td>\n",
       "      <td>0b242abb623afc578575680df30655b9</td>\n",
       "      <td>1325376018</td>\n",
       "      <td>36.011293</td>\n",
       "      <td>-82.048315</td>\n",
       "      <td>0</td>\n",
       "      <td>fraudTrain.csv</td>\n",
       "    </tr>\n",
       "    <tr>\n",
       "      <th>1</th>\n",
       "      <td>1</td>\n",
       "      <td>2019-01-01 00:00:44</td>\n",
       "      <td>630423337322</td>\n",
       "      <td>fraud_Heller, Gutmann and Zieme</td>\n",
       "      <td>grocery_pos</td>\n",
       "      <td>107.23</td>\n",
       "      <td>Stephanie</td>\n",
       "      <td>Gill</td>\n",
       "      <td>F</td>\n",
       "      <td>43039 Riley Greens Suite 393</td>\n",
       "      <td>Orient</td>\n",
       "      <td>WA</td>\n",
       "      <td>99160</td>\n",
       "      <td>48.8878</td>\n",
       "      <td>-118.2105</td>\n",
       "      <td>149</td>\n",
       "      <td>Special educational needs teacher</td>\n",
       "      <td>1978-06-21</td>\n",
       "      <td>1f76529f8574734946361c461b024d99</td>\n",
       "      <td>1325376044</td>\n",
       "      <td>49.159047</td>\n",
       "      <td>-118.186462</td>\n",
       "      <td>0</td>\n",
       "      <td>fraudTrain.csv</td>\n",
       "    </tr>\n",
       "  </tbody>\n",
       "</table>\n",
       "</div>"
      ],
      "text/plain": [
       "   Unnamed: 0 trans_date_trans_time            cc_num  \\\n",
       "0           0   2019-01-01 00:00:18  2703186189652095   \n",
       "1           1   2019-01-01 00:00:44      630423337322   \n",
       "\n",
       "                          merchant     category     amt      first   last  \\\n",
       "0       fraud_Rippin, Kub and Mann     misc_net    4.97   Jennifer  Banks   \n",
       "1  fraud_Heller, Gutmann and Zieme  grocery_pos  107.23  Stephanie   Gill   \n",
       "\n",
       "  gender                        street            city state    zip      lat  \\\n",
       "0      F                561 Perry Cove  Moravian Falls    NC  28654  36.0788   \n",
       "1      F  43039 Riley Greens Suite 393          Orient    WA  99160  48.8878   \n",
       "\n",
       "       long  city_pop                                job         dob  \\\n",
       "0  -81.1781      3495          Psychologist, counselling  1988-03-09   \n",
       "1 -118.2105       149  Special educational needs teacher  1978-06-21   \n",
       "\n",
       "                          trans_num   unix_time  merch_lat  merch_long  \\\n",
       "0  0b242abb623afc578575680df30655b9  1325376018  36.011293  -82.048315   \n",
       "1  1f76529f8574734946361c461b024d99  1325376044  49.159047 -118.186462   \n",
       "\n",
       "   is_fraud     source_file  \n",
       "0         0  fraudTrain.csv  \n",
       "1         0  fraudTrain.csv  "
      ]
     },
     "execution_count": 7,
     "metadata": {},
     "output_type": "execute_result"
    }
   ],
   "source": [
    "df.head(2)"
   ]
  },
  {
   "cell_type": "code",
   "execution_count": 8,
   "id": "cbee4c27",
   "metadata": {
    "execution": {
     "iopub.execute_input": "2025-01-13T17:52:37.411300Z",
     "iopub.status.busy": "2025-01-13T17:52:37.410925Z",
     "iopub.status.idle": "2025-01-13T17:52:37.429659Z",
     "shell.execute_reply": "2025-01-13T17:52:37.428606Z"
    },
    "papermill": {
     "duration": 0.043222,
     "end_time": "2025-01-13T17:52:37.431300",
     "exception": false,
     "start_time": "2025-01-13T17:52:37.388078",
     "status": "completed"
    },
    "tags": []
   },
   "outputs": [
    {
     "data": {
      "text/html": [
       "<div>\n",
       "<style scoped>\n",
       "    .dataframe tbody tr th:only-of-type {\n",
       "        vertical-align: middle;\n",
       "    }\n",
       "\n",
       "    .dataframe tbody tr th {\n",
       "        vertical-align: top;\n",
       "    }\n",
       "\n",
       "    .dataframe thead th {\n",
       "        text-align: right;\n",
       "    }\n",
       "</style>\n",
       "<table border=\"1\" class=\"dataframe\">\n",
       "  <thead>\n",
       "    <tr style=\"text-align: right;\">\n",
       "      <th></th>\n",
       "      <th>Unnamed: 0</th>\n",
       "      <th>trans_date_trans_time</th>\n",
       "      <th>cc_num</th>\n",
       "      <th>merchant</th>\n",
       "      <th>category</th>\n",
       "      <th>amt</th>\n",
       "      <th>first</th>\n",
       "      <th>last</th>\n",
       "      <th>gender</th>\n",
       "      <th>street</th>\n",
       "      <th>city</th>\n",
       "      <th>state</th>\n",
       "      <th>zip</th>\n",
       "      <th>lat</th>\n",
       "      <th>long</th>\n",
       "      <th>city_pop</th>\n",
       "      <th>job</th>\n",
       "      <th>dob</th>\n",
       "      <th>trans_num</th>\n",
       "      <th>unix_time</th>\n",
       "      <th>merch_lat</th>\n",
       "      <th>merch_long</th>\n",
       "      <th>is_fraud</th>\n",
       "      <th>source_file</th>\n",
       "    </tr>\n",
       "  </thead>\n",
       "  <tbody>\n",
       "    <tr>\n",
       "      <th>1852392</th>\n",
       "      <td>555717</td>\n",
       "      <td>2020-12-31 23:59:24</td>\n",
       "      <td>4079773899158</td>\n",
       "      <td>fraud_Breitenberg LLC</td>\n",
       "      <td>travel</td>\n",
       "      <td>7.99</td>\n",
       "      <td>Eric</td>\n",
       "      <td>Preston</td>\n",
       "      <td>M</td>\n",
       "      <td>7020 Doyle Stream Apt. 951</td>\n",
       "      <td>Mesa</td>\n",
       "      <td>ID</td>\n",
       "      <td>83643</td>\n",
       "      <td>44.6255</td>\n",
       "      <td>-116.4493</td>\n",
       "      <td>129</td>\n",
       "      <td>Cartographer</td>\n",
       "      <td>1965-12-15</td>\n",
       "      <td>14392d723bb7737606b2700ac791b7aa</td>\n",
       "      <td>1388534364</td>\n",
       "      <td>44.470525</td>\n",
       "      <td>-117.080888</td>\n",
       "      <td>0</td>\n",
       "      <td>fraudTest.csv</td>\n",
       "    </tr>\n",
       "    <tr>\n",
       "      <th>1852393</th>\n",
       "      <td>555718</td>\n",
       "      <td>2020-12-31 23:59:34</td>\n",
       "      <td>4170689372027579</td>\n",
       "      <td>fraud_Dare-Marvin</td>\n",
       "      <td>entertainment</td>\n",
       "      <td>38.13</td>\n",
       "      <td>Samuel</td>\n",
       "      <td>Frey</td>\n",
       "      <td>M</td>\n",
       "      <td>830 Myers Plaza Apt. 384</td>\n",
       "      <td>Edmond</td>\n",
       "      <td>OK</td>\n",
       "      <td>73034</td>\n",
       "      <td>35.6665</td>\n",
       "      <td>-97.4798</td>\n",
       "      <td>116001</td>\n",
       "      <td>Media buyer</td>\n",
       "      <td>1993-05-10</td>\n",
       "      <td>1765bb45b3aa3224b4cdcb6e7a96cee3</td>\n",
       "      <td>1388534374</td>\n",
       "      <td>36.210097</td>\n",
       "      <td>-97.036372</td>\n",
       "      <td>0</td>\n",
       "      <td>fraudTest.csv</td>\n",
       "    </tr>\n",
       "  </tbody>\n",
       "</table>\n",
       "</div>"
      ],
      "text/plain": [
       "         Unnamed: 0 trans_date_trans_time            cc_num  \\\n",
       "1852392      555717   2020-12-31 23:59:24     4079773899158   \n",
       "1852393      555718   2020-12-31 23:59:34  4170689372027579   \n",
       "\n",
       "                      merchant       category    amt   first     last gender  \\\n",
       "1852392  fraud_Breitenberg LLC         travel   7.99    Eric  Preston      M   \n",
       "1852393      fraud_Dare-Marvin  entertainment  38.13  Samuel     Frey      M   \n",
       "\n",
       "                             street    city state    zip      lat      long  \\\n",
       "1852392  7020 Doyle Stream Apt. 951    Mesa    ID  83643  44.6255 -116.4493   \n",
       "1852393    830 Myers Plaza Apt. 384  Edmond    OK  73034  35.6665  -97.4798   \n",
       "\n",
       "         city_pop           job         dob                         trans_num  \\\n",
       "1852392       129  Cartographer  1965-12-15  14392d723bb7737606b2700ac791b7aa   \n",
       "1852393    116001   Media buyer  1993-05-10  1765bb45b3aa3224b4cdcb6e7a96cee3   \n",
       "\n",
       "          unix_time  merch_lat  merch_long  is_fraud    source_file  \n",
       "1852392  1388534364  44.470525 -117.080888         0  fraudTest.csv  \n",
       "1852393  1388534374  36.210097  -97.036372         0  fraudTest.csv  "
      ]
     },
     "execution_count": 8,
     "metadata": {},
     "output_type": "execute_result"
    }
   ],
   "source": [
    "df.tail(2)"
   ]
  },
  {
   "cell_type": "code",
   "execution_count": 9,
   "id": "0d4d3221",
   "metadata": {
    "execution": {
     "iopub.execute_input": "2025-01-13T17:52:37.477246Z",
     "iopub.status.busy": "2025-01-13T17:52:37.476850Z",
     "iopub.status.idle": "2025-01-13T17:52:37.571337Z",
     "shell.execute_reply": "2025-01-13T17:52:37.570322Z"
    },
    "papermill": {
     "duration": 0.119662,
     "end_time": "2025-01-13T17:52:37.573175",
     "exception": false,
     "start_time": "2025-01-13T17:52:37.453513",
     "status": "completed"
    },
    "tags": []
   },
   "outputs": [
    {
     "data": {
      "text/html": [
       "<div>\n",
       "<style scoped>\n",
       "    .dataframe tbody tr th:only-of-type {\n",
       "        vertical-align: middle;\n",
       "    }\n",
       "\n",
       "    .dataframe tbody tr th {\n",
       "        vertical-align: top;\n",
       "    }\n",
       "\n",
       "    .dataframe thead th {\n",
       "        text-align: right;\n",
       "    }\n",
       "</style>\n",
       "<table border=\"1\" class=\"dataframe\">\n",
       "  <thead>\n",
       "    <tr style=\"text-align: right;\">\n",
       "      <th></th>\n",
       "      <th>Unnamed: 0</th>\n",
       "      <th>trans_date_trans_time</th>\n",
       "      <th>cc_num</th>\n",
       "      <th>merchant</th>\n",
       "      <th>category</th>\n",
       "      <th>amt</th>\n",
       "      <th>first</th>\n",
       "      <th>last</th>\n",
       "      <th>gender</th>\n",
       "      <th>street</th>\n",
       "      <th>city</th>\n",
       "      <th>state</th>\n",
       "      <th>zip</th>\n",
       "      <th>lat</th>\n",
       "      <th>long</th>\n",
       "      <th>city_pop</th>\n",
       "      <th>job</th>\n",
       "      <th>dob</th>\n",
       "      <th>trans_num</th>\n",
       "      <th>unix_time</th>\n",
       "      <th>merch_lat</th>\n",
       "      <th>merch_long</th>\n",
       "      <th>is_fraud</th>\n",
       "      <th>source_file</th>\n",
       "    </tr>\n",
       "  </thead>\n",
       "  <tbody>\n",
       "    <tr>\n",
       "      <th>1280259</th>\n",
       "      <td>1280259</td>\n",
       "      <td>2020-06-15 11:20:43</td>\n",
       "      <td>6011724471098086</td>\n",
       "      <td>fraud_Kuhic Inc</td>\n",
       "      <td>grocery_pos</td>\n",
       "      <td>242.37</td>\n",
       "      <td>Ann</td>\n",
       "      <td>Lawson</td>\n",
       "      <td>F</td>\n",
       "      <td>144 Evans Islands Apt. 683</td>\n",
       "      <td>Burbank</td>\n",
       "      <td>WA</td>\n",
       "      <td>99323</td>\n",
       "      <td>46.1966</td>\n",
       "      <td>-118.9017</td>\n",
       "      <td>3684</td>\n",
       "      <td>Musician</td>\n",
       "      <td>1981-11-29</td>\n",
       "      <td>86a272a6bdbcba189c867596aa068314</td>\n",
       "      <td>1371295243</td>\n",
       "      <td>46.267536</td>\n",
       "      <td>-118.657094</td>\n",
       "      <td>0</td>\n",
       "      <td>fraudTrain.csv</td>\n",
       "    </tr>\n",
       "    <tr>\n",
       "      <th>26278</th>\n",
       "      <td>26278</td>\n",
       "      <td>2019-01-15 22:10:20</td>\n",
       "      <td>6011652924285713</td>\n",
       "      <td>fraud_Kub PLC</td>\n",
       "      <td>personal_care</td>\n",
       "      <td>4.26</td>\n",
       "      <td>Kathryn</td>\n",
       "      <td>Smith</td>\n",
       "      <td>F</td>\n",
       "      <td>19838 Tonya Prairie Apt. 947</td>\n",
       "      <td>Rocky Mount</td>\n",
       "      <td>MO</td>\n",
       "      <td>65072</td>\n",
       "      <td>38.2911</td>\n",
       "      <td>-92.7059</td>\n",
       "      <td>1847</td>\n",
       "      <td>Tax inspector</td>\n",
       "      <td>1988-10-26</td>\n",
       "      <td>e017253ab7f821a59fdd3898f228e3df</td>\n",
       "      <td>1326665420</td>\n",
       "      <td>39.059925</td>\n",
       "      <td>-92.453328</td>\n",
       "      <td>0</td>\n",
       "      <td>fraudTrain.csv</td>\n",
       "    </tr>\n",
       "  </tbody>\n",
       "</table>\n",
       "</div>"
      ],
      "text/plain": [
       "         Unnamed: 0 trans_date_trans_time            cc_num         merchant  \\\n",
       "1280259     1280259   2020-06-15 11:20:43  6011724471098086  fraud_Kuhic Inc   \n",
       "26278         26278   2019-01-15 22:10:20  6011652924285713    fraud_Kub PLC   \n",
       "\n",
       "              category     amt    first    last gender  \\\n",
       "1280259    grocery_pos  242.37      Ann  Lawson      F   \n",
       "26278    personal_care    4.26  Kathryn   Smith      F   \n",
       "\n",
       "                               street         city state    zip      lat  \\\n",
       "1280259    144 Evans Islands Apt. 683      Burbank    WA  99323  46.1966   \n",
       "26278    19838 Tonya Prairie Apt. 947  Rocky Mount    MO  65072  38.2911   \n",
       "\n",
       "             long  city_pop            job         dob  \\\n",
       "1280259 -118.9017      3684       Musician  1981-11-29   \n",
       "26278    -92.7059      1847  Tax inspector  1988-10-26   \n",
       "\n",
       "                                trans_num   unix_time  merch_lat  merch_long  \\\n",
       "1280259  86a272a6bdbcba189c867596aa068314  1371295243  46.267536 -118.657094   \n",
       "26278    e017253ab7f821a59fdd3898f228e3df  1326665420  39.059925  -92.453328   \n",
       "\n",
       "         is_fraud     source_file  \n",
       "1280259         0  fraudTrain.csv  \n",
       "26278           0  fraudTrain.csv  "
      ]
     },
     "execution_count": 9,
     "metadata": {},
     "output_type": "execute_result"
    }
   ],
   "source": [
    "df.sample(2)"
   ]
  },
  {
   "cell_type": "code",
   "execution_count": 10,
   "id": "68f0e870",
   "metadata": {
    "execution": {
     "iopub.execute_input": "2025-01-13T17:52:37.662475Z",
     "iopub.status.busy": "2025-01-13T17:52:37.662126Z",
     "iopub.status.idle": "2025-01-13T17:52:37.667995Z",
     "shell.execute_reply": "2025-01-13T17:52:37.667027Z"
    },
    "papermill": {
     "duration": 0.030898,
     "end_time": "2025-01-13T17:52:37.670058",
     "exception": false,
     "start_time": "2025-01-13T17:52:37.639160",
     "status": "completed"
    },
    "tags": []
   },
   "outputs": [
    {
     "data": {
      "text/plain": [
       "(1852394, 24)"
      ]
     },
     "execution_count": 10,
     "metadata": {},
     "output_type": "execute_result"
    }
   ],
   "source": [
    "df.shape"
   ]
  },
  {
   "cell_type": "code",
   "execution_count": 11,
   "id": "5ff53998",
   "metadata": {
    "execution": {
     "iopub.execute_input": "2025-01-13T17:52:37.819886Z",
     "iopub.status.busy": "2025-01-13T17:52:37.819546Z",
     "iopub.status.idle": "2025-01-13T17:52:37.840317Z",
     "shell.execute_reply": "2025-01-13T17:52:37.839296Z"
    },
    "papermill": {
     "duration": 0.046112,
     "end_time": "2025-01-13T17:52:37.842062",
     "exception": false,
     "start_time": "2025-01-13T17:52:37.795950",
     "status": "completed"
    },
    "tags": []
   },
   "outputs": [
    {
     "name": "stdout",
     "output_type": "stream",
     "text": [
      "<class 'pandas.core.frame.DataFrame'>\n",
      "RangeIndex: 1852394 entries, 0 to 1852393\n",
      "Data columns (total 24 columns):\n",
      " #   Column                 Dtype  \n",
      "---  ------                 -----  \n",
      " 0   Unnamed: 0             int64  \n",
      " 1   trans_date_trans_time  object \n",
      " 2   cc_num                 int64  \n",
      " 3   merchant               object \n",
      " 4   category               object \n",
      " 5   amt                    float64\n",
      " 6   first                  object \n",
      " 7   last                   object \n",
      " 8   gender                 object \n",
      " 9   street                 object \n",
      " 10  city                   object \n",
      " 11  state                  object \n",
      " 12  zip                    int64  \n",
      " 13  lat                    float64\n",
      " 14  long                   float64\n",
      " 15  city_pop               int64  \n",
      " 16  job                    object \n",
      " 17  dob                    object \n",
      " 18  trans_num              object \n",
      " 19  unix_time              int64  \n",
      " 20  merch_lat              float64\n",
      " 21  merch_long             float64\n",
      " 22  is_fraud               int64  \n",
      " 23  source_file            object \n",
      "dtypes: float64(5), int64(6), object(13)\n",
      "memory usage: 339.2+ MB\n"
     ]
    }
   ],
   "source": [
    "df.info()"
   ]
  },
  {
   "cell_type": "code",
   "execution_count": 12,
   "id": "3ef12c6c",
   "metadata": {
    "execution": {
     "iopub.execute_input": "2025-01-13T17:52:37.889127Z",
     "iopub.status.busy": "2025-01-13T17:52:37.888758Z",
     "iopub.status.idle": "2025-01-13T17:52:38.874246Z",
     "shell.execute_reply": "2025-01-13T17:52:38.873208Z"
    },
    "papermill": {
     "duration": 1.0113,
     "end_time": "2025-01-13T17:52:38.876350",
     "exception": false,
     "start_time": "2025-01-13T17:52:37.865050",
     "status": "completed"
    },
    "tags": []
   },
   "outputs": [
    {
     "data": {
      "text/html": [
       "<div>\n",
       "<style scoped>\n",
       "    .dataframe tbody tr th:only-of-type {\n",
       "        vertical-align: middle;\n",
       "    }\n",
       "\n",
       "    .dataframe tbody tr th {\n",
       "        vertical-align: top;\n",
       "    }\n",
       "\n",
       "    .dataframe thead th {\n",
       "        text-align: right;\n",
       "    }\n",
       "</style>\n",
       "<table border=\"1\" class=\"dataframe\">\n",
       "  <thead>\n",
       "    <tr style=\"text-align: right;\">\n",
       "      <th></th>\n",
       "      <th>count</th>\n",
       "      <th>mean</th>\n",
       "      <th>std</th>\n",
       "      <th>min</th>\n",
       "      <th>25%</th>\n",
       "      <th>50%</th>\n",
       "      <th>75%</th>\n",
       "      <th>max</th>\n",
       "    </tr>\n",
       "  </thead>\n",
       "  <tbody>\n",
       "    <tr>\n",
       "      <th>Unnamed: 0</th>\n",
       "      <td>1852394.0</td>\n",
       "      <td>5.371934e+05</td>\n",
       "      <td>3.669110e+05</td>\n",
       "      <td>0.000000e+00</td>\n",
       "      <td>2.315490e+05</td>\n",
       "      <td>4.630980e+05</td>\n",
       "      <td>8.335758e+05</td>\n",
       "      <td>1.296674e+06</td>\n",
       "    </tr>\n",
       "    <tr>\n",
       "      <th>cc_num</th>\n",
       "      <td>1852394.0</td>\n",
       "      <td>4.173860e+17</td>\n",
       "      <td>1.309115e+18</td>\n",
       "      <td>6.041621e+10</td>\n",
       "      <td>1.800429e+14</td>\n",
       "      <td>3.521417e+15</td>\n",
       "      <td>4.642255e+15</td>\n",
       "      <td>4.992346e+18</td>\n",
       "    </tr>\n",
       "    <tr>\n",
       "      <th>amt</th>\n",
       "      <td>1852394.0</td>\n",
       "      <td>7.006357e+01</td>\n",
       "      <td>1.592540e+02</td>\n",
       "      <td>1.000000e+00</td>\n",
       "      <td>9.640000e+00</td>\n",
       "      <td>4.745000e+01</td>\n",
       "      <td>8.310000e+01</td>\n",
       "      <td>2.894890e+04</td>\n",
       "    </tr>\n",
       "    <tr>\n",
       "      <th>zip</th>\n",
       "      <td>1852394.0</td>\n",
       "      <td>4.881326e+04</td>\n",
       "      <td>2.688185e+04</td>\n",
       "      <td>1.257000e+03</td>\n",
       "      <td>2.623700e+04</td>\n",
       "      <td>4.817400e+04</td>\n",
       "      <td>7.204200e+04</td>\n",
       "      <td>9.992100e+04</td>\n",
       "    </tr>\n",
       "    <tr>\n",
       "      <th>lat</th>\n",
       "      <td>1852394.0</td>\n",
       "      <td>3.853931e+01</td>\n",
       "      <td>5.071470e+00</td>\n",
       "      <td>2.002710e+01</td>\n",
       "      <td>3.466890e+01</td>\n",
       "      <td>3.935430e+01</td>\n",
       "      <td>4.194040e+01</td>\n",
       "      <td>6.669330e+01</td>\n",
       "    </tr>\n",
       "    <tr>\n",
       "      <th>long</th>\n",
       "      <td>1852394.0</td>\n",
       "      <td>-9.022783e+01</td>\n",
       "      <td>1.374789e+01</td>\n",
       "      <td>-1.656723e+02</td>\n",
       "      <td>-9.679800e+01</td>\n",
       "      <td>-8.747690e+01</td>\n",
       "      <td>-8.015800e+01</td>\n",
       "      <td>-6.795030e+01</td>\n",
       "    </tr>\n",
       "    <tr>\n",
       "      <th>city_pop</th>\n",
       "      <td>1852394.0</td>\n",
       "      <td>8.864367e+04</td>\n",
       "      <td>3.014876e+05</td>\n",
       "      <td>2.300000e+01</td>\n",
       "      <td>7.410000e+02</td>\n",
       "      <td>2.443000e+03</td>\n",
       "      <td>2.032800e+04</td>\n",
       "      <td>2.906700e+06</td>\n",
       "    </tr>\n",
       "    <tr>\n",
       "      <th>unix_time</th>\n",
       "      <td>1852394.0</td>\n",
       "      <td>1.358674e+09</td>\n",
       "      <td>1.819508e+07</td>\n",
       "      <td>1.325376e+09</td>\n",
       "      <td>1.343017e+09</td>\n",
       "      <td>1.357089e+09</td>\n",
       "      <td>1.374581e+09</td>\n",
       "      <td>1.388534e+09</td>\n",
       "    </tr>\n",
       "    <tr>\n",
       "      <th>merch_lat</th>\n",
       "      <td>1852394.0</td>\n",
       "      <td>3.853898e+01</td>\n",
       "      <td>5.105604e+00</td>\n",
       "      <td>1.902742e+01</td>\n",
       "      <td>3.474012e+01</td>\n",
       "      <td>3.936890e+01</td>\n",
       "      <td>4.195626e+01</td>\n",
       "      <td>6.751027e+01</td>\n",
       "    </tr>\n",
       "    <tr>\n",
       "      <th>merch_long</th>\n",
       "      <td>1852394.0</td>\n",
       "      <td>-9.022794e+01</td>\n",
       "      <td>1.375969e+01</td>\n",
       "      <td>-1.666716e+02</td>\n",
       "      <td>-9.689944e+01</td>\n",
       "      <td>-8.744069e+01</td>\n",
       "      <td>-8.024511e+01</td>\n",
       "      <td>-6.695090e+01</td>\n",
       "    </tr>\n",
       "    <tr>\n",
       "      <th>is_fraud</th>\n",
       "      <td>1852394.0</td>\n",
       "      <td>5.210015e-03</td>\n",
       "      <td>7.199217e-02</td>\n",
       "      <td>0.000000e+00</td>\n",
       "      <td>0.000000e+00</td>\n",
       "      <td>0.000000e+00</td>\n",
       "      <td>0.000000e+00</td>\n",
       "      <td>1.000000e+00</td>\n",
       "    </tr>\n",
       "  </tbody>\n",
       "</table>\n",
       "</div>"
      ],
      "text/plain": [
       "                count          mean           std           min           25%  \\\n",
       "Unnamed: 0  1852394.0  5.371934e+05  3.669110e+05  0.000000e+00  2.315490e+05   \n",
       "cc_num      1852394.0  4.173860e+17  1.309115e+18  6.041621e+10  1.800429e+14   \n",
       "amt         1852394.0  7.006357e+01  1.592540e+02  1.000000e+00  9.640000e+00   \n",
       "zip         1852394.0  4.881326e+04  2.688185e+04  1.257000e+03  2.623700e+04   \n",
       "lat         1852394.0  3.853931e+01  5.071470e+00  2.002710e+01  3.466890e+01   \n",
       "long        1852394.0 -9.022783e+01  1.374789e+01 -1.656723e+02 -9.679800e+01   \n",
       "city_pop    1852394.0  8.864367e+04  3.014876e+05  2.300000e+01  7.410000e+02   \n",
       "unix_time   1852394.0  1.358674e+09  1.819508e+07  1.325376e+09  1.343017e+09   \n",
       "merch_lat   1852394.0  3.853898e+01  5.105604e+00  1.902742e+01  3.474012e+01   \n",
       "merch_long  1852394.0 -9.022794e+01  1.375969e+01 -1.666716e+02 -9.689944e+01   \n",
       "is_fraud    1852394.0  5.210015e-03  7.199217e-02  0.000000e+00  0.000000e+00   \n",
       "\n",
       "                     50%           75%           max  \n",
       "Unnamed: 0  4.630980e+05  8.335758e+05  1.296674e+06  \n",
       "cc_num      3.521417e+15  4.642255e+15  4.992346e+18  \n",
       "amt         4.745000e+01  8.310000e+01  2.894890e+04  \n",
       "zip         4.817400e+04  7.204200e+04  9.992100e+04  \n",
       "lat         3.935430e+01  4.194040e+01  6.669330e+01  \n",
       "long       -8.747690e+01 -8.015800e+01 -6.795030e+01  \n",
       "city_pop    2.443000e+03  2.032800e+04  2.906700e+06  \n",
       "unix_time   1.357089e+09  1.374581e+09  1.388534e+09  \n",
       "merch_lat   3.936890e+01  4.195626e+01  6.751027e+01  \n",
       "merch_long -8.744069e+01 -8.024511e+01 -6.695090e+01  \n",
       "is_fraud    0.000000e+00  0.000000e+00  1.000000e+00  "
      ]
     },
     "execution_count": 12,
     "metadata": {},
     "output_type": "execute_result"
    }
   ],
   "source": [
    "df.describe().T"
   ]
  },
  {
   "cell_type": "code",
   "execution_count": 13,
   "id": "955e50c6",
   "metadata": {
    "execution": {
     "iopub.execute_input": "2025-01-13T17:52:39.312962Z",
     "iopub.status.busy": "2025-01-13T17:52:39.312609Z",
     "iopub.status.idle": "2025-01-13T17:52:40.443022Z",
     "shell.execute_reply": "2025-01-13T17:52:40.441807Z"
    },
    "papermill": {
     "duration": 1.15784,
     "end_time": "2025-01-13T17:52:40.444898",
     "exception": false,
     "start_time": "2025-01-13T17:52:39.287058",
     "status": "completed"
    },
    "tags": []
   },
   "outputs": [
    {
     "data": {
      "text/plain": [
       "Unnamed: 0               0\n",
       "trans_date_trans_time    0\n",
       "cc_num                   0\n",
       "merchant                 0\n",
       "category                 0\n",
       "amt                      0\n",
       "first                    0\n",
       "last                     0\n",
       "gender                   0\n",
       "street                   0\n",
       "city                     0\n",
       "state                    0\n",
       "zip                      0\n",
       "lat                      0\n",
       "long                     0\n",
       "city_pop                 0\n",
       "job                      0\n",
       "dob                      0\n",
       "trans_num                0\n",
       "unix_time                0\n",
       "merch_lat                0\n",
       "merch_long               0\n",
       "is_fraud                 0\n",
       "source_file              0\n",
       "dtype: int64"
      ]
     },
     "execution_count": 13,
     "metadata": {},
     "output_type": "execute_result"
    }
   ],
   "source": [
    "df.isna().sum()"
   ]
  },
  {
   "cell_type": "code",
   "execution_count": null,
   "id": "74264a5a",
   "metadata": {
    "execution": {
     "iopub.execute_input": "2025-01-13T17:52:40.589972Z",
     "iopub.status.busy": "2025-01-13T17:52:40.589568Z",
     "iopub.status.idle": "2025-01-13T17:52:45.940304Z",
     "shell.execute_reply": "2025-01-13T17:52:45.938996Z"
    },
    "papermill": {
     "duration": 5.377474,
     "end_time": "2025-01-13T17:52:45.942120",
     "exception": false,
     "start_time": "2025-01-13T17:52:40.564646",
     "status": "completed"
    },
    "tags": []
   },
   "outputs": [
    {
     "name": "stdout",
     "output_type": "stream",
     "text": [
      "Number of duplicated rows: 0\n"
     ]
    }
   ],
   "source": [
    "print(f\"Number of duplicated rows: {df.duplicated().sum()}\")"
   ]
  },
  {
   "cell_type": "code",
   "execution_count": 15,
   "id": "90c4c48e",
   "metadata": {
    "execution": {
     "iopub.execute_input": "2025-01-13T17:52:46.082291Z",
     "iopub.status.busy": "2025-01-13T17:52:46.081898Z",
     "iopub.status.idle": "2025-01-13T17:52:46.091568Z",
     "shell.execute_reply": "2025-01-13T17:52:46.090506Z"
    },
    "papermill": {
     "duration": 0.035711,
     "end_time": "2025-01-13T17:52:46.093411",
     "exception": false,
     "start_time": "2025-01-13T17:52:46.057700",
     "status": "completed"
    },
    "tags": []
   },
   "outputs": [
    {
     "name": "stdout",
     "output_type": "stream",
     "text": [
      "<class 'pandas.core.frame.DataFrame'>\n",
      "RangeIndex: 1852394 entries, 0 to 1852393\n",
      "Data columns (total 24 columns):\n",
      " #   Column                 Dtype  \n",
      "---  ------                 -----  \n",
      " 0   Unnamed: 0             int64  \n",
      " 1   trans_date_trans_time  object \n",
      " 2   cc_num                 int64  \n",
      " 3   merchant               object \n",
      " 4   category               object \n",
      " 5   amt                    float64\n",
      " 6   first                  object \n",
      " 7   last                   object \n",
      " 8   gender                 object \n",
      " 9   street                 object \n",
      " 10  city                   object \n",
      " 11  state                  object \n",
      " 12  zip                    int64  \n",
      " 13  lat                    float64\n",
      " 14  long                   float64\n",
      " 15  city_pop               int64  \n",
      " 16  job                    object \n",
      " 17  dob                    object \n",
      " 18  trans_num              object \n",
      " 19  unix_time              int64  \n",
      " 20  merch_lat              float64\n",
      " 21  merch_long             float64\n",
      " 22  is_fraud               int64  \n",
      " 23  source_file            object \n",
      "dtypes: float64(5), int64(6), object(13)\n",
      "memory usage: 339.2+ MB\n"
     ]
    }
   ],
   "source": [
    "df.info()"
   ]
  },
  {
   "cell_type": "code",
   "execution_count": 16,
   "id": "8fecad9d",
   "metadata": {
    "execution": {
     "iopub.execute_input": "2025-01-13T17:52:46.187115Z",
     "iopub.status.busy": "2025-01-13T17:52:46.186709Z",
     "iopub.status.idle": "2025-01-13T17:52:50.991297Z",
     "shell.execute_reply": "2025-01-13T17:52:50.989971Z"
    },
    "papermill": {
     "duration": 4.830184,
     "end_time": "2025-01-13T17:52:50.992958",
     "exception": false,
     "start_time": "2025-01-13T17:52:46.162774",
     "status": "completed"
    },
    "tags": []
   },
   "outputs": [
    {
     "name": "stdout",
     "output_type": "stream",
     "text": [
      "Unnamed: 0: 1 unique types\n",
      "trans_date_trans_time: 1 unique types\n",
      "cc_num: 1 unique types\n",
      "merchant: 1 unique types\n",
      "category: 1 unique types\n",
      "amt: 1 unique types\n",
      "first: 1 unique types\n",
      "last: 1 unique types\n",
      "gender: 1 unique types\n",
      "street: 1 unique types\n",
      "city: 1 unique types\n",
      "state: 1 unique types\n",
      "zip: 1 unique types\n",
      "lat: 1 unique types\n",
      "long: 1 unique types\n",
      "city_pop: 1 unique types\n",
      "job: 1 unique types\n",
      "dob: 1 unique types\n",
      "trans_num: 1 unique types\n",
      "unix_time: 1 unique types\n",
      "merch_lat: 1 unique types\n",
      "merch_long: 1 unique types\n",
      "is_fraud: 1 unique types\n",
      "source_file: 1 unique types\n"
     ]
    }
   ],
   "source": [
    "# Check for Mixed Data Types:\n",
    "for col in df.columns:\n",
    "    print(f\"{col}: {df[col].apply(type).nunique()} unique types\")"
   ]
  },
  {
   "cell_type": "code",
   "execution_count": null,
   "id": "2cb1facc",
   "metadata": {
    "execution": {
     "iopub.execute_input": "2025-01-13T17:52:51.045528Z",
     "iopub.status.busy": "2025-01-13T17:52:51.045127Z",
     "iopub.status.idle": "2025-01-13T17:52:53.369024Z",
     "shell.execute_reply": "2025-01-13T17:52:53.367904Z"
    },
    "papermill": {
     "duration": 2.353079,
     "end_time": "2025-01-13T17:52:53.370844",
     "exception": false,
     "start_time": "2025-01-13T17:52:51.017765",
     "status": "completed"
    },
    "tags": []
   },
   "outputs": [
    {
     "name": "stdout",
     "output_type": "stream",
     "text": [
      "Column 'Unnamed: 0' has 1296675 unique values.\n",
      "Column 'cc_num' has 999 unique values.\n",
      "Column 'amt' has 60616 unique values.\n",
      "Column 'zip' has 985 unique values.\n",
      "Column 'lat' has 983 unique values.\n",
      "Column 'long' has 983 unique values.\n",
      "Column 'city_pop' has 891 unique values.\n",
      "Column 'unix_time' has 1819583 unique values.\n",
      "Column 'merch_lat' has 1754157 unique values.\n",
      "Column 'merch_long' has 1809753 unique values.\n",
      "Column 'is_fraud' has 2 unique values.\n"
     ]
    }
   ],
   "source": [
    "for col in df.select_dtypes(exclude=['object']):\n",
    "    if df[col].nunique() == 1:\n",
    "        print(f\"Column '{col}' has a single unique value.\")\n",
    "    else:\n",
    "        print(f\"Column '{col}' has {df[col].nunique()} unique values.\")"
   ]
  },
  {
   "cell_type": "code",
   "execution_count": 18,
   "id": "90493366",
   "metadata": {
    "execution": {
     "iopub.execute_input": "2025-01-13T17:52:53.517237Z",
     "iopub.status.busy": "2025-01-13T17:52:53.516832Z",
     "iopub.status.idle": "2025-01-13T17:52:58.103252Z",
     "shell.execute_reply": "2025-01-13T17:52:58.102188Z"
    },
    "papermill": {
     "duration": 4.613293,
     "end_time": "2025-01-13T17:52:58.104774",
     "exception": false,
     "start_time": "2025-01-13T17:52:53.491481",
     "status": "completed"
    },
    "tags": []
   },
   "outputs": [
    {
     "data": {
      "text/plain": [
       "Unnamed: 0               1296675\n",
       "trans_date_trans_time    1819551\n",
       "cc_num                       999\n",
       "merchant                     693\n",
       "category                      14\n",
       "amt                        60616\n",
       "first                        355\n",
       "last                         486\n",
       "gender                         2\n",
       "street                       999\n",
       "city                         906\n",
       "state                         51\n",
       "zip                          985\n",
       "lat                          983\n",
       "long                         983\n",
       "city_pop                     891\n",
       "job                          497\n",
       "dob                          984\n",
       "trans_num                1852394\n",
       "unix_time                1819583\n",
       "merch_lat                1754157\n",
       "merch_long               1809753\n",
       "is_fraud                       2\n",
       "source_file                    2\n",
       "dtype: int64"
      ]
     },
     "execution_count": 18,
     "metadata": {},
     "output_type": "execute_result"
    }
   ],
   "source": [
    "df.nunique()"
   ]
  },
  {
   "cell_type": "code",
   "execution_count": 19,
   "id": "068592f1",
   "metadata": {
    "execution": {
     "iopub.execute_input": "2025-01-13T17:52:58.203477Z",
     "iopub.status.busy": "2025-01-13T17:52:58.203075Z",
     "iopub.status.idle": "2025-01-13T17:52:59.122984Z",
     "shell.execute_reply": "2025-01-13T17:52:59.121880Z"
    },
    "papermill": {
     "duration": 0.947671,
     "end_time": "2025-01-13T17:52:59.124966",
     "exception": false,
     "start_time": "2025-01-13T17:52:58.177295",
     "status": "completed"
    },
    "tags": []
   },
   "outputs": [
    {
     "data": {
      "text/html": [
       "<div>\n",
       "<style scoped>\n",
       "    .dataframe tbody tr th:only-of-type {\n",
       "        vertical-align: middle;\n",
       "    }\n",
       "\n",
       "    .dataframe tbody tr th {\n",
       "        vertical-align: top;\n",
       "    }\n",
       "\n",
       "    .dataframe thead th {\n",
       "        text-align: right;\n",
       "    }\n",
       "</style>\n",
       "<table border=\"1\" class=\"dataframe\">\n",
       "  <thead>\n",
       "    <tr style=\"text-align: right;\">\n",
       "      <th></th>\n",
       "      <th>count</th>\n",
       "      <th>mean</th>\n",
       "      <th>std</th>\n",
       "      <th>min</th>\n",
       "      <th>25%</th>\n",
       "      <th>50%</th>\n",
       "      <th>75%</th>\n",
       "      <th>max</th>\n",
       "    </tr>\n",
       "  </thead>\n",
       "  <tbody>\n",
       "    <tr>\n",
       "      <th>Unnamed: 0</th>\n",
       "      <td>1852394.0</td>\n",
       "      <td>5.371934e+05</td>\n",
       "      <td>3.669110e+05</td>\n",
       "      <td>0.000000e+00</td>\n",
       "      <td>2.315490e+05</td>\n",
       "      <td>4.630980e+05</td>\n",
       "      <td>8.335758e+05</td>\n",
       "      <td>1.296674e+06</td>\n",
       "    </tr>\n",
       "    <tr>\n",
       "      <th>cc_num</th>\n",
       "      <td>1852394.0</td>\n",
       "      <td>4.173860e+17</td>\n",
       "      <td>1.309115e+18</td>\n",
       "      <td>6.041621e+10</td>\n",
       "      <td>1.800429e+14</td>\n",
       "      <td>3.521417e+15</td>\n",
       "      <td>4.642255e+15</td>\n",
       "      <td>4.992346e+18</td>\n",
       "    </tr>\n",
       "    <tr>\n",
       "      <th>amt</th>\n",
       "      <td>1852394.0</td>\n",
       "      <td>7.006357e+01</td>\n",
       "      <td>1.592540e+02</td>\n",
       "      <td>1.000000e+00</td>\n",
       "      <td>9.640000e+00</td>\n",
       "      <td>4.745000e+01</td>\n",
       "      <td>8.310000e+01</td>\n",
       "      <td>2.894890e+04</td>\n",
       "    </tr>\n",
       "    <tr>\n",
       "      <th>zip</th>\n",
       "      <td>1852394.0</td>\n",
       "      <td>4.881326e+04</td>\n",
       "      <td>2.688185e+04</td>\n",
       "      <td>1.257000e+03</td>\n",
       "      <td>2.623700e+04</td>\n",
       "      <td>4.817400e+04</td>\n",
       "      <td>7.204200e+04</td>\n",
       "      <td>9.992100e+04</td>\n",
       "    </tr>\n",
       "    <tr>\n",
       "      <th>lat</th>\n",
       "      <td>1852394.0</td>\n",
       "      <td>3.853931e+01</td>\n",
       "      <td>5.071470e+00</td>\n",
       "      <td>2.002710e+01</td>\n",
       "      <td>3.466890e+01</td>\n",
       "      <td>3.935430e+01</td>\n",
       "      <td>4.194040e+01</td>\n",
       "      <td>6.669330e+01</td>\n",
       "    </tr>\n",
       "    <tr>\n",
       "      <th>long</th>\n",
       "      <td>1852394.0</td>\n",
       "      <td>-9.022783e+01</td>\n",
       "      <td>1.374789e+01</td>\n",
       "      <td>-1.656723e+02</td>\n",
       "      <td>-9.679800e+01</td>\n",
       "      <td>-8.747690e+01</td>\n",
       "      <td>-8.015800e+01</td>\n",
       "      <td>-6.795030e+01</td>\n",
       "    </tr>\n",
       "    <tr>\n",
       "      <th>city_pop</th>\n",
       "      <td>1852394.0</td>\n",
       "      <td>8.864367e+04</td>\n",
       "      <td>3.014876e+05</td>\n",
       "      <td>2.300000e+01</td>\n",
       "      <td>7.410000e+02</td>\n",
       "      <td>2.443000e+03</td>\n",
       "      <td>2.032800e+04</td>\n",
       "      <td>2.906700e+06</td>\n",
       "    </tr>\n",
       "    <tr>\n",
       "      <th>unix_time</th>\n",
       "      <td>1852394.0</td>\n",
       "      <td>1.358674e+09</td>\n",
       "      <td>1.819508e+07</td>\n",
       "      <td>1.325376e+09</td>\n",
       "      <td>1.343017e+09</td>\n",
       "      <td>1.357089e+09</td>\n",
       "      <td>1.374581e+09</td>\n",
       "      <td>1.388534e+09</td>\n",
       "    </tr>\n",
       "    <tr>\n",
       "      <th>merch_lat</th>\n",
       "      <td>1852394.0</td>\n",
       "      <td>3.853898e+01</td>\n",
       "      <td>5.105604e+00</td>\n",
       "      <td>1.902742e+01</td>\n",
       "      <td>3.474012e+01</td>\n",
       "      <td>3.936890e+01</td>\n",
       "      <td>4.195626e+01</td>\n",
       "      <td>6.751027e+01</td>\n",
       "    </tr>\n",
       "    <tr>\n",
       "      <th>merch_long</th>\n",
       "      <td>1852394.0</td>\n",
       "      <td>-9.022794e+01</td>\n",
       "      <td>1.375969e+01</td>\n",
       "      <td>-1.666716e+02</td>\n",
       "      <td>-9.689944e+01</td>\n",
       "      <td>-8.744069e+01</td>\n",
       "      <td>-8.024511e+01</td>\n",
       "      <td>-6.695090e+01</td>\n",
       "    </tr>\n",
       "    <tr>\n",
       "      <th>is_fraud</th>\n",
       "      <td>1852394.0</td>\n",
       "      <td>5.210015e-03</td>\n",
       "      <td>7.199217e-02</td>\n",
       "      <td>0.000000e+00</td>\n",
       "      <td>0.000000e+00</td>\n",
       "      <td>0.000000e+00</td>\n",
       "      <td>0.000000e+00</td>\n",
       "      <td>1.000000e+00</td>\n",
       "    </tr>\n",
       "  </tbody>\n",
       "</table>\n",
       "</div>"
      ],
      "text/plain": [
       "                count          mean           std           min           25%  \\\n",
       "Unnamed: 0  1852394.0  5.371934e+05  3.669110e+05  0.000000e+00  2.315490e+05   \n",
       "cc_num      1852394.0  4.173860e+17  1.309115e+18  6.041621e+10  1.800429e+14   \n",
       "amt         1852394.0  7.006357e+01  1.592540e+02  1.000000e+00  9.640000e+00   \n",
       "zip         1852394.0  4.881326e+04  2.688185e+04  1.257000e+03  2.623700e+04   \n",
       "lat         1852394.0  3.853931e+01  5.071470e+00  2.002710e+01  3.466890e+01   \n",
       "long        1852394.0 -9.022783e+01  1.374789e+01 -1.656723e+02 -9.679800e+01   \n",
       "city_pop    1852394.0  8.864367e+04  3.014876e+05  2.300000e+01  7.410000e+02   \n",
       "unix_time   1852394.0  1.358674e+09  1.819508e+07  1.325376e+09  1.343017e+09   \n",
       "merch_lat   1852394.0  3.853898e+01  5.105604e+00  1.902742e+01  3.474012e+01   \n",
       "merch_long  1852394.0 -9.022794e+01  1.375969e+01 -1.666716e+02 -9.689944e+01   \n",
       "is_fraud    1852394.0  5.210015e-03  7.199217e-02  0.000000e+00  0.000000e+00   \n",
       "\n",
       "                     50%           75%           max  \n",
       "Unnamed: 0  4.630980e+05  8.335758e+05  1.296674e+06  \n",
       "cc_num      3.521417e+15  4.642255e+15  4.992346e+18  \n",
       "amt         4.745000e+01  8.310000e+01  2.894890e+04  \n",
       "zip         4.817400e+04  7.204200e+04  9.992100e+04  \n",
       "lat         3.935430e+01  4.194040e+01  6.669330e+01  \n",
       "long       -8.747690e+01 -8.015800e+01 -6.795030e+01  \n",
       "city_pop    2.443000e+03  2.032800e+04  2.906700e+06  \n",
       "unix_time   1.357089e+09  1.374581e+09  1.388534e+09  \n",
       "merch_lat   3.936890e+01  4.195626e+01  6.751027e+01  \n",
       "merch_long -8.744069e+01 -8.024511e+01 -6.695090e+01  \n",
       "is_fraud    0.000000e+00  0.000000e+00  1.000000e+00  "
      ]
     },
     "execution_count": 19,
     "metadata": {},
     "output_type": "execute_result"
    }
   ],
   "source": [
    "df.describe().T"
   ]
  },
  {
   "cell_type": "code",
   "execution_count": null,
   "id": "a0b9d870",
   "metadata": {
    "execution": {
     "iopub.execute_input": "2025-01-13T17:52:59.175921Z",
     "iopub.status.busy": "2025-01-13T17:52:59.175561Z",
     "iopub.status.idle": "2025-01-13T17:53:00.706529Z",
     "shell.execute_reply": "2025-01-13T17:53:00.705321Z"
    },
    "papermill": {
     "duration": 1.559289,
     "end_time": "2025-01-13T17:53:00.709425",
     "exception": false,
     "start_time": "2025-01-13T17:52:59.150136",
     "status": "completed"
    },
    "tags": []
   },
   "outputs": [
    {
     "data": {
      "image/png": "[encoded data removed]",
      "text/plain": [
       "<Figure size 1200x1000 with 2 Axes>"
      ]
     },
     "metadata": {},
     "output_type": "display_data"
    }
   ],
   "source": [
    "df_numerical = df.select_dtypes(include=[np.number])\n",
    "\n",
    "plt.figure(figsize=(12,10))\n",
    "sns.heatmap(df_numerical.corr(), annot=True, cmap='coolwarm')\n",
    "plt.title(\"Correlation matrix for numerical columns\")\n",
    "plt.show()"
   ]
  },
  {
   "cell_type": "markdown",
   "id": "d50c1608",
   "metadata": {
    "papermill": {
     "duration": 0.026635,
     "end_time": "2025-01-13T17:53:00.818033",
     "exception": false,
     "start_time": "2025-01-13T17:53:00.791398",
     "status": "completed"
    },
    "tags": []
   },
   "source": [
    "##### 3.6) Check Categories in Categorical Columns "
   ]
  },
  {
   "cell_type": "code",
   "execution_count": 21,
   "id": "fca21a2e",
   "metadata": {
    "execution": {
     "iopub.execute_input": "2025-01-13T17:53:00.875204Z",
     "iopub.status.busy": "2025-01-13T17:53:00.874818Z",
     "iopub.status.idle": "2025-01-13T17:53:05.699564Z",
     "shell.execute_reply": "2025-01-13T17:53:05.698356Z"
    },
    "papermill": {
     "duration": 4.855347,
     "end_time": "2025-01-13T17:53:05.701724",
     "exception": false,
     "start_time": "2025-01-13T17:53:00.846377",
     "status": "completed"
    },
    "tags": []
   },
   "outputs": [
    {
     "name": "stdout",
     "output_type": "stream",
     "text": [
      "Number of unique values in column 'trans_date_trans_time': 1819551\n",
      "Number of unique values in column 'merchant': 693\n",
      "Number of unique values in column 'category': 14\n",
      "Number of unique values in column 'first': 355\n",
      "Number of unique values in column 'last': 486\n",
      "Number of unique values in column 'gender': 2\n",
      "Number of unique values in column 'street': 999\n",
      "Number of unique values in column 'city': 906\n",
      "Number of unique values in column 'state': 51\n",
      "Number of unique values in column 'job': 497\n",
      "Number of unique values in column 'dob': 984\n",
      "Number of unique values in column 'trans_num': 1852394\n",
      "Number of unique values in column 'source_file': 2\n"
     ]
    }
   ],
   "source": [
    "for col in df.select_dtypes(include='object'):\n",
    "    print(f\"Number of unique values in column '{col}': {df[col].nunique()}\")\n",
    "    #print(f\"Categories in column '{col}': {df[col].unique()} \\n\")"
   ]
  },
  {
   "cell_type": "code",
   "execution_count": null,
   "id": "88d155ab",
   "metadata": {
    "execution": {
     "iopub.execute_input": "2025-01-13T17:53:05.822038Z",
     "iopub.status.busy": "2025-01-13T17:53:05.821534Z",
     "iopub.status.idle": "2025-01-13T17:53:06.080926Z",
     "shell.execute_reply": "2025-01-13T17:53:06.079669Z"
    },
    "papermill": {
     "duration": 0.290632,
     "end_time": "2025-01-13T17:53:06.082754",
     "exception": false,
     "start_time": "2025-01-13T17:53:05.792122",
     "status": "completed"
    },
    "tags": []
   },
   "outputs": [
    {
     "name": "stdout",
     "output_type": "stream",
     "text": [
      "Class Distribution (%):\n",
      "is_fraud\n",
      "0    99.478999\n",
      "1     0.521001\n",
      "Name: proportion, dtype: float64\n"
     ]
    },
    {
     "data": {
      "image/png": "[encoded data removed]",
      "text/plain": [
       "<Figure size 640x480 with 1 Axes>"
      ]
     },
     "metadata": {},
     "output_type": "display_data"
    }
   ],
   "source": [
    "class_distribution = df['is_fraud'].value_counts(normalize=True)\n",
    "\n",
    "print(\"Class Distribution (%):\")\n",
    "print(class_distribution * 100)\n",
    "\n",
    "class_distribution.plot(kind='bar', color=['skyblue', 'orange'])\n",
    "plt.title(\"Class Distribution of 'is_fraud'\")\n",
    "plt.xlabel(\"Class\")\n",
    "plt.ylabel(\"Percentage\")\n",
    "plt.xticks(rotation=0)\n",
    "plt.show()"
   ]
  },
  {
   "cell_type": "code",
   "execution_count": 23,
   "id": "21193961",
   "metadata": {
    "execution": {
     "iopub.execute_input": "2025-01-13T17:53:06.195957Z",
     "iopub.status.busy": "2025-01-13T17:53:06.195609Z",
     "iopub.status.idle": "2025-01-13T17:53:07.668298Z",
     "shell.execute_reply": "2025-01-13T17:53:07.667007Z"
    },
    "papermill": {
     "duration": 1.503517,
     "end_time": "2025-01-13T17:53:07.670211",
     "exception": false,
     "start_time": "2025-01-13T17:53:06.166694",
     "status": "completed"
    },
    "tags": []
   },
   "outputs": [
    {
     "data": {
      "text/html": [
       "<div>\n",
       "<style scoped>\n",
       "    .dataframe tbody tr th:only-of-type {\n",
       "        vertical-align: middle;\n",
       "    }\n",
       "\n",
       "    .dataframe tbody tr th {\n",
       "        vertical-align: top;\n",
       "    }\n",
       "\n",
       "    .dataframe thead th {\n",
       "        text-align: right;\n",
       "    }\n",
       "</style>\n",
       "<table border=\"1\" class=\"dataframe\">\n",
       "  <thead>\n",
       "    <tr style=\"text-align: right;\">\n",
       "      <th></th>\n",
       "      <th>Unnamed: 0</th>\n",
       "      <th>trans_date_trans_time</th>\n",
       "      <th>cc_num</th>\n",
       "      <th>merchant</th>\n",
       "      <th>category</th>\n",
       "      <th>amt</th>\n",
       "      <th>first</th>\n",
       "      <th>last</th>\n",
       "      <th>gender</th>\n",
       "      <th>street</th>\n",
       "      <th>city</th>\n",
       "      <th>state</th>\n",
       "      <th>zip</th>\n",
       "      <th>lat</th>\n",
       "      <th>long</th>\n",
       "      <th>city_pop</th>\n",
       "      <th>job</th>\n",
       "      <th>dob</th>\n",
       "      <th>trans_num</th>\n",
       "      <th>unix_time</th>\n",
       "      <th>merch_lat</th>\n",
       "      <th>merch_long</th>\n",
       "      <th>is_fraud</th>\n",
       "      <th>source_file</th>\n",
       "    </tr>\n",
       "  </thead>\n",
       "  <tbody>\n",
       "    <tr>\n",
       "      <th>0</th>\n",
       "      <td>0</td>\n",
       "      <td>2019-01-01 00:00:18</td>\n",
       "      <td>2703186189652095</td>\n",
       "      <td>fraud_Rippin, Kub and Mann</td>\n",
       "      <td>misc_net</td>\n",
       "      <td>4.97</td>\n",
       "      <td>Jennifer</td>\n",
       "      <td>Banks</td>\n",
       "      <td>F</td>\n",
       "      <td>561 Perry Cove</td>\n",
       "      <td>Moravian Falls</td>\n",
       "      <td>NC</td>\n",
       "      <td>28654</td>\n",
       "      <td>36.0788</td>\n",
       "      <td>-81.1781</td>\n",
       "      <td>3495</td>\n",
       "      <td>Psychologist, counselling</td>\n",
       "      <td>1988-03-09</td>\n",
       "      <td>0b242abb623afc578575680df30655b9</td>\n",
       "      <td>1325376018</td>\n",
       "      <td>36.011293</td>\n",
       "      <td>-82.048315</td>\n",
       "      <td>0</td>\n",
       "      <td>fraudTrain.csv</td>\n",
       "    </tr>\n",
       "  </tbody>\n",
       "</table>\n",
       "</div>"
      ],
      "text/plain": [
       "   Unnamed: 0 trans_date_trans_time            cc_num  \\\n",
       "0           0   2019-01-01 00:00:18  2703186189652095   \n",
       "\n",
       "                     merchant  category   amt     first   last gender  \\\n",
       "0  fraud_Rippin, Kub and Mann  misc_net  4.97  Jennifer  Banks      F   \n",
       "\n",
       "           street            city state    zip      lat     long  city_pop  \\\n",
       "0  561 Perry Cove  Moravian Falls    NC  28654  36.0788 -81.1781      3495   \n",
       "\n",
       "                         job         dob                         trans_num  \\\n",
       "0  Psychologist, counselling  1988-03-09  0b242abb623afc578575680df30655b9   \n",
       "\n",
       "    unix_time  merch_lat  merch_long  is_fraud     source_file  \n",
       "0  1325376018  36.011293  -82.048315         0  fraudTrain.csv  "
      ]
     },
     "execution_count": 23,
     "metadata": {},
     "output_type": "execute_result"
    }
   ],
   "source": [
    "df_eda = df.copy()\n",
    "df_eda.head(1)"
   ]
  },
  {
   "cell_type": "code",
   "execution_count": null,
   "id": "a1853979",
   "metadata": {
    "execution": {
     "iopub.execute_input": "2025-01-13T17:53:07.729880Z",
     "iopub.status.busy": "2025-01-13T17:53:07.729539Z",
     "iopub.status.idle": "2025-01-13T17:53:09.538953Z",
     "shell.execute_reply": "2025-01-13T17:53:09.537828Z"
    },
    "papermill": {
     "duration": 1.841223,
     "end_time": "2025-01-13T17:53:09.540546",
     "exception": false,
     "start_time": "2025-01-13T17:53:07.699323",
     "status": "completed"
    },
    "tags": []
   },
   "outputs": [
    {
     "data": {
      "text/html": [
       "<div>\n",
       "<style scoped>\n",
       "    .dataframe tbody tr th:only-of-type {\n",
       "        vertical-align: middle;\n",
       "    }\n",
       "\n",
       "    .dataframe tbody tr th {\n",
       "        vertical-align: top;\n",
       "    }\n",
       "\n",
       "    .dataframe thead th {\n",
       "        text-align: right;\n",
       "    }\n",
       "</style>\n",
       "<table border=\"1\" class=\"dataframe\">\n",
       "  <thead>\n",
       "    <tr style=\"text-align: right;\">\n",
       "      <th></th>\n",
       "      <th>transaction_hour</th>\n",
       "      <th>day_of_week</th>\n",
       "      <th>transaction_month</th>\n",
       "      <th>part_of_day</th>\n",
       "      <th>is_weekend</th>\n",
       "    </tr>\n",
       "  </thead>\n",
       "  <tbody>\n",
       "    <tr>\n",
       "      <th>0</th>\n",
       "      <td>0</td>\n",
       "      <td>Tuesday</td>\n",
       "      <td>1</td>\n",
       "      <td>Night</td>\n",
       "      <td>0</td>\n",
       "    </tr>\n",
       "    <tr>\n",
       "      <th>1</th>\n",
       "      <td>0</td>\n",
       "      <td>Tuesday</td>\n",
       "      <td>1</td>\n",
       "      <td>Night</td>\n",
       "      <td>0</td>\n",
       "    </tr>\n",
       "    <tr>\n",
       "      <th>2</th>\n",
       "      <td>0</td>\n",
       "      <td>Tuesday</td>\n",
       "      <td>1</td>\n",
       "      <td>Night</td>\n",
       "      <td>0</td>\n",
       "    </tr>\n",
       "    <tr>\n",
       "      <th>3</th>\n",
       "      <td>0</td>\n",
       "      <td>Tuesday</td>\n",
       "      <td>1</td>\n",
       "      <td>Night</td>\n",
       "      <td>0</td>\n",
       "    </tr>\n",
       "    <tr>\n",
       "      <th>4</th>\n",
       "      <td>0</td>\n",
       "      <td>Tuesday</td>\n",
       "      <td>1</td>\n",
       "      <td>Night</td>\n",
       "      <td>0</td>\n",
       "    </tr>\n",
       "  </tbody>\n",
       "</table>\n",
       "</div>"
      ],
      "text/plain": [
       "   transaction_hour day_of_week  transaction_month part_of_day  is_weekend\n",
       "0                 0     Tuesday                  1       Night           0\n",
       "1                 0     Tuesday                  1       Night           0\n",
       "2                 0     Tuesday                  1       Night           0\n",
       "3                 0     Tuesday                  1       Night           0\n",
       "4                 0     Tuesday                  1       Night           0"
      ]
     },
     "execution_count": 24,
     "metadata": {},
     "output_type": "execute_result"
    }
   ],
   "source": [
    "df_eda['trans_date_trans_time'] = pd.to_datetime(df_eda['trans_date_trans_time'])\n",
    "\n",
    "df_eda['transaction_hour'] = df_eda['trans_date_trans_time'].dt.hour\n",
    "\n",
    "df_eda['day_of_week'] = df_eda['trans_date_trans_time'].dt.day_name()  # Keep only weekday names\n",
    "\n",
    "df_eda['transaction_month'] = df_eda['trans_date_trans_time'].dt.month\n",
    "\n",
    "def categorize_part_of_day(hour):\n",
    "    if 5 <= hour < 12:\n",
    "        return 'Morning'\n",
    "    elif 12 <= hour < 17:\n",
    "        return 'Afternoon'\n",
    "    elif 17 <= hour < 21:\n",
    "        return 'Evening'\n",
    "    elif 21 <= hour or hour < 5:\n",
    "        return 'Night'\n",
    "\n",
    "df_eda['part_of_day'] = df_eda['transaction_hour'].apply(categorize_part_of_day)\n",
    "\n",
    "df_eda['is_weekend'] = df_eda['trans_date_trans_time'].dt.weekday.isin([5, 6]).astype(int)\n",
    "\n",
    "df_eda[['transaction_hour', 'day_of_week', 'transaction_month', 'part_of_day', 'is_weekend']].head()\n"
   ]
  },
  {
   "cell_type": "code",
   "execution_count": null,
   "id": "8c40b38b",
   "metadata": {
    "execution": {
     "iopub.execute_input": "2025-01-13T17:53:09.598453Z",
     "iopub.status.busy": "2025-01-13T17:53:09.598060Z",
     "iopub.status.idle": "2025-01-13T17:53:10.148841Z",
     "shell.execute_reply": "2025-01-13T17:53:10.147808Z"
    },
    "papermill": {
     "duration": 0.581917,
     "end_time": "2025-01-13T17:53:10.150813",
     "exception": false,
     "start_time": "2025-01-13T17:53:09.568896",
     "status": "completed"
    },
    "tags": []
   },
   "outputs": [
    {
     "data": {
      "text/plain": [
       "count    1.852394e+06\n",
       "mean     4.675016e+01\n",
       "std      1.740332e+01\n",
       "min      1.500000e+01\n",
       "25%      3.300000e+01\n",
       "50%      4.500000e+01\n",
       "75%      5.800000e+01\n",
       "max      9.600000e+01\n",
       "Name: age, dtype: float64"
      ]
     },
     "execution_count": 25,
     "metadata": {},
     "output_type": "execute_result"
    }
   ],
   "source": [
    "df_eda['dob'] = pd.to_datetime(df_eda['dob'], errors='coerce')\n",
    "\n",
    "reference_date = datetime(2020, 12, 31)  # Set the reference date to 31st December 2020\n",
    "df_eda['age'] = (reference_date - df_eda['dob']).dt.days // 365  # Convert days to years\n",
    "\n",
    "df_eda['age'].describe()"
   ]
  },
  {
   "cell_type": "code",
   "execution_count": null,
   "id": "2a9759cf",
   "metadata": {
    "execution": {
     "iopub.execute_input": "2025-01-13T17:53:10.210053Z",
     "iopub.status.busy": "2025-01-13T17:53:10.209718Z",
     "iopub.status.idle": "2025-01-13T17:53:10.907272Z",
     "shell.execute_reply": "2025-01-13T17:53:10.906218Z"
    },
    "papermill": {
     "duration": 0.728948,
     "end_time": "2025-01-13T17:53:10.909110",
     "exception": false,
     "start_time": "2025-01-13T17:53:10.180162",
     "status": "completed"
    },
    "tags": []
   },
   "outputs": [
    {
     "data": {
      "text/html": [
       "<div>\n",
       "<style scoped>\n",
       "    .dataframe tbody tr th:only-of-type {\n",
       "        vertical-align: middle;\n",
       "    }\n",
       "\n",
       "    .dataframe tbody tr th {\n",
       "        vertical-align: top;\n",
       "    }\n",
       "\n",
       "    .dataframe thead th {\n",
       "        text-align: right;\n",
       "    }\n",
       "</style>\n",
       "<table border=\"1\" class=\"dataframe\">\n",
       "  <thead>\n",
       "    <tr style=\"text-align: right;\">\n",
       "      <th></th>\n",
       "      <th>age</th>\n",
       "      <th>age_group</th>\n",
       "    </tr>\n",
       "  </thead>\n",
       "  <tbody>\n",
       "    <tr>\n",
       "      <th>0</th>\n",
       "      <td>32</td>\n",
       "      <td>Adult</td>\n",
       "    </tr>\n",
       "    <tr>\n",
       "      <th>1</th>\n",
       "      <td>42</td>\n",
       "      <td>Middle-Aged</td>\n",
       "    </tr>\n",
       "    <tr>\n",
       "      <th>2</th>\n",
       "      <td>58</td>\n",
       "      <td>Middle-Aged</td>\n",
       "    </tr>\n",
       "    <tr>\n",
       "      <th>3</th>\n",
       "      <td>54</td>\n",
       "      <td>Middle-Aged</td>\n",
       "    </tr>\n",
       "    <tr>\n",
       "      <th>4</th>\n",
       "      <td>34</td>\n",
       "      <td>Adult</td>\n",
       "    </tr>\n",
       "  </tbody>\n",
       "</table>\n",
       "</div>"
      ],
      "text/plain": [
       "   age    age_group\n",
       "0   32        Adult\n",
       "1   42  Middle-Aged\n",
       "2   58  Middle-Aged\n",
       "3   54  Middle-Aged\n",
       "4   34        Adult"
      ]
     },
     "execution_count": 26,
     "metadata": {},
     "output_type": "execute_result"
    }
   ],
   "source": [
    "def categorize_age_group(age):\n",
    "    if age <= 12:\n",
    "        return 'Child'\n",
    "    elif 13 <= age <= 17:\n",
    "        return 'Teenager'\n",
    "    elif 18 <= age <= 25:\n",
    "        return 'Young Adult'\n",
    "    elif 26 <= age <= 40:\n",
    "        return 'Adult'\n",
    "    elif 41 <= age <= 60:\n",
    "        return 'Middle-Aged'\n",
    "    elif 61 <= age <= 80:\n",
    "        return 'Senior'\n",
    "    else:\n",
    "        return 'Elderly'\n",
    "\n",
    "df_eda['age_group'] = df_eda['age'].apply(categorize_age_group)\n",
    "\n",
    "# Display the new 'age_group' column\n",
    "df_eda[['age', 'age_group']].head()\n"
   ]
  },
  {
   "cell_type": "code",
   "execution_count": null,
   "id": "884f3bbe",
   "metadata": {
    "execution": {
     "iopub.execute_input": "2025-01-13T17:53:10.971417Z",
     "iopub.status.busy": "2025-01-13T17:53:10.971026Z",
     "iopub.status.idle": "2025-01-13T17:53:10.977485Z",
     "shell.execute_reply": "2025-01-13T17:53:10.976515Z"
    },
    "papermill": {
     "duration": 0.040806,
     "end_time": "2025-01-13T17:53:10.979041",
     "exception": false,
     "start_time": "2025-01-13T17:53:10.938235",
     "status": "completed"
    },
    "tags": []
   },
   "outputs": [],
   "source": [
    "def calculate_distance(X, lat_col, long_col, merch_lat_col, merch_long_col, new_column):\n",
    "   \n",
    "    X = X.copy()\n",
    "    \n",
    "    lat1 = np.radians(X[lat_col])\n",
    "    lon1 = np.radians(X[long_col])\n",
    "    lat2 = np.radians(X[merch_lat_col])\n",
    "    lon2 = np.radians(X[merch_long_col])\n",
    "    \n",
    "    dlat = lat2 - lat1\n",
    "    dlon = lon2 - lon1\n",
    "    a = np.sin(dlat / 2) ** 2 + np.cos(lat1) * np.cos(lat2) * np.sin(dlon / 2) ** 2\n",
    "    c = 2 * np.arctan2(np.sqrt(a), np.sqrt(1 - a))\n",
    "    R = 6371  \n",
    "    X[new_column] = R * c\n",
    "    return X\n",
    "\n"
   ]
  },
  {
   "cell_type": "code",
   "execution_count": null,
   "id": "5cd01e86",
   "metadata": {
    "execution": {
     "iopub.execute_input": "2025-01-13T17:53:11.038916Z",
     "iopub.status.busy": "2025-01-13T17:53:11.038557Z",
     "iopub.status.idle": "2025-01-13T17:53:12.868780Z",
     "shell.execute_reply": "2025-01-13T17:53:12.867673Z"
    },
    "papermill": {
     "duration": 1.862676,
     "end_time": "2025-01-13T17:53:12.870600",
     "exception": false,
     "start_time": "2025-01-13T17:53:11.007924",
     "status": "completed"
    },
    "tags": []
   },
   "outputs": [
    {
     "data": {
      "text/html": [
       "<div>\n",
       "<style scoped>\n",
       "    .dataframe tbody tr th:only-of-type {\n",
       "        vertical-align: middle;\n",
       "    }\n",
       "\n",
       "    .dataframe tbody tr th {\n",
       "        vertical-align: top;\n",
       "    }\n",
       "\n",
       "    .dataframe thead th {\n",
       "        text-align: right;\n",
       "    }\n",
       "</style>\n",
       "<table border=\"1\" class=\"dataframe\">\n",
       "  <thead>\n",
       "    <tr style=\"text-align: right;\">\n",
       "      <th></th>\n",
       "      <th>lat</th>\n",
       "      <th>long</th>\n",
       "      <th>merch_lat</th>\n",
       "      <th>merch_long</th>\n",
       "      <th>distance</th>\n",
       "    </tr>\n",
       "  </thead>\n",
       "  <tbody>\n",
       "    <tr>\n",
       "      <th>0</th>\n",
       "      <td>36.0788</td>\n",
       "      <td>-81.1781</td>\n",
       "      <td>36.011293</td>\n",
       "      <td>-82.048315</td>\n",
       "      <td>78.597568</td>\n",
       "    </tr>\n",
       "    <tr>\n",
       "      <th>1</th>\n",
       "      <td>48.8878</td>\n",
       "      <td>-118.2105</td>\n",
       "      <td>49.159047</td>\n",
       "      <td>-118.186462</td>\n",
       "      <td>30.212176</td>\n",
       "    </tr>\n",
       "    <tr>\n",
       "      <th>2</th>\n",
       "      <td>42.1808</td>\n",
       "      <td>-112.2620</td>\n",
       "      <td>43.150704</td>\n",
       "      <td>-112.154481</td>\n",
       "      <td>108.206083</td>\n",
       "    </tr>\n",
       "    <tr>\n",
       "      <th>3</th>\n",
       "      <td>46.2306</td>\n",
       "      <td>-112.1138</td>\n",
       "      <td>47.034331</td>\n",
       "      <td>-112.561071</td>\n",
       "      <td>95.673231</td>\n",
       "    </tr>\n",
       "    <tr>\n",
       "      <th>4</th>\n",
       "      <td>38.4207</td>\n",
       "      <td>-79.4629</td>\n",
       "      <td>38.674999</td>\n",
       "      <td>-78.632459</td>\n",
       "      <td>77.556744</td>\n",
       "    </tr>\n",
       "  </tbody>\n",
       "</table>\n",
       "</div>"
      ],
      "text/plain": [
       "       lat      long  merch_lat  merch_long    distance\n",
       "0  36.0788  -81.1781  36.011293  -82.048315   78.597568\n",
       "1  48.8878 -118.2105  49.159047 -118.186462   30.212176\n",
       "2  42.1808 -112.2620  43.150704 -112.154481  108.206083\n",
       "3  46.2306 -112.1138  47.034331 -112.561071   95.673231\n",
       "4  38.4207  -79.4629  38.674999  -78.632459   77.556744"
      ]
     },
     "execution_count": 28,
     "metadata": {},
     "output_type": "execute_result"
    }
   ],
   "source": [
    "df_eda = calculate_distance(df_eda, 'lat', 'long', 'merch_lat', 'merch_long', 'distance')\n",
    "\n",
    "df_eda[['lat', 'long', 'merch_lat', 'merch_long', 'distance']].head()"
   ]
  },
  {
   "cell_type": "code",
   "execution_count": 29,
   "id": "fb47176b",
   "metadata": {
    "execution": {
     "iopub.execute_input": "2025-01-13T17:53:12.930005Z",
     "iopub.status.busy": "2025-01-13T17:53:12.929677Z",
     "iopub.status.idle": "2025-01-13T17:53:13.015389Z",
     "shell.execute_reply": "2025-01-13T17:53:13.014241Z"
    },
    "papermill": {
     "duration": 0.117014,
     "end_time": "2025-01-13T17:53:13.017224",
     "exception": false,
     "start_time": "2025-01-13T17:53:12.900210",
     "status": "completed"
    },
    "tags": []
   },
   "outputs": [
    {
     "data": {
      "text/plain": [
       "count    1.852394e+06\n",
       "mean     7.611173e+01\n",
       "std      2.911697e+01\n",
       "min      2.225452e-02\n",
       "25%      5.532009e+01\n",
       "50%      7.821638e+01\n",
       "75%      9.850947e+01\n",
       "max      1.521172e+02\n",
       "Name: distance, dtype: float64"
      ]
     },
     "execution_count": 29,
     "metadata": {},
     "output_type": "execute_result"
    }
   ],
   "source": [
    "df_eda['distance'].describe()"
   ]
  },
  {
   "cell_type": "code",
   "execution_count": null,
   "id": "4ac820cc",
   "metadata": {
    "execution": {
     "iopub.execute_input": "2025-01-13T17:53:13.076958Z",
     "iopub.status.busy": "2025-01-13T17:53:13.076596Z",
     "iopub.status.idle": "2025-01-13T17:53:13.130069Z",
     "shell.execute_reply": "2025-01-13T17:53:13.129077Z"
    },
    "papermill": {
     "duration": 0.08549,
     "end_time": "2025-01-13T17:53:13.131984",
     "exception": false,
     "start_time": "2025-01-13T17:53:13.046494",
     "status": "completed"
    },
    "tags": []
   },
   "outputs": [],
   "source": [
    "city_pop_bins = [0, 10000, 50000, 100000, 500000, 1000000, np.inf]\n",
    "city_pop_labels = ['<10K', '10K-50K', '50K-100K', '100K-500K', '500K-1M', '>1M']\n",
    "\n",
    "df_eda['city_pop_bin'] = pd.cut(df_eda['city_pop'], bins=city_pop_bins, labels=city_pop_labels)"
   ]
  },
  {
   "cell_type": "code",
   "execution_count": null,
   "id": "e08edbc8",
   "metadata": {
    "execution": {
     "iopub.execute_input": "2025-01-13T17:53:13.192531Z",
     "iopub.status.busy": "2025-01-13T17:53:13.192198Z",
     "iopub.status.idle": "2025-01-13T17:53:13.392242Z",
     "shell.execute_reply": "2025-01-13T17:53:13.391230Z"
    },
    "papermill": {
     "duration": 0.231605,
     "end_time": "2025-01-13T17:53:13.394026",
     "exception": false,
     "start_time": "2025-01-13T17:53:13.162421",
     "status": "completed"
    },
    "tags": []
   },
   "outputs": [],
   "source": [
    "columns_to_remove = ['Unnamed: 0', 'trans_date_trans_time', 'cc_num', 'merchant',\n",
    "        'first', 'last',  'street', 'city', 'state', 'zip',\n",
    "       'lat', 'long',  'job', 'dob', 'trans_num', 'unix_time',\n",
    "       'merch_lat', 'merch_long'\n",
    "]\n",
    "\n",
    "df_eda.drop(columns=columns_to_remove, inplace=True)"
   ]
  },
  {
   "cell_type": "code",
   "execution_count": 32,
   "id": "2757a981",
   "metadata": {
    "execution": {
     "iopub.execute_input": "2025-01-13T17:53:13.454544Z",
     "iopub.status.busy": "2025-01-13T17:53:13.454160Z",
     "iopub.status.idle": "2025-01-13T17:53:13.459946Z",
     "shell.execute_reply": "2025-01-13T17:53:13.458909Z"
    },
    "papermill": {
     "duration": 0.036926,
     "end_time": "2025-01-13T17:53:13.461691",
     "exception": false,
     "start_time": "2025-01-13T17:53:13.424765",
     "status": "completed"
    },
    "tags": []
   },
   "outputs": [
    {
     "data": {
      "text/plain": [
       "Index(['category', 'amt', 'gender', 'city_pop', 'is_fraud', 'source_file',\n",
       "       'transaction_hour', 'day_of_week', 'transaction_month', 'part_of_day',\n",
       "       'is_weekend', 'age', 'age_group', 'distance', 'city_pop_bin'],\n",
       "      dtype='object')"
      ]
     },
     "execution_count": 32,
     "metadata": {},
     "output_type": "execute_result"
    }
   ],
   "source": [
    "df_eda.columns"
   ]
  },
  {
   "cell_type": "code",
   "execution_count": null,
   "id": "531ef22b",
   "metadata": {
    "execution": {
     "iopub.execute_input": "2025-01-13T17:53:13.579157Z",
     "iopub.status.busy": "2025-01-13T17:53:13.578773Z",
     "iopub.status.idle": "2025-01-13T17:53:13.849159Z",
     "shell.execute_reply": "2025-01-13T17:53:13.847960Z"
    },
    "papermill": {
     "duration": 0.30201,
     "end_time": "2025-01-13T17:53:13.850904",
     "exception": false,
     "start_time": "2025-01-13T17:53:13.548894",
     "status": "completed"
    },
    "tags": []
   },
   "outputs": [
    {
     "data": {
      "image/png": "[encoded data removed]",
      "text/plain": [
       "<Figure size 600x400 with 1 Axes>"
      ]
     },
     "metadata": {},
     "output_type": "display_data"
    }
   ],
   "source": [
    "plt.figure(figsize=(6, 4))\n",
    "sns.countplot(x='is_fraud', data=df_eda, palette='viridis')\n",
    "plt.title('Distribution of Fraudulent Transactions')\n",
    "plt.xlabel('Fraudulent Transaction')\n",
    "plt.ylabel('Count')\n",
    "plt.show()"
   ]
  },
  {
   "cell_type": "code",
   "execution_count": 34,
   "id": "36dd237a",
   "metadata": {
    "execution": {
     "iopub.execute_input": "2025-01-13T17:53:14.029313Z",
     "iopub.status.busy": "2025-01-13T17:53:14.028912Z",
     "iopub.status.idle": "2025-01-13T17:53:22.093984Z",
     "shell.execute_reply": "2025-01-13T17:53:22.092834Z"
    },
    "papermill": {
     "duration": 8.097692,
     "end_time": "2025-01-13T17:53:22.095886",
     "exception": false,
     "start_time": "2025-01-13T17:53:13.998194",
     "status": "completed"
    },
    "tags": []
   },
   "outputs": [
    {
     "data": {
      "image/png": "[encoded data removed]",
      "text/plain": [
       "<Figure size 800x600 with 1 Axes>"
      ]
     },
     "metadata": {},
     "output_type": "display_data"
    }
   ],
   "source": [
    "# Plot the distribution of the transaction amount\n",
    "plt.figure(figsize=(8, 6))\n",
    "sns.histplot(df_eda['amt'], kde=True, color='purple', bins=50)\n",
    "plt.title('Distribution of Transaction Amounts')\n",
    "plt.xlabel('Amount')\n",
    "plt.ylabel('Frequency')\n",
    "plt.show()"
   ]
  },
  {
   "cell_type": "code",
   "execution_count": null,
   "id": "8b5aaae6",
   "metadata": {
    "execution": {
     "iopub.execute_input": "2025-01-13T17:53:22.766365Z",
     "iopub.status.busy": "2025-01-13T17:53:22.765968Z",
     "iopub.status.idle": "2025-01-13T17:53:23.097812Z",
     "shell.execute_reply": "2025-01-13T17:53:23.096594Z"
    },
    "papermill": {
     "duration": 0.36579,
     "end_time": "2025-01-13T17:53:23.099525",
     "exception": false,
     "start_time": "2025-01-13T17:53:22.733735",
     "status": "completed"
    },
    "tags": []
   },
   "outputs": [
    {
     "data": {
      "image/png": "[encoded data removed]",
      "text/plain": [
       "<Figure size 800x600 with 1 Axes>"
      ]
     },
     "metadata": {},
     "output_type": "display_data"
    }
   ],
   "source": [
    "fraud_by_day = df_eda.groupby('day_of_week')['is_fraud'].sum()\n",
    "\n",
    "plt.figure(figsize=(8, 6))\n",
    "fraud_by_day.sort_values().plot(kind='bar', color='orange')\n",
    "plt.title('Fraudulent Transactions by Day')\n",
    "plt.xlabel('Day of Week')\n",
    "plt.ylabel('Number of Fraudulent Transactions')\n",
    "plt.show()"
   ]
  },
  {
   "cell_type": "code",
   "execution_count": null,
   "id": "5c075c9f",
   "metadata": {
    "execution": {
     "iopub.execute_input": "2025-01-13T17:53:23.290165Z",
     "iopub.status.busy": "2025-01-13T17:53:23.289798Z",
     "iopub.status.idle": "2025-01-13T17:53:23.518321Z",
     "shell.execute_reply": "2025-01-13T17:53:23.517190Z"
    },
    "papermill": {
     "duration": 0.262498,
     "end_time": "2025-01-13T17:53:23.520003",
     "exception": false,
     "start_time": "2025-01-13T17:53:23.257505",
     "status": "completed"
    },
    "tags": []
   },
   "outputs": [
    {
     "data": {
      "image/png": "[encoded data removed]",
      "text/plain": [
       "<Figure size 800x600 with 1 Axes>"
      ]
     },
     "metadata": {},
     "output_type": "display_data"
    }
   ],
   "source": [
    "fraud_by_age = df_eda.groupby('age')['is_fraud'].sum()\n",
    "\n",
    "plt.figure(figsize=(8, 6))\n",
    "fraud_by_age.plot(kind='line', color='red')\n",
    "plt.title('Fraudulent Transactions by Age')\n",
    "plt.xlabel('Age')\n",
    "plt.ylabel('Number of Fraudulent Transactions')\n",
    "plt.show()"
   ]
  },
  {
   "cell_type": "code",
   "execution_count": null,
   "id": "da7fdcdd",
   "metadata": {
    "execution": {
     "iopub.execute_input": "2025-01-13T17:53:23.716744Z",
     "iopub.status.busy": "2025-01-13T17:53:23.716232Z",
     "iopub.status.idle": "2025-01-13T17:53:25.069391Z",
     "shell.execute_reply": "2025-01-13T17:53:25.068345Z"
    },
    "papermill": {
     "duration": 1.389372,
     "end_time": "2025-01-13T17:53:25.071248",
     "exception": false,
     "start_time": "2025-01-13T17:53:23.681876",
     "status": "completed"
    },
    "tags": []
   },
   "outputs": [
    {
     "data": {
      "image/png": "[encoded data removed]",
      "text/plain": [
       "<Figure size 800x600 with 1 Axes>"
      ]
     },
     "metadata": {},
     "output_type": "display_data"
    }
   ],
   "source": [
    "plt.figure(figsize=(8, 6))\n",
    "sns.countplot(x='part_of_day', hue='is_fraud', data=df_eda, palette='coolwarm')\n",
    "plt.title('Fraudulent Transactions by Part of Day')\n",
    "plt.xlabel('Part of Day')\n",
    "plt.ylabel('Count')\n",
    "plt.show()"
   ]
  },
  {
   "cell_type": "code",
   "execution_count": null,
   "id": "3f70edb2",
   "metadata": {
    "execution": {
     "iopub.execute_input": "2025-01-13T17:53:25.272802Z",
     "iopub.status.busy": "2025-01-13T17:53:25.272425Z",
     "iopub.status.idle": "2025-01-13T17:53:25.549672Z",
     "shell.execute_reply": "2025-01-13T17:53:25.548514Z"
    },
    "papermill": {
     "duration": 0.313665,
     "end_time": "2025-01-13T17:53:25.551470",
     "exception": false,
     "start_time": "2025-01-13T17:53:25.237805",
     "status": "completed"
    },
    "tags": []
   },
   "outputs": [
    {
     "data": {
      "image/png": "[encoded data removed]",
      "text/plain": [
       "<Figure size 800x600 with 1 Axes>"
      ]
     },
     "metadata": {},
     "output_type": "display_data"
    }
   ],
   "source": [
    "fraud_by_hour = df_eda.groupby('transaction_hour')['is_fraud'].sum()\n",
    "\n",
    "plt.figure(figsize=(8, 6))\n",
    "fraud_by_hour.plot(kind='line', color='purple')\n",
    "plt.title('Fraudulent Transactions by Hour of Day')\n",
    "plt.xlabel('Hour of Day')\n",
    "plt.ylabel('Number of Fraudulent Transactions')\n",
    "plt.show()"
   ]
  },
  {
   "cell_type": "code",
   "execution_count": null,
   "id": "23c27e26",
   "metadata": {
    "execution": {
     "iopub.execute_input": "2025-01-13T17:53:25.757967Z",
     "iopub.status.busy": "2025-01-13T17:53:25.757601Z",
     "iopub.status.idle": "2025-01-13T17:53:27.131450Z",
     "shell.execute_reply": "2025-01-13T17:53:27.130336Z"
    },
    "papermill": {
     "duration": 1.410911,
     "end_time": "2025-01-13T17:53:27.133368",
     "exception": false,
     "start_time": "2025-01-13T17:53:25.722457",
     "status": "completed"
    },
    "tags": []
   },
   "outputs": [
    {
     "data": {
      "image/png": "[encoded data removed]",
      "text/plain": [
       "<Figure size 800x600 with 1 Axes>"
      ]
     },
     "metadata": {},
     "output_type": "display_data"
    }
   ],
   "source": [
    "plt.figure(figsize=(8, 6))\n",
    "sns.countplot(x='age_group', hue='is_fraud', data=df_eda, palette='Set1')\n",
    "plt.title('Fraudulent Transactions by Age Group')\n",
    "plt.xlabel('Age Group')\n",
    "plt.ylabel('Count')\n",
    "plt.show()"
   ]
  },
  {
   "cell_type": "code",
   "execution_count": null,
   "id": "536eb879",
   "metadata": {
    "execution": {
     "iopub.execute_input": "2025-01-13T17:53:27.343442Z",
     "iopub.status.busy": "2025-01-13T17:53:27.343048Z",
     "iopub.status.idle": "2025-01-13T17:53:27.803591Z",
     "shell.execute_reply": "2025-01-13T17:53:27.802417Z"
    },
    "papermill": {
     "duration": 0.497465,
     "end_time": "2025-01-13T17:53:27.805270",
     "exception": false,
     "start_time": "2025-01-13T17:53:27.307805",
     "status": "completed"
    },
    "tags": []
   },
   "outputs": [
    {
     "data": {
      "image/png": "[encoded data removed]",
      "text/plain": [
       "<Figure size 1000x600 with 1 Axes>"
      ]
     },
     "metadata": {},
     "output_type": "display_data"
    }
   ],
   "source": [
    "distance_bins = np.linspace(df_eda['distance'].min(), df_eda['distance'].max(), num=20)\n",
    "# Bin the 'distance' column\n",
    "df_eda['distance_bin'] = pd.cut(df_eda['distance'], bins=distance_bins)\n",
    "\n",
    "fraud_by_distance_bin = df_eda.groupby('distance_bin')['is_fraud'].sum()\n",
    "\n",
    "# Plot the result\n",
    "plt.figure(figsize=(10, 6))\n",
    "fraud_by_distance_bin.plot(kind='bar', color='orange')\n",
    "plt.title('Fraudulent Transactions by Distance (Binned)')\n",
    "plt.xlabel('Distance Bins')\n",
    "plt.ylabel('Number of Fraudulent Transactions')\n",
    "plt.xticks(rotation=45)\n",
    "plt.show()"
   ]
  },
  {
   "cell_type": "code",
   "execution_count": 43,
   "id": "2557c74c",
   "metadata": {
    "execution": {
     "iopub.execute_input": "2025-01-13T17:53:28.452330Z",
     "iopub.status.busy": "2025-01-13T17:53:28.451929Z",
     "iopub.status.idle": "2025-01-13T17:53:29.113292Z",
     "shell.execute_reply": "2025-01-13T17:53:29.112227Z"
    },
    "papermill": {
     "duration": 0.70058,
     "end_time": "2025-01-13T17:53:29.114937",
     "exception": false,
     "start_time": "2025-01-13T17:53:28.414357",
     "status": "completed"
    },
    "tags": []
   },
   "outputs": [
    {
     "name": "stdout",
     "output_type": "stream",
     "text": [
      "There are 7 numerical features : ['amt', 'city_pop', 'transaction_hour', 'transaction_month', 'is_weekend', 'age', 'distance']\n",
      "\n",
      "There are 3 discrete numerical features : ['transaction_hour', 'transaction_month', 'is_weekend']\n",
      "\n",
      "There are 4 continuos numerical features : ['amt', 'city_pop', 'age', 'distance']\n",
      "\n",
      "There are 6 categorical features : ['category', 'gender', 'source_file', 'day_of_week', 'part_of_day', 'age_group']\n"
     ]
    }
   ],
   "source": [
    "# define numerical & categorical columns\n",
    "numerical_features = [\n",
    "    feature for feature in df_eda.columns \n",
    "    if pd.api.types.is_numeric_dtype(df_eda[feature]) and feature != \"is_fraud\"\n",
    "]\n",
    "\n",
    "discrete_numerical_features = [feature for feature in numerical_features if df_eda[feature].nunique() < 25]\n",
    "\n",
    "continuous_numerical_features = [feature for feature in numerical_features if df_eda[feature].nunique() >= 25]\n",
    "\n",
    "categorical_features = [feature for feature in df_eda.columns if df_eda[feature].dtype == 'object']\n",
    "\n",
    "target_column = \"is_fraud\"\n",
    "\n",
    "# print column names\n",
    "print(f'There are {len(numerical_features)} numerical features : {numerical_features}')\n",
    "print(f'\\nThere are {len(discrete_numerical_features)} discrete numerical features : {discrete_numerical_features}')\n",
    "print(f'\\nThere are {len(continuous_numerical_features)} continuos numerical features : {continuous_numerical_features}')\n",
    "print(f'\\nThere are {len(categorical_features)} categorical features : {categorical_features}')"
   ]
  },
  {
   "cell_type": "code",
   "execution_count": 44,
   "id": "81378214",
   "metadata": {
    "execution": {
     "iopub.execute_input": "2025-01-13T17:53:29.189318Z",
     "iopub.status.busy": "2025-01-13T17:53:29.188955Z",
     "iopub.status.idle": "2025-01-13T17:53:29.206140Z",
     "shell.execute_reply": "2025-01-13T17:53:29.204914Z"
    },
    "papermill": {
     "duration": 0.056296,
     "end_time": "2025-01-13T17:53:29.207851",
     "exception": false,
     "start_time": "2025-01-13T17:53:29.151555",
     "status": "completed"
    },
    "tags": []
   },
   "outputs": [
    {
     "name": "stdout",
     "output_type": "stream",
     "text": [
      "<class 'pandas.core.series.Series'>\n",
      "RangeIndex: 1852394 entries, 0 to 1852393\n",
      "Series name: age\n",
      "Non-Null Count    Dtype\n",
      "--------------    -----\n",
      "1852394 non-null  int64\n",
      "dtypes: int64(1)\n",
      "memory usage: 14.1 MB\n"
     ]
    }
   ],
   "source": [
    "df_eda['age'].info()"
   ]
  },
  {
   "cell_type": "code",
   "execution_count": 48,
   "id": "cc724bf2",
   "metadata": {
    "execution": {
     "iopub.execute_input": "2025-01-13T17:54:37.062908Z",
     "iopub.status.busy": "2025-01-13T17:54:37.062550Z",
     "iopub.status.idle": "2025-01-13T17:54:37.143868Z",
     "shell.execute_reply": "2025-01-13T17:54:37.142730Z"
    },
    "papermill": {
     "duration": 0.125424,
     "end_time": "2025-01-13T17:54:37.145572",
     "exception": false,
     "start_time": "2025-01-13T17:54:37.020148",
     "status": "completed"
    },
    "tags": []
   },
   "outputs": [
    {
     "name": "stdout",
     "output_type": "stream",
     "text": [
      "'amt' is highly skewed with skewness: 40.81\n",
      "'city_pop' is highly skewed with skewness: 5.59\n"
     ]
    }
   ],
   "source": [
    "# Check for Skewness in Numerical Columns\n",
    "for feature in continuous_numerical_features:\n",
    "    skewness = df_eda[feature].skew()\n",
    "    if abs(skewness) > 1:\n",
    "        print(f\"'{feature}' is highly skewed with skewness: {skewness:.2f}\")"
   ]
  },
  {
   "cell_type": "code",
   "execution_count": 49,
   "id": "54a0ebcc",
   "metadata": {
    "execution": {
     "iopub.execute_input": "2025-01-13T17:54:37.231240Z",
     "iopub.status.busy": "2025-01-13T17:54:37.230853Z",
     "iopub.status.idle": "2025-01-13T17:54:40.493660Z",
     "shell.execute_reply": "2025-01-13T17:54:40.491429Z"
    },
    "papermill": {
     "duration": 3.309138,
     "end_time": "2025-01-13T17:54:40.496864",
     "exception": false,
     "start_time": "2025-01-13T17:54:37.187726",
     "status": "completed"
    },
    "tags": []
   },
   "outputs": [
    {
     "name": "stdout",
     "output_type": "stream",
     "text": [
      "    Feature        VIF\n",
      "0     const  15.587590\n",
      "1       amt   1.000130\n",
      "2  city_pop   1.008367\n",
      "3       age   1.008353\n",
      "4  distance   1.000131\n"
     ]
    }
   ],
   "source": [
    "# Check for Multicollinearity\n",
    "# Compute VIF for each numerical feature\n",
    "X = df_eda[continuous_numerical_features]\n",
    "X = add_constant(X)  # Add a constant column for VIF calculation\n",
    "vif = pd.DataFrame()\n",
    "vif['Feature'] = X.columns\n",
    "vif['VIF'] = [variance_inflation_factor(X.values, i) for i in range(X.shape[1])]\n",
    "print(vif)"
   ]
  },
  {
   "cell_type": "code",
   "execution_count": null,
   "id": "c84bd8f5",
   "metadata": {
    "execution": {
     "iopub.execute_input": "2025-01-13T17:54:59.724649Z",
     "iopub.status.busy": "2025-01-13T17:54:59.724215Z",
     "iopub.status.idle": "2025-01-13T17:55:00.520594Z",
     "shell.execute_reply": "2025-01-13T17:55:00.519360Z"
    },
    "papermill": {
     "duration": 0.842626,
     "end_time": "2025-01-13T17:55:00.522243",
     "exception": false,
     "start_time": "2025-01-13T17:54:59.679617",
     "status": "completed"
    },
    "tags": []
   },
   "outputs": [
    {
     "name": "stdout",
     "output_type": "stream",
     "text": [
      "Train data shape: (1296675, 23)\n",
      "Test data shape: (555719, 23)\n"
     ]
    }
   ],
   "source": [
    "train_df = df[df['source_file'].isin(train_files)].drop(columns=['source_file'])\n",
    "\n",
    "test_df = df[df['source_file'].isin(test_files)].drop(columns=['source_file'])\n",
    "\n",
    "print(f\"Train data shape: {train_df.shape}\")\n",
    "print(f\"Test data shape: {test_df.shape}\")"
   ]
  },
  {
   "cell_type": "code",
   "execution_count": 52,
   "id": "36a62190",
   "metadata": {
    "execution": {
     "iopub.execute_input": "2025-01-13T17:55:00.610998Z",
     "iopub.status.busy": "2025-01-13T17:55:00.610619Z",
     "iopub.status.idle": "2025-01-13T17:55:00.629581Z",
     "shell.execute_reply": "2025-01-13T17:55:00.628273Z"
    },
    "papermill": {
     "duration": 0.065124,
     "end_time": "2025-01-13T17:55:00.631047",
     "exception": false,
     "start_time": "2025-01-13T17:55:00.565923",
     "status": "completed"
    },
    "tags": []
   },
   "outputs": [
    {
     "data": {
      "text/html": [
       "<div>\n",
       "<style scoped>\n",
       "    .dataframe tbody tr th:only-of-type {\n",
       "        vertical-align: middle;\n",
       "    }\n",
       "\n",
       "    .dataframe tbody tr th {\n",
       "        vertical-align: top;\n",
       "    }\n",
       "\n",
       "    .dataframe thead th {\n",
       "        text-align: right;\n",
       "    }\n",
       "</style>\n",
       "<table border=\"1\" class=\"dataframe\">\n",
       "  <thead>\n",
       "    <tr style=\"text-align: right;\">\n",
       "      <th></th>\n",
       "      <th>Unnamed: 0</th>\n",
       "      <th>trans_date_trans_time</th>\n",
       "      <th>cc_num</th>\n",
       "      <th>merchant</th>\n",
       "      <th>category</th>\n",
       "      <th>amt</th>\n",
       "      <th>first</th>\n",
       "      <th>last</th>\n",
       "      <th>gender</th>\n",
       "      <th>street</th>\n",
       "      <th>city</th>\n",
       "      <th>state</th>\n",
       "      <th>zip</th>\n",
       "      <th>lat</th>\n",
       "      <th>long</th>\n",
       "      <th>city_pop</th>\n",
       "      <th>job</th>\n",
       "      <th>dob</th>\n",
       "      <th>trans_num</th>\n",
       "      <th>unix_time</th>\n",
       "      <th>merch_lat</th>\n",
       "      <th>merch_long</th>\n",
       "      <th>is_fraud</th>\n",
       "    </tr>\n",
       "  </thead>\n",
       "  <tbody>\n",
       "    <tr>\n",
       "      <th>1296675</th>\n",
       "      <td>0</td>\n",
       "      <td>2020-06-21 12:14:25</td>\n",
       "      <td>2291163933867244</td>\n",
       "      <td>fraud_Kirlin and Sons</td>\n",
       "      <td>personal_care</td>\n",
       "      <td>2.86</td>\n",
       "      <td>Jeff</td>\n",
       "      <td>Elliott</td>\n",
       "      <td>M</td>\n",
       "      <td>351 Darlene Green</td>\n",
       "      <td>Columbia</td>\n",
       "      <td>SC</td>\n",
       "      <td>29209</td>\n",
       "      <td>33.9659</td>\n",
       "      <td>-80.9355</td>\n",
       "      <td>333497</td>\n",
       "      <td>Mechanical engineer</td>\n",
       "      <td>1968-03-19</td>\n",
       "      <td>2da90c7d74bd46a0caf3777415b3ebd3</td>\n",
       "      <td>1371816865</td>\n",
       "      <td>33.986391</td>\n",
       "      <td>-81.200714</td>\n",
       "      <td>0</td>\n",
       "    </tr>\n",
       "    <tr>\n",
       "      <th>1296676</th>\n",
       "      <td>1</td>\n",
       "      <td>2020-06-21 12:14:33</td>\n",
       "      <td>3573030041201292</td>\n",
       "      <td>fraud_Sporer-Keebler</td>\n",
       "      <td>personal_care</td>\n",
       "      <td>29.84</td>\n",
       "      <td>Joanne</td>\n",
       "      <td>Williams</td>\n",
       "      <td>F</td>\n",
       "      <td>3638 Marsh Union</td>\n",
       "      <td>Altonah</td>\n",
       "      <td>UT</td>\n",
       "      <td>84002</td>\n",
       "      <td>40.3207</td>\n",
       "      <td>-110.4360</td>\n",
       "      <td>302</td>\n",
       "      <td>Sales professional, IT</td>\n",
       "      <td>1990-01-17</td>\n",
       "      <td>324cc204407e99f51b0d6ca0055005e7</td>\n",
       "      <td>1371816873</td>\n",
       "      <td>39.450498</td>\n",
       "      <td>-109.960431</td>\n",
       "      <td>0</td>\n",
       "    </tr>\n",
       "  </tbody>\n",
       "</table>\n",
       "</div>"
      ],
      "text/plain": [
       "         Unnamed: 0 trans_date_trans_time            cc_num  \\\n",
       "1296675           0   2020-06-21 12:14:25  2291163933867244   \n",
       "1296676           1   2020-06-21 12:14:33  3573030041201292   \n",
       "\n",
       "                      merchant       category    amt   first      last gender  \\\n",
       "1296675  fraud_Kirlin and Sons  personal_care   2.86    Jeff   Elliott      M   \n",
       "1296676   fraud_Sporer-Keebler  personal_care  29.84  Joanne  Williams      F   \n",
       "\n",
       "                    street      city state    zip      lat      long  \\\n",
       "1296675  351 Darlene Green  Columbia    SC  29209  33.9659  -80.9355   \n",
       "1296676   3638 Marsh Union   Altonah    UT  84002  40.3207 -110.4360   \n",
       "\n",
       "         city_pop                     job         dob  \\\n",
       "1296675    333497     Mechanical engineer  1968-03-19   \n",
       "1296676       302  Sales professional, IT  1990-01-17   \n",
       "\n",
       "                                trans_num   unix_time  merch_lat  merch_long  \\\n",
       "1296675  2da90c7d74bd46a0caf3777415b3ebd3  1371816865  33.986391  -81.200714   \n",
       "1296676  324cc204407e99f51b0d6ca0055005e7  1371816873  39.450498 -109.960431   \n",
       "\n",
       "         is_fraud  \n",
       "1296675         0  \n",
       "1296676         0  "
      ]
     },
     "execution_count": 52,
     "metadata": {},
     "output_type": "execute_result"
    }
   ],
   "source": [
    "test_df.head(2)"
   ]
  },
  {
   "cell_type": "code",
   "execution_count": null,
   "id": "7f125d3d",
   "metadata": {
    "execution": {
     "iopub.execute_input": "2025-01-13T17:55:00.719606Z",
     "iopub.status.busy": "2025-01-13T17:55:00.719251Z",
     "iopub.status.idle": "2025-01-13T17:55:01.006182Z",
     "shell.execute_reply": "2025-01-13T17:55:01.004991Z"
    },
    "papermill": {
     "duration": 0.333203,
     "end_time": "2025-01-13T17:55:01.007909",
     "exception": false,
     "start_time": "2025-01-13T17:55:00.674706",
     "status": "completed"
    },
    "tags": []
   },
   "outputs": [
    {
     "name": "stdout",
     "output_type": "stream",
     "text": [
      "Shape of X_train_raw: (1296675, 22)\n",
      "Shape of X_test_raw: (555719, 22)\n",
      "Shape of y_train: (1296675,)\n",
      "Shape of y_test: (555719,)\n"
     ]
    }
   ],
   "source": [
    "X_train_raw = train_df.drop(columns=target_column, axis=1)\n",
    "\n",
    "y_train = train_df[target_column]\n",
    "\n",
    "X_test_raw = test_df.drop(columns=target_column, axis=1)\n",
    "\n",
    "y_test = test_df[target_column]\n",
    "\n",
    "print(f\"Shape of X_train_raw: {X_train_raw.shape}\")\n",
    "print(f\"Shape of X_test_raw: {X_test_raw.shape}\")\n",
    "print(f\"Shape of y_train: {y_train.shape}\")\n",
    "print(f\"Shape of y_test: {y_test.shape}\")"
   ]
  },
  {
   "cell_type": "code",
   "execution_count": null,
   "id": "c8610082",
   "metadata": {
    "execution": {
     "iopub.execute_input": "2025-01-13T17:55:01.097461Z",
     "iopub.status.busy": "2025-01-13T17:55:01.097105Z",
     "iopub.status.idle": "2025-01-13T17:55:01.117370Z",
     "shell.execute_reply": "2025-01-13T17:55:01.116453Z"
    },
    "papermill": {
     "duration": 0.067215,
     "end_time": "2025-01-13T17:55:01.119171",
     "exception": false,
     "start_time": "2025-01-13T17:55:01.051956",
     "status": "completed"
    },
    "tags": []
   },
   "outputs": [],
   "source": [
    "class ChangeDataType(BaseEstimator, TransformerMixin):\n",
    "    def __init__(self, columns):\n",
    "        self.columns = columns\n",
    "\n",
    "    def fit(self, X, y=None):\n",
    "        return self\n",
    "\n",
    "    def transform(self, X):\n",
    "        X = X.copy()\n",
    "        for col in self.columns:\n",
    "            X[col] = pd.to_datetime(X[col], errors='coerce')\n",
    "        return X\n",
    "\n",
    "class DateTimeFeatures(BaseEstimator, TransformerMixin):\n",
    "    def __init__(self, date_column, transaction_hour_bins, transaction_hour_labels):\n",
    "        self.date_column = date_column\n",
    "        self.transaction_hour_bins = transaction_hour_bins\n",
    "        self.transaction_hour_labels = transaction_hour_labels\n",
    "        self.new_columns = ['transaction_hour', 'transaction_month', 'is_weekend', 'day_of_week', 'part_of_day']\n",
    "\n",
    "    def fit(self, X, y=None):\n",
    "        return self\n",
    "\n",
    "    def transform(self, X):\n",
    "        X = X.copy()\n",
    "        X['transaction_hour'] = X[self.date_column].dt.hour\n",
    "        X['transaction_month'] = X[self.date_column].dt.month\n",
    "        X['is_weekend'] = X[self.date_column].dt.weekday.isin([5, 6]).astype(int)\n",
    "        \n",
    "        # Day of week: Monday=0, Sunday=6\n",
    "        X['day_of_week'] = X[self.date_column].dt.day_name()\n",
    "        \n",
    "        # Part of day classification\n",
    "        X['part_of_day'] = pd.cut(X['transaction_hour'], \n",
    "                                  bins=self.transaction_hour_bins, \n",
    "                                  labels=self.transaction_hour_labels, \n",
    "                                  right=True)\n",
    "        return X\n",
    "\n",
    "\n",
    "class AgeFeature(BaseEstimator, TransformerMixin):\n",
    "    def __init__(self, dob_column):\n",
    "        self.dob_column = dob_column\n",
    "        self.new_column = 'age'\n",
    "\n",
    "    def fit(self, X, y=None):\n",
    "        return self\n",
    "\n",
    "    def transform(self, X):\n",
    "        X = X.copy()\n",
    "        reference_date = pd.Timestamp(2020, 12, 31)\n",
    "        X[self.new_column] = (reference_date - X[self.dob_column]).dt.days // 365\n",
    "        return X\n",
    "    \n",
    "class CalculateDistance(BaseEstimator, TransformerMixin):\n",
    "    def __init__(self, lat_col, long_col, merch_lat_col, merch_long_col):\n",
    "        self.lat_col = lat_col\n",
    "        self.long_col = long_col\n",
    "        self.merch_lat_col = merch_lat_col\n",
    "        self.merch_long_col = merch_long_col\n",
    "        self.new_column = 'distance'\n",
    "\n",
    "    def fit(self, X, y=None):\n",
    "        return self\n",
    "\n",
    "    def transform(self, X):\n",
    "        X = X.copy()\n",
    "        \n",
    "        lat1 = np.radians(X[self.lat_col])\n",
    "        lon1 = np.radians(X[self.long_col])\n",
    "        lat2 = np.radians(X[self.merch_lat_col])\n",
    "        lon2 = np.radians(X[self.merch_long_col])\n",
    "        \n",
    "        dlat = lat2 - lat1\n",
    "        dlon = lon2 - lon1\n",
    "        a = np.sin(dlat / 2) ** 2 + np.cos(lat1) * np.cos(lat2) * np.sin(dlon / 2) ** 2\n",
    "        c = 2 * np.arctan2(np.sqrt(a), np.sqrt(1 - a))\n",
    "        R = 6371 \n",
    "        X[self.new_column] = R * c  \n",
    "        return X\n",
    "\n",
    "class BinCityPopulation(BaseEstimator, TransformerMixin):\n",
    "    def __init__(self, city_pop_bins, city_pop_labels):\n",
    "        self.city_pop_bins = city_pop_bins\n",
    "        self.city_pop_labels = city_pop_labels\n",
    "        self.new_column = 'city_pop_bin'\n",
    "\n",
    "    def fit(self, X, y=None):\n",
    "        return self\n",
    "\n",
    "    def transform(self, X):\n",
    "        X = X.copy()\n",
    "        X[self.new_column] = pd.cut(X['city_pop'], bins=self.city_pop_bins, labels=self.city_pop_labels)\n",
    "        return X\n",
    "\n",
    "class YeoJohnsonTransformer(BaseEstimator, TransformerMixin):\n",
    "    def __init__(self):\n",
    "        self.transformer = PowerTransformer(method='yeo-johnson')\n",
    "        self.new_column = 'amt_yeo_johnson'\n",
    "\n",
    "    def fit(self, X, y=None):\n",
    "        self.transformer.fit(X[['amt']])\n",
    "        return self\n",
    "\n",
    "    def transform(self, X):\n",
    "        X = X.copy()\n",
    "        X[self.new_column] = self.transformer.transform(X[['amt']])\n",
    "        return X\n",
    "\n",
    "\n",
    "class DropColumns(BaseEstimator, TransformerMixin):\n",
    "    def __init__(self, columns):\n",
    "        self.columns = columns\n",
    "\n",
    "    def fit(self, X, y=None):\n",
    "        return self\n",
    "\n",
    "    def transform(self, X):\n",
    "        X = X.drop(columns=self.columns, errors='ignore')\n",
    "        self.remaining_columns = X.columns\n",
    "        return X\n",
    "        \n",
    "\n",
    "class LabelEncoding(BaseEstimator, TransformerMixin):\n",
    "    def __init__(self, columns):\n",
    "        self.columns = columns\n",
    "        self.label_encoders = {}\n",
    "\n",
    "    def fit(self, X, y=None):\n",
    "        for col in self.columns:\n",
    "            le = LabelEncoder()\n",
    "            le.fit(X[col])\n",
    "            self.label_encoders[col] = le\n",
    "        return self\n",
    "\n",
    "    def transform(self, X):\n",
    "        X = X.copy()\n",
    "        for col in self.columns:\n",
    "            X[col] = self.label_encoders[col].transform(X[col])\n",
    "        return X\n",
    "\n",
    "class ScaleFeatures(BaseEstimator, TransformerMixin):\n",
    "    def __init__(self):\n",
    "        self.scaler = MinMaxScaler()\n",
    "\n",
    "    def fit(self, X, y=None):\n",
    "        self.scaler.fit(X)\n",
    "        return self\n",
    "\n",
    "    def transform(self, X):\n",
    "        X = X.copy()\n",
    "        X[:] = self.scaler.transform(X)\n",
    "        return X"
   ]
  },
  {
   "cell_type": "code",
   "execution_count": null,
   "id": "3de72915",
   "metadata": {
    "execution": {
     "iopub.execute_input": "2025-01-13T17:55:01.208986Z",
     "iopub.status.busy": "2025-01-13T17:55:01.208625Z",
     "iopub.status.idle": "2025-01-13T17:55:01.215655Z",
     "shell.execute_reply": "2025-01-13T17:55:01.214721Z"
    },
    "papermill": {
     "duration": 0.053725,
     "end_time": "2025-01-13T17:55:01.217278",
     "exception": false,
     "start_time": "2025-01-13T17:55:01.163553",
     "status": "completed"
    },
    "tags": []
   },
   "outputs": [],
   "source": [
    "city_pop_bins = [0, 10000, 50000, 100000, 500000, 1000000, np.inf]\n",
    "city_pop_labels = ['<10K', '10K-50K', '50K-100K', '100K-500K', '500K-1M', '>1M']\n",
    "\n",
    "transaction_hour_bins=[-1, 5, 11, 17, 21, 24]\n",
    "transaction_hour_labels=['Late Night', 'Morning', 'Afternoon', 'Evening', 'Night']\n",
    "\n",
    "drop_columns = ['Unnamed: 0', 'trans_date_trans_time', 'cc_num', 'merchant', 'amt', \n",
    "                'first', 'last', 'street', 'city', 'state', 'zip', 'lat', 'long', \n",
    "                'city_pop', 'job', 'dob', 'trans_num', 'unix_time', 'merch_lat', 'merch_long']\n",
    "\n",
    "categorical_features = ['category', 'gender', 'day_of_week', 'part_of_day', 'city_pop_bin']\n",
    "\n",
    "preprocessor = Pipeline([\n",
    "    ('change_dtype', ChangeDataType(columns=['trans_date_trans_time', 'dob'])),\n",
    "    ('datetime_features', DateTimeFeatures(date_column='trans_date_trans_time',\n",
    "                                           transaction_hour_bins = transaction_hour_bins,\n",
    "                                           transaction_hour_labels = transaction_hour_labels)),\n",
    "    ('age_feature', AgeFeature(dob_column='dob')),\n",
    "    ('calculate_distance', CalculateDistance(lat_col='lat', long_col='long', \n",
    "                                             merch_lat_col='merch_lat', merch_long_col='merch_long')),\n",
    "    ('bin_city_pop', BinCityPopulation(city_pop_bins = city_pop_bins, city_pop_labels = city_pop_labels)),\n",
    "    ('yeo_johnson', YeoJohnsonTransformer()),\n",
    "    ('drop_columns', DropColumns(columns=drop_columns)),\n",
    "    ('label_encoding', LabelEncoding(columns=categorical_features)),\n",
    "    ('scale_features', ScaleFeatures()),\n",
    "])"
   ]
  },
  {
   "cell_type": "code",
   "execution_count": null,
   "id": "2d70c3b3",
   "metadata": {
    "execution": {
     "iopub.execute_input": "2025-01-13T17:55:01.306650Z",
     "iopub.status.busy": "2025-01-13T17:55:01.306306Z",
     "iopub.status.idle": "2025-01-13T17:55:09.479447Z",
     "shell.execute_reply": "2025-01-13T17:55:09.478356Z"
    },
    "papermill": {
     "duration": 8.219588,
     "end_time": "2025-01-13T17:55:09.481035",
     "exception": false,
     "start_time": "2025-01-13T17:55:01.261447",
     "status": "completed"
    },
    "tags": []
   },
   "outputs": [
    {
     "data": {
      "text/html": [
       "<div>\n",
       "<style scoped>\n",
       "    .dataframe tbody tr th:only-of-type {\n",
       "        vertical-align: middle;\n",
       "    }\n",
       "\n",
       "    .dataframe tbody tr th {\n",
       "        vertical-align: top;\n",
       "    }\n",
       "\n",
       "    .dataframe thead th {\n",
       "        text-align: right;\n",
       "    }\n",
       "</style>\n",
       "<table border=\"1\" class=\"dataframe\">\n",
       "  <thead>\n",
       "    <tr style=\"text-align: right;\">\n",
       "      <th></th>\n",
       "      <th>category</th>\n",
       "      <th>gender</th>\n",
       "      <th>transaction_hour</th>\n",
       "      <th>transaction_month</th>\n",
       "      <th>is_weekend</th>\n",
       "      <th>day_of_week</th>\n",
       "      <th>part_of_day</th>\n",
       "      <th>age</th>\n",
       "      <th>distance</th>\n",
       "      <th>city_pop_bin</th>\n",
       "      <th>amt_yeo_johnson</th>\n",
       "      <th>is_fraud</th>\n",
       "    </tr>\n",
       "  </thead>\n",
       "  <tbody>\n",
       "    <tr>\n",
       "      <th>0</th>\n",
       "      <td>0.615385</td>\n",
       "      <td>0</td>\n",
       "      <td>0.0</td>\n",
       "      <td>0.0</td>\n",
       "      <td>0</td>\n",
       "      <td>0.833333</td>\n",
       "      <td>0.5</td>\n",
       "      <td>0.209877</td>\n",
       "      <td>0.516620</td>\n",
       "      <td>0.8</td>\n",
       "      <td>0.073333</td>\n",
       "      <td>0</td>\n",
       "    </tr>\n",
       "    <tr>\n",
       "      <th>1</th>\n",
       "      <td>0.307692</td>\n",
       "      <td>0</td>\n",
       "      <td>0.0</td>\n",
       "      <td>0.0</td>\n",
       "      <td>0</td>\n",
       "      <td>0.833333</td>\n",
       "      <td>0.5</td>\n",
       "      <td>0.333333</td>\n",
       "      <td>0.198494</td>\n",
       "      <td>0.8</td>\n",
       "      <td>0.309368</td>\n",
       "      <td>0</td>\n",
       "    </tr>\n",
       "  </tbody>\n",
       "</table>\n",
       "</div>"
      ],
      "text/plain": [
       "   category  gender  transaction_hour  transaction_month  is_weekend  \\\n",
       "0  0.615385       0               0.0                0.0           0   \n",
       "1  0.307692       0               0.0                0.0           0   \n",
       "\n",
       "   day_of_week  part_of_day       age  distance  city_pop_bin  \\\n",
       "0     0.833333          0.5  0.209877  0.516620           0.8   \n",
       "1     0.833333          0.5  0.333333  0.198494           0.8   \n",
       "\n",
       "   amt_yeo_johnson  is_fraud  \n",
       "0         0.073333         0  \n",
       "1         0.309368         0  "
      ]
     },
     "execution_count": 56,
     "metadata": {},
     "output_type": "execute_result"
    }
   ],
   "source": [
    "train_preprocessed = preprocessor.fit_transform(X_train_raw)\n",
    "train_preprocessed[target_column] = y_train.values\n",
    "train_preprocessed.head(2)"
   ]
  },
  {
   "cell_type": "code",
   "execution_count": null,
   "id": "32533ed2",
   "metadata": {
    "execution": {
     "iopub.execute_input": "2025-01-13T17:55:09.570417Z",
     "iopub.status.busy": "2025-01-13T17:55:09.570020Z",
     "iopub.status.idle": "2025-01-13T17:55:12.002616Z",
     "shell.execute_reply": "2025-01-13T17:55:12.001476Z"
    },
    "papermill": {
     "duration": 2.478994,
     "end_time": "2025-01-13T17:55:12.004245",
     "exception": false,
     "start_time": "2025-01-13T17:55:09.525251",
     "status": "completed"
    },
    "tags": []
   },
   "outputs": [
    {
     "data": {
      "text/html": [
       "<div>\n",
       "<style scoped>\n",
       "    .dataframe tbody tr th:only-of-type {\n",
       "        vertical-align: middle;\n",
       "    }\n",
       "\n",
       "    .dataframe tbody tr th {\n",
       "        vertical-align: top;\n",
       "    }\n",
       "\n",
       "    .dataframe thead th {\n",
       "        text-align: right;\n",
       "    }\n",
       "</style>\n",
       "<table border=\"1\" class=\"dataframe\">\n",
       "  <thead>\n",
       "    <tr style=\"text-align: right;\">\n",
       "      <th></th>\n",
       "      <th>category</th>\n",
       "      <th>gender</th>\n",
       "      <th>transaction_hour</th>\n",
       "      <th>transaction_month</th>\n",
       "      <th>is_weekend</th>\n",
       "      <th>day_of_week</th>\n",
       "      <th>part_of_day</th>\n",
       "      <th>age</th>\n",
       "      <th>distance</th>\n",
       "      <th>city_pop_bin</th>\n",
       "      <th>amt_yeo_johnson</th>\n",
       "      <th>is_fraud</th>\n",
       "    </tr>\n",
       "  </thead>\n",
       "  <tbody>\n",
       "    <tr>\n",
       "      <th>1835321</th>\n",
       "      <td>0.615385</td>\n",
       "      <td>0</td>\n",
       "      <td>0.391304</td>\n",
       "      <td>1.000000</td>\n",
       "      <td>0</td>\n",
       "      <td>0.166667</td>\n",
       "      <td>0.75</td>\n",
       "      <td>0.555556</td>\n",
       "      <td>0.646212</td>\n",
       "      <td>0.8</td>\n",
       "      <td>0.118747</td>\n",
       "      <td>0</td>\n",
       "    </tr>\n",
       "    <tr>\n",
       "      <th>1583310</th>\n",
       "      <td>0.153846</td>\n",
       "      <td>0</td>\n",
       "      <td>0.391304</td>\n",
       "      <td>0.818182</td>\n",
       "      <td>0</td>\n",
       "      <td>0.833333</td>\n",
       "      <td>0.75</td>\n",
       "      <td>0.012346</td>\n",
       "      <td>0.749983</td>\n",
       "      <td>0.8</td>\n",
       "      <td>0.281770</td>\n",
       "      <td>0</td>\n",
       "    </tr>\n",
       "  </tbody>\n",
       "</table>\n",
       "</div>"
      ],
      "text/plain": [
       "         category  gender  transaction_hour  transaction_month  is_weekend  \\\n",
       "1835321  0.615385       0          0.391304           1.000000           0   \n",
       "1583310  0.153846       0          0.391304           0.818182           0   \n",
       "\n",
       "         day_of_week  part_of_day       age  distance  city_pop_bin  \\\n",
       "1835321     0.166667         0.75  0.555556  0.646212           0.8   \n",
       "1583310     0.833333         0.75  0.012346  0.749983           0.8   \n",
       "\n",
       "         amt_yeo_johnson  is_fraud  \n",
       "1835321         0.118747         0  \n",
       "1583310         0.281770         0  "
      ]
     },
     "execution_count": 57,
     "metadata": {},
     "output_type": "execute_result"
    }
   ],
   "source": [
    "test_preprocessed = preprocessor.transform(X_test_raw)\n",
    "test_preprocessed[target_column] = y_test.values\n",
    "test_preprocessed.sample(2)"
   ]
  },
  {
   "cell_type": "code",
   "execution_count": null,
   "id": "ae0a6bbc",
   "metadata": {
    "execution": {
     "iopub.execute_input": "2025-01-13T17:55:12.097326Z",
     "iopub.status.busy": "2025-01-13T17:55:12.096838Z",
     "iopub.status.idle": "2025-01-13T17:55:12.113792Z",
     "shell.execute_reply": "2025-01-13T17:55:12.111194Z"
    },
    "papermill": {
     "duration": 0.065793,
     "end_time": "2025-01-13T17:55:12.115900",
     "exception": false,
     "start_time": "2025-01-13T17:55:12.050107",
     "status": "completed"
    },
    "tags": []
   },
   "outputs": [
    {
     "data": {
      "text/plain": [
       "['preprocessor.joblib']"
      ]
     },
     "execution_count": 58,
     "metadata": {},
     "output_type": "execute_result"
    }
   ],
   "source": [
    "joblib.dump(preprocessor, 'preprocessor.joblib')"
   ]
  },
  {
   "cell_type": "code",
   "execution_count": null,
   "id": "4fc22567",
   "metadata": {
    "execution": {
     "iopub.execute_input": "2025-01-13T17:55:12.219299Z",
     "iopub.status.busy": "2025-01-13T17:55:12.218912Z",
     "iopub.status.idle": "2025-01-13T17:55:12.227658Z",
     "shell.execute_reply": "2025-01-13T17:55:12.226610Z"
    },
    "papermill": {
     "duration": 0.057653,
     "end_time": "2025-01-13T17:55:12.229487",
     "exception": false,
     "start_time": "2025-01-13T17:55:12.171834",
     "status": "completed"
    },
    "tags": []
   },
   "outputs": [],
   "source": [
    "preprocessor_loaded = joblib.load('preprocessor.joblib')"
   ]
  },
  {
   "cell_type": "code",
   "execution_count": null,
   "id": "70f4bdac",
   "metadata": {
    "execution": {
     "iopub.execute_input": "2025-01-13T17:55:12.452057Z",
     "iopub.status.busy": "2025-01-13T17:55:12.451601Z",
     "iopub.status.idle": "2025-01-13T17:55:12.466143Z",
     "shell.execute_reply": "2025-01-13T17:55:12.464773Z"
    },
    "papermill": {
     "duration": 0.071505,
     "end_time": "2025-01-13T17:55:12.467929",
     "exception": false,
     "start_time": "2025-01-13T17:55:12.396424",
     "status": "completed"
    },
    "tags": []
   },
   "outputs": [],
   "source": [
    "class SMOTESampler:\n",
    "    def __init__(self, target_column):\n",
    "        self.target_column = target_column\n",
    "        self.sampler = SMOTE(random_state=random_state)\n",
    "\n",
    "    def fit_resample(self, df):\n",
    "        X = df.drop(columns=[self.target_column])\n",
    "        y = df[self.target_column]\n",
    "        X_resampled, y_resampled = self.sampler.fit_resample(X, y)\n",
    "        return X_resampled.assign(**{self.target_column: y_resampled})\n",
    "\n",
    "\n",
    "class ADASYN_Sampler:\n",
    "    def __init__(self, target_column):\n",
    "        self.target_column = target_column\n",
    "        self.sampler = ADASYN(random_state=random_state)\n",
    "\n",
    "    def fit_resample(self, df):\n",
    "        X = df.drop(columns=[self.target_column])\n",
    "        y = df[self.target_column]\n",
    "        X_resampled, y_resampled = self.sampler.fit_resample(X, y)\n",
    "        return X_resampled.assign(**{self.target_column: y_resampled})\n",
    "\n",
    "\n",
    "class TomekLinksSampler:\n",
    "    def __init__(self, target_column):\n",
    "        self.target_column = target_column\n",
    "        self.sampler = TomekLinks()\n",
    "\n",
    "    def fit_resample(self, df):\n",
    "        X = df.drop(columns=[self.target_column])\n",
    "        y = df[self.target_column]\n",
    "        X_resampled, y_resampled = self.sampler.fit_resample(X, y)\n",
    "        return X_resampled.assign(**{self.target_column: y_resampled})\n",
    "\n",
    "\n",
    "class SMOTETomekSampler:\n",
    "    def __init__(self, target_column):\n",
    "        self.target_column = target_column\n",
    "        self.sampler = SMOTETomek(random_state=random_state)\n",
    "\n",
    "    def fit_resample(self, df):\n",
    "        X = df.drop(columns=[self.target_column])\n",
    "        y = df[self.target_column]\n",
    "        X_resampled, y_resampled = self.sampler.fit_resample(X, y)\n",
    "        return X_resampled.assign(**{self.target_column: y_resampled})"
   ]
  },
  {
   "cell_type": "code",
   "execution_count": null,
   "id": "b5ee56a3",
   "metadata": {
    "execution": {
     "iopub.execute_input": "2025-01-13T17:55:12.558476Z",
     "iopub.status.busy": "2025-01-13T17:55:12.558075Z",
     "iopub.status.idle": "2025-01-13T17:55:22.335849Z",
     "shell.execute_reply": "2025-01-13T17:55:22.334602Z"
    },
    "papermill": {
     "duration": 9.825158,
     "end_time": "2025-01-13T17:55:22.337660",
     "exception": false,
     "start_time": "2025-01-13T17:55:12.512502",
     "status": "completed"
    },
    "tags": []
   },
   "outputs": [
    {
     "name": "stdout",
     "output_type": "stream",
     "text": [
      "SMOTE completed\n",
      "ADASYN completed\n",
      "is_fraud\n",
      "0    1289169\n",
      "1    1289169\n",
      "Name: count, dtype: int64\n",
      "is_fraud\n",
      "1    1289977\n",
      "0    1289169\n",
      "Name: count, dtype: int64\n"
     ]
    }
   ],
   "source": [
    "smote_sampler = SMOTESampler(target_column=target_column)\n",
    "smote_resampled_df = smote_sampler.fit_resample(train_preprocessed)\n",
    "print(f\"SMOTE completed\")\n",
    "\n",
    "adasyn_sampler = ADASYN_Sampler(target_column=target_column)\n",
    "adasyn_resampled_df = adasyn_sampler.fit_resample(train_preprocessed)\n",
    "print(f\"ADASYN completed\")\n",
    "\n",
    "\n",
    "print(smote_resampled_df[target_column].value_counts())\n",
    "print(adasyn_resampled_df[target_column].value_counts())"
   ]
  },
  {
   "cell_type": "code",
   "execution_count": null,
   "id": "35682198",
   "metadata": {
    "execution": {
     "iopub.execute_input": "2025-01-13T17:55:22.519815Z",
     "iopub.status.busy": "2025-01-13T17:55:22.519445Z",
     "iopub.status.idle": "2025-01-13T17:55:22.523637Z",
     "shell.execute_reply": "2025-01-13T17:55:22.522718Z"
    },
    "papermill": {
     "duration": 0.050757,
     "end_time": "2025-01-13T17:55:22.525220",
     "exception": false,
     "start_time": "2025-01-13T17:55:22.474463",
     "status": "completed"
    },
    "tags": []
   },
   "outputs": [],
   "source": [
    "base_models_classification = {\n",
    "    \"logistic_regression\": LogisticRegression(random_state=random_state),\n",
    "    \"decision_tree\": DecisionTreeClassifier(random_state=random_state),\n",
    "}"
   ]
  },
  {
   "cell_type": "code",
   "execution_count": null,
   "id": "7cacabe9",
   "metadata": {
    "execution": {
     "iopub.execute_input": "2025-01-13T17:55:22.632635Z",
     "iopub.status.busy": "2025-01-13T17:55:22.632223Z",
     "iopub.status.idle": "2025-01-13T17:55:22.636416Z",
     "shell.execute_reply": "2025-01-13T17:55:22.635556Z"
    },
    "papermill": {
     "duration": 0.066093,
     "end_time": "2025-01-13T17:55:22.637927",
     "exception": false,
     "start_time": "2025-01-13T17:55:22.571834",
     "status": "completed"
    },
    "tags": []
   },
   "outputs": [],
   "source": [
    "datasets = {\n",
    "    \"SMOTE\": smote_resampled_df,\n",
    "    \"ADASYN\": adasyn_resampled_df,\n",
    "}"
   ]
  },
  {
   "cell_type": "code",
   "execution_count": null,
   "id": "ee1177ac",
   "metadata": {
    "execution": {
     "iopub.execute_input": "2025-01-13T17:55:22.739390Z",
     "iopub.status.busy": "2025-01-13T17:55:22.739029Z",
     "iopub.status.idle": "2025-01-13T17:55:22.745889Z",
     "shell.execute_reply": "2025-01-13T17:55:22.744937Z"
    },
    "papermill": {
     "duration": 0.054489,
     "end_time": "2025-01-13T17:55:22.747553",
     "exception": false,
     "start_time": "2025-01-13T17:55:22.693064",
     "status": "completed"
    },
    "tags": []
   },
   "outputs": [],
   "source": [
    "def cross_validate_models(train_data, target_column='is_fraud', base_models=base_models_classification, metric=\"f1\", cv=None):\n",
    "    \"\"\"\n",
    "    Perform cross-validation for each model and return a DataFrame with the scores.\n",
    "    \n",
    "    Parameters:\n",
    "    - train_data: DataFrame containing the features and the target column.\n",
    "    - target_column: The column name that contains the target variable.\n",
    "    - base_models: Dictionary containing the models to evaluate.\n",
    "    - metric: Scoring metric for evaluation, default is \"f1\".\n",
    "    - cv: Cross-validation strategy, default is StratifiedKFold.\n",
    "    \n",
    "    Returns:\n",
    "    - DataFrame with model names and their respective cross-validation scores.\n",
    "    \"\"\"\n",
    "    X_train = train_data.drop(columns=[target_column]) \n",
    "    y_train = train_data[target_column]  \n",
    "    \n",
    "    if cv is None:\n",
    "        cv = StratifiedKFold(n_splits=5, shuffle=True, random_state=random_state)\n",
    "    \n",
    "    results = []\n",
    "    \n",
    "    scoring_metrics = {\n",
    "        \"f1\": make_scorer(f1_score),\n",
    "        \"roc_auc\": make_scorer(roc_auc_score)\n",
    "    }\n",
    "    \n",
    "    if metric not in scoring_metrics:\n",
    "        raise ValueError(f\"Invalid metric: {metric}. Available metrics: {', '.join(scoring_metrics.keys())}\")\n",
    "    \n",
    "    scorer = scoring_metrics[metric]\n",
    "    \n",
    "    for model_name, model in base_models.items():\n",
    "        scores = cross_val_score(model, X_train, y_train, cv=cv, scoring=scorer)\n",
    "        for score in scores:\n",
    "            results.append({\"Model\": model_name, f\"{metric.capitalize()} Score\": score})\n",
    "    \n",
    "    return pd.DataFrame(results)"
   ]
  },
  {
   "cell_type": "code",
   "execution_count": null,
   "id": "3d653c06",
   "metadata": {
    "execution": {
     "iopub.execute_input": "2025-01-13T17:55:22.838444Z",
     "iopub.status.busy": "2025-01-13T17:55:22.838047Z",
     "iopub.status.idle": "2025-01-13T17:55:22.842761Z",
     "shell.execute_reply": "2025-01-13T17:55:22.841918Z"
    },
    "papermill": {
     "duration": 0.051706,
     "end_time": "2025-01-13T17:55:22.844237",
     "exception": false,
     "start_time": "2025-01-13T17:55:22.792531",
     "status": "completed"
    },
    "tags": []
   },
   "outputs": [],
   "source": [
    "def plot_f1_boxplot(df):\n",
    "    \n",
    "    plt.figure(figsize=(10, 6))\n",
    "    sns.boxplot(x=\"Model\", y=\"F1 Score\", data=df)\n",
    "    plt.title(\"F1 Score Box plot\")\n",
    "    plt.xticks(rotation=45)\n",
    "    plt.tight_layout()\n",
    "    plt.show()"
   ]
  },
  {
   "cell_type": "code",
   "execution_count": 67,
   "id": "98e30870",
   "metadata": {
    "execution": {
     "iopub.execute_input": "2025-01-13T18:00:53.958162Z",
     "iopub.status.busy": "2025-01-13T18:00:53.957670Z",
     "iopub.status.idle": "2025-01-13T18:00:53.967244Z",
     "shell.execute_reply": "2025-01-13T18:00:53.966187Z"
    },
    "papermill": {
     "duration": 0.058121,
     "end_time": "2025-01-13T18:00:53.968898",
     "exception": false,
     "start_time": "2025-01-13T18:00:53.910777",
     "status": "completed"
    },
    "tags": []
   },
   "outputs": [
    {
     "data": {
      "text/plain": [
       "{'SMOTE':                  Model  F1 Score\n",
       " 0  logistic_regression  0.789755\n",
       " 1  logistic_regression  0.789789\n",
       " 2  logistic_regression  0.789966\n",
       " 3  logistic_regression  0.789885\n",
       " 4  logistic_regression  0.789410\n",
       " 5        decision_tree  0.997833\n",
       " 6        decision_tree  0.997996\n",
       " 7        decision_tree  0.997866\n",
       " 8        decision_tree  0.998040\n",
       " 9        decision_tree  0.997945,\n",
       " 'ADASYN':                  Model  F1 Score\n",
       " 0  logistic_regression  0.720215\n",
       " 1  logistic_regression  0.721876\n",
       " 2  logistic_regression  0.721025\n",
       " 3  logistic_regression  0.721382\n",
       " 4  logistic_regression  0.721302\n",
       " 5        decision_tree  0.997906\n",
       " 6        decision_tree  0.997925\n",
       " 7        decision_tree  0.997923\n",
       " 8        decision_tree  0.997989\n",
       " 9        decision_tree  0.997899}"
      ]
     },
     "execution_count": 67,
     "metadata": {},
     "output_type": "execute_result"
    }
   ],
   "source": [
    "all_cv_results"
   ]
  },
  {
   "cell_type": "code",
   "execution_count": null,
   "id": "37803ab7",
   "metadata": {
    "execution": {
     "iopub.execute_input": "2025-01-13T18:00:54.063228Z",
     "iopub.status.busy": "2025-01-13T18:00:54.062817Z",
     "iopub.status.idle": "2025-01-13T18:00:54.071299Z",
     "shell.execute_reply": "2025-01-13T18:00:54.070229Z"
    },
    "papermill": {
     "duration": 0.057393,
     "end_time": "2025-01-13T18:00:54.072914",
     "exception": false,
     "start_time": "2025-01-13T18:00:54.015521",
     "status": "completed"
    },
    "tags": []
   },
   "outputs": [],
   "source": [
    "def evaluate_classification_models(X_train, y_train, X_test, y_test, base_models):\n",
    "    \n",
    "    report = {}\n",
    "\n",
    "    for model_name, model in base_models.items():\n",
    "        \n",
    "        model.fit(X_train, y_train)\n",
    "\n",
    "        y_train_pred = model.predict(X_train)\n",
    "        y_test_pred = model.predict(X_test)\n",
    "\n",
    "        train_accuracy = accuracy_score(y_train, y_train_pred)\n",
    "        test_accuracy = accuracy_score(y_test, y_test_pred)\n",
    "\n",
    "        train_precision_pos_class = precision_score(y_train, y_train_pred, pos_label=1, zero_division=0)\n",
    "        test_precision_pos_class = precision_score(y_test, y_test_pred, pos_label=1, zero_division=0)\n",
    "\n",
    "        train_recall_pos_class = recall_score(y_train, y_train_pred, pos_label=1, zero_division=0)\n",
    "        test_recall_pos_class = recall_score(y_test, y_test_pred, pos_label=1, zero_division=0)\n",
    "\n",
    "        train_f1_pos_class = f1_score(y_train, y_train_pred, pos_label=1, zero_division=0)\n",
    "        test_f1_pos_class = f1_score(y_test, y_test_pred, pos_label=1, zero_division=0)\n",
    "\n",
    "        test_classification_report = classification_report(y_test, y_test_pred, zero_division=0)\n",
    "        test_confusion_matrix = confusion_matrix(y_test, y_test_pred)\n",
    "\n",
    "        report[model_name] = {\n",
    "            'train_accuracy': train_accuracy,\n",
    "            'test_accuracy': test_accuracy,\n",
    "            'train_precision_pos_class': train_precision_pos_class,\n",
    "            'test_precision_pos_class': test_precision_pos_class,\n",
    "            'train_recall_pos_class': train_recall_pos_class,\n",
    "            'test_recall_pos_class': test_recall_pos_class,\n",
    "            'train_f1_pos_class': train_f1_pos_class,\n",
    "            'test_f1_pos_class': test_f1_pos_class,\n",
    "            'test_classification_report': test_classification_report,\n",
    "            'test_confusion_matrix': test_confusion_matrix.tolist()  # Convert to list for better readability\n",
    "        }\n",
    "\n",
    "    return report"
   ]
  },
  {
   "cell_type": "code",
   "execution_count": null,
   "id": "5fda1e42",
   "metadata": {
    "execution": {
     "iopub.execute_input": "2025-01-13T18:00:54.165902Z",
     "iopub.status.busy": "2025-01-13T18:00:54.165507Z",
     "iopub.status.idle": "2025-01-13T18:02:36.104003Z",
     "shell.execute_reply": "2025-01-13T18:02:36.102748Z"
    },
    "papermill": {
     "duration": 102.032385,
     "end_time": "2025-01-13T18:02:36.151144",
     "exception": false,
     "start_time": "2025-01-13T18:00:54.118759",
     "status": "completed"
    },
    "tags": []
   },
   "outputs": [
    {
     "name": "stdout",
     "output_type": "stream",
     "text": [
      "SMOTE completed\n",
      "ADASYN completed\n"
     ]
    }
   ],
   "source": [
    "all_base_model_results = {}\n",
    "\n",
    "X_test = test_preprocessed.drop(columns=[target_column], axis= 'columns')\n",
    "y_test = test_preprocessed[target_column]\n",
    "\n",
    "for dataset_name, dataset in datasets.items():\n",
    "    X_train = dataset.drop(columns=[target_column], axis= 'columns')\n",
    "    y_train = dataset[target_column]\n",
    "\n",
    "    base_model_result = evaluate_classification_models(X_train, y_train, X_test, y_test, base_models_classification)\n",
    "    print(f\"{dataset_name} completed\")\n",
    "    all_base_model_results[dataset_name] = base_model_result"
   ]
  },
  {
   "cell_type": "code",
   "execution_count": null,
   "id": "9c790d04",
   "metadata": {
    "execution": {
     "iopub.execute_input": "2025-01-13T18:02:36.245252Z",
     "iopub.status.busy": "2025-01-13T18:02:36.244844Z",
     "iopub.status.idle": "2025-01-13T18:02:36.267396Z",
     "shell.execute_reply": "2025-01-13T18:02:36.266340Z"
    },
    "papermill": {
     "duration": 0.071751,
     "end_time": "2025-01-13T18:02:36.269058",
     "exception": false,
     "start_time": "2025-01-13T18:02:36.197307",
     "status": "completed"
    },
    "tags": []
   },
   "outputs": [
    {
     "name": "stdout",
     "output_type": "stream",
     "text": [
      "\n",
      "Results for Dataset: SMOTE\n",
      "--------------------------------------------------\n",
      "              Model train_accuracy test_accuracy train_precision_pos_class test_precision_pos_class train_recall_pos_class test_recall_pos_class train_f1_pos_class test_f1_pos_class                                                                                                                                                                                                                                                                                                                     test_classification_report          test_confusion_matrix\n",
      "logistic_regression       0.790911      0.846503                  0.794155                 0.019029               0.785396                0.7669           0.789751          0.037137               precision    recall  f1-score   support\\n\\n           0       1.00      0.85      0.92    553574\\n           1       0.02      0.77      0.04      2145\\n\\n    accuracy                           0.85    555719\\n   macro avg       0.51      0.81      0.48    555719\\nweighted avg       1.00      0.85      0.91    555719\\n [[468773, 84801], [500, 1645]]\n",
      "      decision_tree            1.0      0.997142                       1.0                 0.596068                    1.0              0.805594                1.0           0.68517               precision    recall  f1-score   support\\n\\n           0       1.00      1.00      1.00    553574\\n           1       0.60      0.81      0.69      2145\\n\\n    accuracy                           1.00    555719\\n   macro avg       0.80      0.90      0.84    555719\\nweighted avg       1.00      1.00      1.00    555719\\n  [[552403, 1171], [417, 1728]]\n",
      "--------------------------------------------------\n",
      "\n",
      "Results for Dataset: ADASYN\n",
      "--------------------------------------------------\n",
      "              Model train_accuracy test_accuracy train_precision_pos_class test_precision_pos_class train_recall_pos_class test_recall_pos_class train_f1_pos_class test_f1_pos_class                                                                                                                                                                                                                                                                                                                     test_classification_report           test_confusion_matrix\n",
      "logistic_regression       0.719195      0.761854                  0.716357                 0.012396               0.726045              0.771562           0.721168          0.024401               precision    recall  f1-score   support\\n\\n           0       1.00      0.76      0.86    553574\\n           1       0.01      0.77      0.02      2145\\n\\n    accuracy                           0.76    555719\\n   macro avg       0.51      0.77      0.44    555719\\nweighted avg       1.00      0.76      0.86    555719\\n [[421722, 131852], [490, 1655]]\n",
      "      decision_tree            1.0      0.997119                       1.0                 0.594708                    1.0               0.79627                1.0          0.680885               precision    recall  f1-score   support\\n\\n           0       1.00      1.00      1.00    553574\\n           1       0.59      0.80      0.68      2145\\n\\n    accuracy                           1.00    555719\\n   macro avg       0.80      0.90      0.84    555719\\nweighted avg       1.00      1.00      1.00    555719\\n   [[552410, 1164], [437, 1708]]\n",
      "--------------------------------------------------\n"
     ]
    }
   ],
   "source": [
    "def print_results_nicely(results_dict):\n",
    "    \"\"\"\n",
    "    Print the results from all_base_model_results in a structured format.\n",
    "    \n",
    "    Args:\n",
    "        results_dict: Dictionary with dataset names as keys and evaluation results as values.\n",
    "    \"\"\"\n",
    "    for dataset_name, model_results in results_dict.items():\n",
    "        print(f\"\\nResults for Dataset: {dataset_name}\")\n",
    "        print(\"-\" * 50)\n",
    "        \n",
    "        results_df = pd.DataFrame(model_results).T.reset_index()\n",
    "        results_df.rename(columns={'index': 'Model'}, inplace=True)\n",
    "        \n",
    "        print(results_df.to_string(index=False))  # Print without row indices\n",
    "        print(\"-\" * 50)\n",
    "\n",
    "print_results_nicely(all_base_model_results)"
   ]
  },
  {
   "cell_type": "code",
   "execution_count": null,
   "id": "2187e769",
   "metadata": {
    "execution": {
     "iopub.execute_input": "2025-01-13T18:02:36.364898Z",
     "iopub.status.busy": "2025-01-13T18:02:36.364534Z",
     "iopub.status.idle": "2025-01-13T18:02:36.373719Z",
     "shell.execute_reply": "2025-01-13T18:02:36.372785Z"
    },
    "papermill": {
     "duration": 0.059015,
     "end_time": "2025-01-13T18:02:36.375426",
     "exception": false,
     "start_time": "2025-01-13T18:02:36.316411",
     "status": "completed"
    },
    "tags": []
   },
   "outputs": [
    {
     "name": "stdout",
     "output_type": "stream",
     "text": [
      "Base models report saved to 'base_model_results_report.json'\n"
     ]
    },
    {
     "data": {
      "text/plain": [
       "{'SMOTE': {'logistic_regression': {'train_accuracy': 0.7909106563995877,\n",
       "   'test_accuracy': 0.846503358711867,\n",
       "   'train_precision_pos_class': 0.794155064904506,\n",
       "   'test_precision_pos_class': 0.01902922055387178,\n",
       "   'train_recall_pos_class': 0.7853958635368986,\n",
       "   'test_recall_pos_class': 0.7668997668997669,\n",
       "   'train_f1_pos_class': 0.7897511776949511,\n",
       "   'test_f1_pos_class': 0.03713695522118499,\n",
       "   'test_classification_report': '              precision    recall  f1-score   support\\n\\n           0       1.00      0.85      0.92    553574\\n           1       0.02      0.77      0.04      2145\\n\\n    accuracy                           0.85    555719\\n   macro avg       0.51      0.81      0.48    555719\\nweighted avg       1.00      0.85      0.91    555719\\n',\n",
       "   'test_confusion_matrix': [[468773, 84801], [500, 1645]]},\n",
       "  'decision_tree': {'train_accuracy': 1.0,\n",
       "   'test_accuracy': 0.9971424406939479,\n",
       "   'train_precision_pos_class': 1.0,\n",
       "   'test_precision_pos_class': 0.5960676095205243,\n",
       "   'train_recall_pos_class': 1.0,\n",
       "   'test_recall_pos_class': 0.8055944055944056,\n",
       "   'train_f1_pos_class': 1.0,\n",
       "   'test_f1_pos_class': 0.6851704996034893,\n",
       "   'test_classification_report': '              precision    recall  f1-score   support\\n\\n           0       1.00      1.00      1.00    553574\\n           1       0.60      0.81      0.69      2145\\n\\n    accuracy                           1.00    555719\\n   macro avg       0.80      0.90      0.84    555719\\nweighted avg       1.00      1.00      1.00    555719\\n',\n",
       "   'test_confusion_matrix': [[552403, 1171], [417, 1728]]}},\n",
       " 'ADASYN': {'logistic_regression': {'train_accuracy': 0.7191946481509771,\n",
       "   'test_accuracy': 0.7618544624171568,\n",
       "   'train_precision_pos_class': 0.7163565273060057,\n",
       "   'test_precision_pos_class': 0.012396353749241612,\n",
       "   'train_recall_pos_class': 0.7260447279292577,\n",
       "   'test_recall_pos_class': 0.7715617715617715,\n",
       "   'train_f1_pos_class': 0.7211680911680912,\n",
       "   'test_f1_pos_class': 0.02440067230855424,\n",
       "   'test_classification_report': '              precision    recall  f1-score   support\\n\\n           0       1.00      0.76      0.86    553574\\n           1       0.01      0.77      0.02      2145\\n\\n    accuracy                           0.76    555719\\n   macro avg       0.51      0.77      0.44    555719\\nweighted avg       1.00      0.76      0.86    555719\\n',\n",
       "   'test_confusion_matrix': [[421722, 131852], [490, 1655]]},\n",
       "  'decision_tree': {'train_accuracy': 1.0,\n",
       "   'test_accuracy': 0.9971190475762031,\n",
       "   'train_precision_pos_class': 1.0,\n",
       "   'test_precision_pos_class': 0.5947075208913649,\n",
       "   'train_recall_pos_class': 1.0,\n",
       "   'test_recall_pos_class': 0.7962703962703963,\n",
       "   'train_f1_pos_class': 1.0,\n",
       "   'test_f1_pos_class': 0.6808849910304964,\n",
       "   'test_classification_report': '              precision    recall  f1-score   support\\n\\n           0       1.00      1.00      1.00    553574\\n           1       0.59      0.80      0.68      2145\\n\\n    accuracy                           1.00    555719\\n   macro avg       0.80      0.90      0.84    555719\\nweighted avg       1.00      1.00      1.00    555719\\n',\n",
       "   'test_confusion_matrix': [[552410, 1164], [437, 1708]]}}}"
      ]
     },
     "execution_count": 71,
     "metadata": {},
     "output_type": "execute_result"
    }
   ],
   "source": [
    "with open('base_model_results_report.json', 'w') as json_file:\n",
    "    json.dump(all_base_model_results, json_file, indent=4)\n",
    "\n",
    "print(\"Base models report saved to 'base_model_results_report.json'\")\n",
    "\n",
    "all_base_model_results"
   ]
  },
  {
   "cell_type": "code",
   "execution_count": 73,
   "id": "3471d714",
   "metadata": {
    "execution": {
     "iopub.execute_input": "2025-01-13T18:02:38.247592Z",
     "iopub.status.busy": "2025-01-13T18:02:38.247246Z",
     "iopub.status.idle": "2025-01-13T18:02:38.257132Z",
     "shell.execute_reply": "2025-01-13T18:02:38.255790Z"
    },
    "papermill": {
     "duration": 0.063692,
     "end_time": "2025-01-13T18:02:38.258995",
     "exception": false,
     "start_time": "2025-01-13T18:02:38.195303",
     "status": "completed"
    },
    "tags": []
   },
   "outputs": [
    {
     "name": "stdout",
     "output_type": "stream",
     "text": [
      "Dataset: SMOTE, Model: logistic_regression, Train Score: 0.7898, Test Score: 0.0371, Overfitting Gap: 0.7526\n",
      "Dataset: SMOTE, Model: decision_tree, Train Score: 1.0000, Test Score: 0.6852, Overfitting Gap: 0.3148\n",
      "Dataset: ADASYN, Model: logistic_regression, Train Score: 0.7212, Test Score: 0.0244, Overfitting Gap: 0.6968\n",
      "Dataset: ADASYN, Model: decision_tree, Train Score: 1.0000, Test Score: 0.6809, Overfitting Gap: 0.3191\n",
      "Best Sampling method: SMOTE\n",
      "Best Model: decision_tree\n"
     ]
    }
   ],
   "source": [
    "def find_best_model_and_dataset(\n",
    "    results, \n",
    "    test_metric='test_f1_pos_class', \n",
    "    train_metric='train_f1_pos_class', \n",
    "    tolerance=0.1\n",
    "):\n",
    "    \"\"\"\n",
    "    Find the best model and dataset based on test metric and overfitting gap.\n",
    "    Includes comprehensive logging for all models and sampling methods.\n",
    "\n",
    "    Args:\n",
    "        results: Nested dictionary with sampling methods, models, and evaluation metrics.\n",
    "        test_metric: Metric to evaluate model performance on the test set.\n",
    "        train_metric: Metric to evaluate model performance on the training set.\n",
    "        tolerance: Percentage (as decimal) within which models are considered close to the best.\n",
    "\n",
    "    Returns:\n",
    "        best_sampling_method: Name of the sampling method with the best-performing model (or None).\n",
    "        best_model: Name of the best-performing model (or None).\n",
    "        best_metrics: Metrics of the best-performing model (or None).\n",
    "    \"\"\"\n",
    "    # Step 1: Find the highest test_f1_score across all models\n",
    "    max_test_score = -float('inf')\n",
    "    for sampling_method, models in results.items():\n",
    "        for model_name, metrics in models.items():\n",
    "            max_test_score = max(max_test_score, metrics[test_metric])\n",
    "\n",
    "    # Initialize variables for the best model selection\n",
    "    best_sampling_method = None\n",
    "    best_base_model = None\n",
    "    smallest_gap = float('inf')\n",
    "\n",
    "    # Step 2: Iterate through all models to log details and identify the best model\n",
    "    for sampling_method, models in results.items():\n",
    "        for model_name, metrics in models.items():\n",
    "            train_score = metrics[train_metric]\n",
    "            test_score = metrics[test_metric]\n",
    "            overfitting_gap = train_score - test_score\n",
    "\n",
    "            # Debugging: Log details for every model\n",
    "            print(f\"Dataset: {sampling_method}, Model: {model_name}, \"\n",
    "                  f\"Train Score: {train_score:.4f}, Test Score: {test_score:.4f}, \"\n",
    "                  f\"Overfitting Gap: {overfitting_gap:.4f}\")\n",
    "\n",
    "            # Check if the model falls within the tolerance range\n",
    "            if test_score >= max_test_score * (1 - tolerance):\n",
    "                # Select the model with the smallest overfitting gap\n",
    "                if overfitting_gap < smallest_gap:\n",
    "                    smallest_gap = overfitting_gap\n",
    "                    best_sampling_method = sampling_method\n",
    "                    best_base_model = model_name\n",
    "\n",
    "    return best_sampling_method, best_base_model\n",
    "\n",
    "\n",
    "# Example usage\n",
    "best_sampling_method, best_base_model = find_best_model_and_dataset(\n",
    "    results = all_base_model_results,\n",
    "    test_metric='test_f1_pos_class',\n",
    "    train_metric='train_f1_pos_class',\n",
    ")\n",
    "    \n",
    "print(f\"Best Sampling method: {best_sampling_method}\")\n",
    "print(f\"Best Model: {best_base_model}\")"
   ]
  },
  {
   "cell_type": "code",
   "execution_count": null,
   "id": "6551d6f3",
   "metadata": {
    "execution": {
     "iopub.execute_input": "2025-01-13T18:02:38.455573Z",
     "iopub.status.busy": "2025-01-13T18:02:38.455197Z",
     "iopub.status.idle": "2025-01-13T18:02:38.465316Z",
     "shell.execute_reply": "2025-01-13T18:02:38.464189Z"
    },
    "papermill": {
     "duration": 0.061721,
     "end_time": "2025-01-13T18:02:38.467357",
     "exception": false,
     "start_time": "2025-01-13T18:02:38.405636",
     "status": "completed"
    },
    "tags": []
   },
   "outputs": [],
   "source": [
    "params_grid = {\n",
    "    \"logistic_regression\": {\n",
    "        \"penalty\": [\"l1\", \"l2\", \"elasticnet\", None],\n",
    "        \"C\": [0.01, 0.1, 1, 10, 100],\n",
    "        \"solver\": [\"lbfgs\", \"saga\", \"liblinear\"],\n",
    "        \"max_iter\": [100, 200, 500],\n",
    "    },\n",
    "    \"svm\": {\n",
    "        \"C\": [0.1, 1, 10, 100],\n",
    "        \"kernel\": [\"linear\", \"rbf\", \"poly\", \"sigmoid\"],\n",
    "        \"gamma\": [\"scale\", \"auto\"],\n",
    "        \"degree\": [2, 3, 4],  \n",
    "    },\n",
    "\n",
    "    \"decision_tree\": {\n",
    "        \"criterion\": [\"gini\", \"entropy\"],  \n",
    "        \"max_depth\": [20, 30],  \n",
    "        \"min_samples_split\": [2, 5], \n",
    "        \"min_samples_leaf\": [1, 2], \n",
    "        \"max_features\": [\"sqrt\"] \n",
    "    },\n",
    "\n",
    "    \"random_forest\": {\n",
    "        \"n_estimators\": [50, 100, 200],\n",
    "        \"criterion\": [\"gini\", \"entropy\"],\n",
    "        \"max_depth\": [None, 10, 20, 30, 50],\n",
    "        \"min_samples_split\": [2, 5, 10],\n",
    "        \"min_samples_leaf\": [1, 2, 4],\n",
    "        \"max_features\": [None, \"sqrt\", \"log2\"],\n",
    "        \"bootstrap\": [True, False],\n",
    "    },\n",
    "    \"gradient_boosting\": {\n",
    "        \"n_estimators\": [50, 100, 200],\n",
    "        \"learning_rate\": [0.01, 0.1, 0.2],\n",
    "        \"max_depth\": [3, 5, 10],\n",
    "        \"min_samples_split\": [2, 5, 10],\n",
    "        \"min_samples_leaf\": [1, 2, 4],\n",
    "        \"subsample\": [0.8, 1.0],\n",
    "        \"max_features\": [None, \"sqrt\", \"log2\"],\n",
    "    },\n",
    "    \"adaboost\": {\n",
    "        \"n_estimators\": [50, 100, 200],\n",
    "        \"learning_rate\": [0.01, 0.1, 1],\n",
    "        \"algorithm\": [\"SAMME\", \"SAMME.R\"],\n",
    "        \"base_estimator\": [\n",
    "            DecisionTreeClassifier(max_depth=1),\n",
    "            DecisionTreeClassifier(max_depth=3),\n",
    "        ],  \n",
    "    },\n",
    "    \"xgboost\": {\n",
    "        \"n_estimators\": [50, 100, 200],\n",
    "        \"learning_rate\": [0.01, 0.1, 0.2],\n",
    "        \"max_depth\": [3, 5, 10],\n",
    "        \"min_child_weight\": [1, 3, 5],\n",
    "        \"subsample\": [0.8, 1.0],\n",
    "        \"colsample_bytree\": [0.8, 1.0],\n",
    "        \"gamma\": [0, 0.1, 0.2],\n",
    "    },\n",
    "    \"catboost\": {\n",
    "        \"iterations\": [100, 200, 500],\n",
    "        \"learning_rate\": [0.01, 0.1, 0.2],\n",
    "        \"depth\": [4, 6, 8],\n",
    "        \"l2_leaf_reg\": [1, 3, 5, 7],\n",
    "        \"border_count\": [32, 64, 128],\n",
    "        \"bootstrap_type\": [\"Bayesian\", \"Bernoulli\", \"MVS\"],\n",
    "    },\n",
    "}"
   ]
  },
  {
   "cell_type": "code",
   "execution_count": null,
   "id": "33f34977",
   "metadata": {
    "execution": {
     "iopub.execute_input": "2025-01-13T18:02:38.573308Z",
     "iopub.status.busy": "2025-01-13T18:02:38.572901Z",
     "iopub.status.idle": "2025-01-13T18:02:38.582069Z",
     "shell.execute_reply": "2025-01-13T18:02:38.580969Z"
    },
    "papermill": {
     "duration": 0.061366,
     "end_time": "2025-01-13T18:02:38.584171",
     "exception": false,
     "start_time": "2025-01-13T18:02:38.522805",
     "status": "completed"
    },
    "tags": []
   },
   "outputs": [],
   "source": [
    "def hyperparameter_tuning(X_train, y_train, X_test, y_test, models, params):\n",
    "    \n",
    "    report = {}  \n",
    "    \n",
    "    for model_name, model in models.items():\n",
    "        try:\n",
    "            param_grid = params[model_name]\n",
    "\n",
    "            grid_search = GridSearchCV(\n",
    "                estimator=model,\n",
    "                param_grid=param_grid,\n",
    "                cv=3,\n",
    "                n_jobs=-1,\n",
    "                scoring='f1',  \n",
    "            )\n",
    "            grid_search.fit(X_train, y_train)\n",
    "\n",
    "            best_model = grid_search.best_estimator_\n",
    "            y_train_pred = best_model.predict(X_train)\n",
    "            y_test_pred = best_model.predict(X_test)\n",
    "\n",
    "            train_accuracy = accuracy_score(y_train, y_train_pred)\n",
    "            test_accuracy = accuracy_score(y_test, y_test_pred)\n",
    "\n",
    "            train_precision_pos_class = precision_score(y_train, y_train_pred, pos_label=1, zero_division=0)\n",
    "            test_precision_pos_class = precision_score(y_test, y_test_pred, pos_label=1, zero_division=0)\n",
    "\n",
    "            train_recall_pos_class = recall_score(y_train, y_train_pred, pos_label=1, zero_division=0)\n",
    "            test_recall_pos_class = recall_score(y_test, y_test_pred, pos_label=1, zero_division=0)\n",
    "\n",
    "            train_f1_pos_class = f1_score(y_train, y_train_pred, pos_label=1, zero_division=0)\n",
    "            test_f1_pos_class = f1_score(y_test, y_test_pred, pos_label=1, zero_division=0)\n",
    "\n",
    "            test_classification_report = classification_report(y_test, y_test_pred, zero_division=0)\n",
    "            test_confusion_matrix = confusion_matrix(y_test, y_test_pred)\n",
    "\n",
    "            report[model_name] = {\n",
    "                'best_model': best_model,\n",
    "                'train_accuracy': train_accuracy,\n",
    "                'test_accuracy': test_accuracy,\n",
    "                'train_precision_pos_class': train_precision_pos_class,\n",
    "                'test_precision_pos_class': test_precision_pos_class,\n",
    "                'train_recall_pos_class': train_recall_pos_class,\n",
    "                'test_recall_pos_class': test_recall_pos_class,\n",
    "                'train_f1_pos_class': train_f1_pos_class,\n",
    "                'test_f1_pos_class': test_f1_pos_class,\n",
    "                'test_classification_report': test_classification_report,\n",
    "                'test_confusion_matrix': test_confusion_matrix.tolist(),\n",
    "                'best_params': grid_search.best_params_\n",
    "            }\n",
    "\n",
    "        except Exception as e:\n",
    "            print(f\"Error in model {model_name}: {e}\")\n",
    "                \n",
    "    return report, best_model"
   ]
  },
  {
   "cell_type": "code",
   "execution_count": null,
   "id": "a7212bb8",
   "metadata": {
    "execution": {
     "iopub.execute_input": "2025-01-13T18:02:38.693265Z",
     "iopub.status.busy": "2025-01-13T18:02:38.692868Z",
     "iopub.status.idle": "2025-01-13T18:05:02.165230Z",
     "shell.execute_reply": "2025-01-13T18:05:02.163123Z"
    },
    "papermill": {
     "duration": 143.598382,
     "end_time": "2025-01-13T18:05:02.240448",
     "exception": false,
     "start_time": "2025-01-13T18:02:38.642066",
     "status": "completed"
    },
    "tags": []
   },
   "outputs": [
    {
     "name": "stdout",
     "output_type": "stream",
     "text": [
      "{'decision_tree': {'best_model': DecisionTreeClassifier(max_depth=30, max_features='sqrt', min_samples_leaf=2,\n",
      "                       min_samples_split=5, random_state=42), 'train_accuracy': 0.9988263757505804, 'test_accuracy': 0.9959817821596886, 'train_precision_pos_class': 0.9993492874386851, 'test_precision_pos_class': 0.48590647021140293, 'train_recall_pos_class': 0.9983027826452544, 'test_recall_pos_class': 0.7072261072261072, 'train_f1_pos_class': 0.9988257609270978, 'test_f1_pos_class': 0.5760394911714449, 'test_classification_report': '              precision    recall  f1-score   support\\n\\n           0       1.00      1.00      1.00    553574\\n           1       0.49      0.71      0.58      2145\\n\\n    accuracy                           1.00    555719\\n   macro avg       0.74      0.85      0.79    555719\\nweighted avg       1.00      1.00      1.00    555719\\n', 'test_confusion_matrix': [[551969, 1605], [628, 1517]], 'best_params': {'criterion': 'gini', 'max_depth': 30, 'max_features': 'sqrt', 'min_samples_leaf': 2, 'min_samples_split': 5}}}\n"
     ]
    }
   ],
   "source": [
    "models = {best_base_model: base_models_classification[best_base_model]}   \n",
    "\n",
    "X_train = datasets[best_sampling_method].drop(columns=[target_column], axis='columns')  \n",
    "y_train = datasets[best_sampling_method][target_column]  \n",
    "\n",
    "X_test = test_preprocessed.drop(columns=[target_column], axis='columns')  \n",
    "y_test = test_preprocessed[target_column]  \n",
    "\n",
    "tuned_model_report, tuned_model = hyperparameter_tuning(X_train, y_train, X_test, y_test, models, params_grid)\n",
    "\n",
    "print(tuned_model_report)"
   ]
  },
  {
   "cell_type": "code",
   "execution_count": null,
   "id": "8be55b06",
   "metadata": {
    "execution": {
     "iopub.execute_input": "2025-01-13T18:05:02.481904Z",
     "iopub.status.busy": "2025-01-13T18:05:02.481000Z",
     "iopub.status.idle": "2025-01-13T18:05:02.493808Z",
     "shell.execute_reply": "2025-01-13T18:05:02.492571Z"
    },
    "papermill": {
     "duration": 0.085847,
     "end_time": "2025-01-13T18:05:02.495606",
     "exception": false,
     "start_time": "2025-01-13T18:05:02.409759",
     "status": "completed"
    },
    "tags": []
   },
   "outputs": [
    {
     "name": "stdout",
     "output_type": "stream",
     "text": [
      "Tuned model report saved to 'tuned_model_report.json'\n"
     ]
    }
   ],
   "source": [
    "def model_to_str(model):\n",
    "    if hasattr(model, 'estimator'):  \n",
    "        return f\"{type(model).__name__}(estimator={type(model.estimator).__name__})\"\n",
    "    return str(type(model).__name__) \n",
    "serializable_report = {}\n",
    "\n",
    "for model_name, metrics in tuned_model_report.items():\n",
    "    serializable_report[model_name] = {\n",
    "        'model_type': model_to_str(models[model_name]),  \n",
    "        'train_accuracy': metrics['train_accuracy'],\n",
    "        'test_accuracy': metrics['test_accuracy'],\n",
    "        'train_precision_pos_class': metrics['train_precision_pos_class'],\n",
    "        'test_precision_pos_class': metrics['test_precision_pos_class'],\n",
    "        'train_recall_pos_class': metrics['train_recall_pos_class'],\n",
    "        'test_recall_pos_class': metrics['test_recall_pos_class'],\n",
    "        'train_f1_pos_class': metrics['train_f1_pos_class'],\n",
    "        'test_f1_pos_class': metrics['test_f1_pos_class'],\n",
    "        'test_classification_report': metrics['test_classification_report'],\n",
    "        'test_confusion_matrix': metrics['test_confusion_matrix'],\n",
    "        'best_params': metrics['best_params'],\n",
    "    }\n",
    "\n",
    "\n",
    "with open('tuned_model_report.json', 'w') as json_file:\n",
    "    json.dump(serializable_report, json_file, indent=4)\n",
    "\n",
    "print(\"Tuned model report saved to 'tuned_model_report.json'\")"
   ]
  },
  {
   "cell_type": "code",
   "execution_count": null,
   "id": "c6300ab9",
   "metadata": {
    "execution": {
     "iopub.execute_input": "2025-01-13T18:05:02.824806Z",
     "iopub.status.busy": "2025-01-13T18:05:02.824407Z",
     "iopub.status.idle": "2025-01-13T18:12:23.259239Z",
     "shell.execute_reply": "2025-01-13T18:12:23.257370Z"
    },
    "papermill": {
     "duration": 440.515675,
     "end_time": "2025-01-13T18:12:23.261567",
     "exception": false,
     "start_time": "2025-01-13T18:05:02.745892",
     "status": "completed"
    },
    "tags": []
   },
   "outputs": [
    {
     "name": "stderr",
     "output_type": "stream",
     "text": [
      "100%|===================| 1111116/1111438 [07:21<00:00]       "
     ]
    }
   ],
   "source": [
    "explainer = shap.Explainer(tuned_model, X_test)\n",
    "shap_values = explainer(X_test, check_additivity=False)"
   ]
  },
  {
   "cell_type": "code",
   "execution_count": 79,
   "id": "0fd9f467",
   "metadata": {
    "execution": {
     "iopub.execute_input": "2025-01-13T18:12:23.408701Z",
     "iopub.status.busy": "2025-01-13T18:12:23.408228Z",
     "iopub.status.idle": "2025-01-13T18:12:23.413998Z",
     "shell.execute_reply": "2025-01-13T18:12:23.412863Z"
    },
    "papermill": {
     "duration": 0.082405,
     "end_time": "2025-01-13T18:12:23.415881",
     "exception": false,
     "start_time": "2025-01-13T18:12:23.333476",
     "status": "completed"
    },
    "tags": []
   },
   "outputs": [],
   "source": [
    "positive_class_index = 1"
   ]
  },
  {
   "cell_type": "code",
   "execution_count": null,
   "id": "465901d3",
   "metadata": {
    "execution": {
     "iopub.execute_input": "2025-01-13T18:12:24.668571Z",
     "iopub.status.busy": "2025-01-13T18:12:24.668179Z",
     "iopub.status.idle": "2025-01-13T18:12:24.768466Z",
     "shell.execute_reply": "2025-01-13T18:12:24.767205Z"
    },
    "papermill": {
     "duration": 0.175171,
     "end_time": "2025-01-13T18:12:24.770313",
     "exception": false,
     "start_time": "2025-01-13T18:12:24.595142",
     "status": "completed"
    },
    "tags": []
   },
   "outputs": [
    {
     "name": "stdout",
     "output_type": "stream",
     "text": [
      "Class probabilities: [1. 0.]\n"
     ]
    }
   ],
   "source": [
    "redictions = tuned_model.predict_proba(X_test)\n",
    "\n",
    "print(f\"Class probabilities: {predictions[0]}\")"
   ]
  },
  {
   "cell_type": "code",
   "execution_count": null,
   "id": "38f2b490",
   "metadata": {
    "execution": {
     "iopub.execute_input": "2025-01-13T18:13:08.219340Z",
     "iopub.status.busy": "2025-01-13T18:13:08.218923Z",
     "iopub.status.idle": "2025-01-13T18:13:08.260826Z",
     "shell.execute_reply": "2025-01-13T18:13:08.259761Z"
    },
    "papermill": {
     "duration": 0.123817,
     "end_time": "2025-01-13T18:13:08.262764",
     "exception": false,
     "start_time": "2025-01-13T18:13:08.138947",
     "status": "completed"
    },
    "tags": []
   },
   "outputs": [
    {
     "name": "stdout",
     "output_type": "stream",
     "text": [
      "Transaction Status: Normal Transaction\n",
      "Prediction Probabilities:\n",
      "Normal Transaction Probability: 100.00%\n",
      "Fraud Probability: 0.00%\n"
     ]
    }
   ],
   "source": [
    "user_data = {\n",
    "    'Unnamed: 0': [None],  \n",
    "    'trans_date_trans_time': ['2025-01-06 10:15:00'],  \n",
    "    'cc_num': [None],  \n",
    "    'merchant': [None],  \n",
    "    'category': ['health_fitness'],  \n",
    "    'amt': [250.75],  \n",
    "    'first': [None],  \n",
    "    'last': [None],  \n",
    "    'gender': ['M'],  \n",
    "    'street': [None],  \n",
    "    'city': [None],  \n",
    "    'state': [None],  \n",
    "    'zip': [None],  \n",
    "    'lat': [40.7128],  \n",
    "    'long': [-74.0060],  \n",
    "    'city_pop': [8419600],  \n",
    "    'job': [None],  \n",
    "    'dob': ['1990-01-01'],  \n",
    "    'trans_num': [None],  \n",
    "    'unix_time': [None],  \n",
    "    'merch_lat': [40.7150],  \n",
    "    'merch_long': [-74.0110]  \n",
    "}\n",
    "\n",
    "user_input_df = pd.DataFrame(user_data)\n",
    "\n",
    "user_input_df_preprocessed = preprocessor_loaded.transform(user_input_df)\n",
    "\n",
    "outcome = tuned_model.predict(user_input_df_preprocessed)[0]  # Get the single prediction\n",
    "outcome_prob = tuned_model.predict_proba(user_input_df_preprocessed)[0]  # Get probabilities for the prediction\n",
    "\n",
    "if outcome == 1:\n",
    "    print(\"Transaction Status: Fraud\")\n",
    "else:\n",
    "    print(\"Transaction Status: Normal Transaction\")\n",
    "\n",
    "print(\"Prediction Probabilities:\")\n",
    "print(f\"Normal Transaction Probability: {outcome_prob[0]:.2%}\")\n",
    "print(f\"Fraud Probability: {outcome_prob[1]:.2%}\")"
   ]
  }
 ],
 "metadata": {
  "kaggle": {
   "accelerator": "none",
   "dataSources": [
    {
     "datasetId": 817870,
     "sourceId": 1399887,
     "sourceType": "datasetVersion"
    }
   ],
   "dockerImageVersionId": 30822,
   "isGpuEnabled": false,
   "isInternetEnabled": true,
   "language": "python",
   "sourceType": "notebook"
  },
  "kernelspec": {
   "display_name": "venv_11",
   "language": "python",
   "name": "python3"
  },
  "language_info": {
   "codemirror_mode": {
    "name": "ipython",
    "version": 3
   },
   "file_extension": ".py",
   "mimetype": "text/x-python",
   "name": "python",
   "nbconvert_exporter": "python",
   "pygments_lexer": "ipython3",
   "version": "3.10.12"
  },
  "papermill": {
   "default_parameters": {},
   "duration": 1267.614793,
   "end_time": "2025-01-13T18:13:11.678022",
   "environment_variables": {},
   "exception": null,
   "input_path": "__notebook__.ipynb",
   "output_path": "__notebook__.ipynb",
   "parameters": {},
   "start_time": "2025-01-13T17:52:04.063229",
   "version": "2.6.0"
  }
 },
 "nbformat": 4,
 "nbformat_minor": 5
}
